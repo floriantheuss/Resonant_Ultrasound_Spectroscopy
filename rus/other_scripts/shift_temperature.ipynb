{
 "cells": [
  {
   "cell_type": "code",
   "execution_count": 1,
   "metadata": {},
   "outputs": [],
   "source": [
    "import numpy as np\n",
    "import matplotlib.pyplot as plt\n",
    "import os.path\n",
    "import os\n",
    "from scipy.interpolate import interp1d\n",
    "from scipy.signal import butter,filtfilt\n",
    "from scipy.optimize import  curve_fit\n",
    "from scipy import interpolate\n",
    "from scipy import odr\n",
    "\n",
    "%run python_master.py\n",
    "%matplotlib qt "
   ]
  },
  {
   "cell_type": "markdown",
   "metadata": {},
   "source": [
    "# Imort frequency files"
   ]
  },
  {
   "cell_type": "code",
   "execution_count": 3,
   "metadata": {},
   "outputs": [
    {
     "output_type": "execute_result",
     "data": {
      "text/plain": [
       "['1923_no_outliers_cooling_210324_clean.dat',\n",
       " '2272_no_outliers_cooling_210305_clean.dat',\n",
       " '2273_no_outliers_cooling_210325_clean.dat']"
      ]
     },
     "metadata": {},
     "execution_count": 3
    }
   ],
   "source": [
    "folder = \"C:\\\\Users\\\\Florian\\\\Box Sync\\\\Projects\"\n",
    "project = \"\\\\Mn3X\\\\Mn3.1Sn0.89\\\\RUS\\\\2010A\\\\good_data\\\\shift\"\n",
    "# project = \"\\\\Mn3X\\\\Mn3.019Sn0.981\\\\RUS\\\\2007A\\\\good_data\\\\bad\"\n",
    "\n",
    "data_files = os.listdir(folder+project)\n",
    "data_files = [i for i in data_files if i[-4:]=='.dat']\n",
    "filenames = [folder + project + '\\\\' + i for i in data_files[:]]\n",
    "data_files"
   ]
  },
  {
   "cell_type": "code",
   "execution_count": 4,
   "metadata": {},
   "outputs": [],
   "source": [
    "T = []\n",
    "f = []\n",
    "g = []\n",
    "Tint = np.linspace(427.5, 429.5, 170)\n",
    "fint = []\n",
    "gint = []\n",
    "for file in filenames:\n",
    "    data = data_extract(file)\n",
    "    Ti = data.import_data(1,2)[0]\n",
    "    fi = data.import_data(1,2)[1]\n",
    "    # gi = data.import_data(1,3)[2]\n",
    " \n",
    "    # g.append(gi[np.argsort(Ti)])\n",
    "    f.append(fi[np.argsort(Ti)])\n",
    "    T.append(np.sort(Ti))\n",
    "\n",
    "    fint.append( interp1d(Ti, fi, kind='linear')(Tint) )\n",
    "    # gint.append( interp1d(Ti, gi, kind='linear')(Tint) )"
   ]
  },
  {
   "cell_type": "code",
   "execution_count": 5,
   "metadata": {},
   "outputs": [],
   "source": [
    "der = [np.gradient(F) for F in fint]\n",
    "Tmin = 427.5\n",
    "Tmax = 429.5\n",
    "mask = [(t>Tmin)&(t<Tmax) for t in T]\n",
    "for ii, t in enumerate(T):\n",
    "    plt.plot( t[mask[ii]], (f[ii][mask[ii]]-max(f[ii][mask[ii]]))/(max(f[ii][mask[ii]])-min(f[ii][mask[ii]])) + ii )\n",
    "    plt.plot( Tint, (der[ii]-max(der[ii]))/(max(der[ii])-min(der[ii])) + ii )"
   ]
  },
  {
   "cell_type": "code",
   "execution_count": 6,
   "metadata": {},
   "outputs": [],
   "source": [
    "Tmin = 427.5\n",
    "Tmax = 429.5\n",
    "maskint = (Tint>Tmin)&(Tint<Tmax)\n",
    "\n",
    "maxT = []\n",
    "maskfit = []\n",
    "# Tfit = []\n",
    "for ii, _ in enumerate(T):\n",
    "    # ti = t[mask[ii]]\n",
    "    deri = der[ii][maskint]\n",
    "    ti = Tint[maskint]\n",
    "    dermax = max(deri)\n",
    "    index = ( np.abs( deri - dermax ) == 0 )\n",
    "    tmax = ti[index][0]\n",
    "    maxT.append(tmax)\n",
    "    fitmask = (Tint>tmax-0.3)&(Tint<tmax+0.3)\n",
    "    maskfit.append( fitmask )\n",
    "    # Tfit.append(np.linspace(tmax-0.3, tmax+0.3, 1000))\n",
    "\n",
    "fit = []\n",
    "degree = 2\n",
    "\n",
    "maxTemps = []\n",
    "for ii, t in enumerate(T):\n",
    "    fitii = ( np.polyval( np.polyfit(Tint[maskfit[ii]], der[ii][maskfit[ii]], degree), Tint[maskfit[ii]] ) )\n",
    "    fit.append(fitii)\n",
    "\n",
    "    index = ( np.abs( fitii - max(fitii) ) == 0 )\n",
    "    maxTemps.append(np.mean(Tint[maskfit[ii]][index]))\n",
    "\n",
    "\n",
    "for ii, t in enumerate(T):\n",
    "    plt.plot( t[mask[ii]], (f[ii][mask[ii]]-max(f[ii][mask[ii]]))/(max(f[ii][mask[ii]])-min(f[ii][mask[ii]])) + ii )\n",
    "    plt.plot( Tint, (der[ii]-max(der[ii]))/(max(der[ii])-min(der[ii])) + ii )\n",
    "    plt.plot ( Tint[maskfit[ii]], (fit[ii]-max(der[ii]))/(max(der[ii])-min(der[ii])) + ii )\n",
    "    # plt.plot ( Tfit[ii], (fit[ii]-max(fit[ii]))/(max(fit[ii])-min(fit[ii])) + ii)"
   ]
  },
  {
   "cell_type": "code",
   "execution_count": 7,
   "metadata": {},
   "outputs": [],
   "source": [
    "Tright = maxTemps[0]\n",
    "Tshift = np.array(maxTemps) - Tright\n",
    "T_shifted = [t-Tshift[ii] for ii,t in enumerate(T)]"
   ]
  },
  {
   "cell_type": "code",
   "execution_count": 8,
   "metadata": {},
   "outputs": [],
   "source": [
    "for ii, t in enumerate(T_shifted):\n",
    "    plt.plot( t[mask[ii]], (f[ii][mask[ii]]-max(f[ii][mask[ii]]))/(max(f[ii][mask[ii]])-min(f[ii][mask[ii]])) + ii )\n",
    "    # plt.plot( t[mask[ii]], (der[ii][mask[ii]]-max(der[ii][mask[ii]]))/(max(der[ii][mask[ii]])-min(der[ii][mask[ii]])) + ii )"
   ]
  },
  {
   "cell_type": "code",
   "execution_count": null,
   "metadata": {},
   "outputs": [],
   "source": []
  },
  {
   "cell_type": "markdown",
   "metadata": {},
   "source": [
    "# save data"
   ]
  },
  {
   "cell_type": "code",
   "execution_count": 9,
   "metadata": {},
   "outputs": [],
   "source": [
    "for ii, file in enumerate(filenames):\n",
    "    save_filename = file[:-4] + '_shifted.dat'\n",
    "    if os.path.isfile(save_filename) == True:\n",
    "        x='w'\n",
    "    else:\n",
    "        x='x'\n",
    "    \n",
    "    with open(save_filename, x) as clean:\n",
    "        clean.write('T (K)\\tf (kHz)\\twidth (kHz)\\n ')\n",
    "        for i in np.arange(len(f[ii])-1):\n",
    "            # clean.write(str(T_shifted[ii][i]) + '\\t' + str(f[ii][i]) + '\\t' + str(g[ii][i]) + '\\n')\n",
    "            clean.write(str(T_shifted[ii][i]) + '\\t' + str(f[ii][i]) + '\\n')"
   ]
  },
  {
   "cell_type": "code",
   "execution_count": null,
   "metadata": {},
   "outputs": [],
   "source": []
  },
  {
   "cell_type": "code",
   "execution_count": null,
   "metadata": {},
   "outputs": [],
   "source": []
  }
 ],
 "metadata": {
  "kernelspec": {
   "name": "python37364bitbase088a59a1a2634e699b9df2a4344ce5b1",
   "display_name": "Python 3.7.10 64-bit ('Program Files': virtualenv)"
  },
  "language_info": {
   "codemirror_mode": {
    "name": "ipython",
    "version": 3
   },
   "file_extension": ".py",
   "mimetype": "text/x-python",
   "name": "python",
   "nbconvert_exporter": "python",
   "pygments_lexer": "ipython3",
   "version": "3.7.10"
  },
  "metadata": {
   "interpreter": {
    "hash": "780e223e49c598b4aa82d8318c6f1e6744c8b409488091a69e61e480bdf1c54b"
   }
  }
 },
 "nbformat": 4,
 "nbformat_minor": 4
}