{
 "cells": [
  {
   "cell_type": "code",
   "execution_count": 1,
   "metadata": {
    "tags": []
   },
   "outputs": [],
   "source": [
    "import numpy as np\n",
    "import matplotlib.pyplot as plt\n",
    "import os.path\n",
    "import os\n",
    "from scipy.interpolate import interp1d\n",
    "from scipy.signal import butter,filtfilt\n",
    "from scipy.optimize import curve_fit\n",
    "from scipy import odr\n",
    "\n",
    "%run python_master.py\n",
    "%matplotlib qt"
   ]
  },
  {
   "cell_type": "code",
   "execution_count": 20,
   "metadata": {},
   "outputs": [
    {
     "output_type": "execute_result",
     "data": {
      "text/plain": [
       "'1677kHz_up_clean.dat'"
      ]
     },
     "metadata": {},
     "execution_count": 20
    }
   ],
   "source": [
    "folder = \"C:\\\\Users\\\\Florian\\\\Box Sync\\\\Projects\"\n",
    "projectPLL = \"\\\\UTe2\\\\RUS\\\\UTe2_2007C\\\\PLL\\\\good data\"\n",
    "\n",
    "data_files = os.listdir(folder+projectPLL)\n",
    "data_files = [i for i in data_files if i[-4:]=='.dat']\n",
    "filenames = [folder + projectPLL + '\\\\' + i for i in data_files[:]]\n",
    "data_files[7]"
   ]
  },
  {
   "cell_type": "code",
   "execution_count": 21,
   "metadata": {},
   "outputs": [],
   "source": [
    "filenamePLL = filenames[7]\n",
    "dataPLL = data_extract(filenamePLL)\n",
    "TPLL = dataPLL.import_data(1)[0]\n",
    "fPLL = dataPLL.import_data(1)[1]\n",
    "\n",
    "\n",
    "fPLL = fPLL[np.argsort(TPLL)]\n",
    "TPLL = np.sort(TPLL)"
   ]
  },
  {
   "cell_type": "code",
   "execution_count": 22,
   "metadata": {},
   "outputs": [
    {
     "output_type": "execute_result",
     "data": {
      "text/plain": [
       "[<matplotlib.lines.Line2D at 0x23e00426a20>]"
      ]
     },
     "metadata": {},
     "execution_count": 22
    }
   ],
   "source": [
    "plt.figure(figsize=(12,7))\n",
    "plt.plot(TPLL[(TPLL>0)&(TPLL<2)], fPLL[(TPLL>0)&(TPLL<2)])"
   ]
  },
  {
   "cell_type": "code",
   "execution_count": 28,
   "metadata": {},
   "outputs": [
    {
     "output_type": "execute_result",
     "data": {
      "text/plain": [
       "['1667_mo.dat',\n",
       " '1667_mo_2.dat',\n",
       " '1667_mo_3.dat',\n",
       " '1667_mo_4.dat',\n",
       " '1683_mo.dat',\n",
       " '1683_mo_2.dat',\n",
       " '1708_mo.dat',\n",
       " '1708_mo_2.dat',\n",
       " '1708_mo_3.dat',\n",
       " '1708_mo_4.dat']"
      ]
     },
     "metadata": {},
     "execution_count": 28
    }
   ],
   "source": [
    "folder = \"C:\\\\Users\\\\Florian\\\\Box Sync\\\\Projects\"\n",
    "project = \"\\\\UTe2\\\\RUS\\\\UTe2_2007C\\\\Red Pitaya\\\\201111\\\\monitor_2\"\n",
    "\n",
    "data_files = os.listdir(folder+project)\n",
    "data_files = [i for i in data_files if i[-4:]=='.dat']\n",
    "filenames1 = [folder + project + '\\\\' + i for i in data_files[:]]\n",
    "data_files"
   ]
  },
  {
   "cell_type": "code",
   "execution_count": 29,
   "metadata": {},
   "outputs": [],
   "source": [
    "T = []\n",
    "f = []\n",
    "for name in filenames1:\n",
    "    data = data_extract(name)\n",
    "    T1 = data.import_data(1, 2)[0]\n",
    "    f1 = data.import_data(1, 2)[1]\n",
    "    f1 = f1[np.argsort(T1)]\n",
    "    T1 = np.sort(T1)\n",
    "    T.append(T1)\n",
    "    f.append(f1)\n",
    "T = np.array(T)\n",
    "f = np.array(f)"
   ]
  },
  {
   "cell_type": "code",
   "execution_count": 30,
   "metadata": {
    "tags": []
   },
   "outputs": [
    {
     "output_type": "execute_result",
     "data": {
      "text/plain": [
       "<matplotlib.legend.Legend at 0x23e00203390>"
      ]
     },
     "metadata": {},
     "execution_count": 30
    }
   ],
   "source": [
    "plt.figure(figsize=(12,7))\n",
    "\n",
    "# for i in np.arange(len(f)):\n",
    "for i in [0, 1, 2, 3]:\n",
    "    plt.scatter(T[i], f[i]-f[i][0]+f[0][0], label=str(i+1), s=50)\n",
    "\n",
    "\n",
    "plt.plot(TPLL, (fPLL-fPLL[0])/1000+f[1][0], c='purple', linewidth=7, zorder=-1)\n",
    "\n",
    "#plt.legend(fontsize=15)\n",
    "plt.tick_params(axis=\"both\",direction=\"in\", labelsize=18, bottom='True', top='True', left='True', right='True', length=4, width=1, which = 'major')\n",
    "plt.xlabel('T (K)',fontsize=20)\n",
    "plt.ylabel('f (kHz)',fontsize=20)\n",
    "plt.tick_params(axis=\"both\",direction=\"in\", labelsize=18, bottom='True', top='True', left='True', right='True', length=4, width=1, which = 'major')\n",
    "plt.legend(fontsize=18)"
   ]
  },
  {
   "cell_type": "code",
   "execution_count": 21,
   "metadata": {},
   "outputs": [
    {
     "output_type": "execute_result",
     "data": {
      "text/plain": [
       "2420.47391"
      ]
     },
     "metadata": {},
     "execution_count": 21
    }
   ],
   "source": [
    "f[0][0]"
   ]
  },
  {
   "cell_type": "code",
   "execution_count": null,
   "metadata": {},
   "outputs": [],
   "source": []
  }
 ],
 "metadata": {
  "language_info": {
   "codemirror_mode": {
    "name": "ipython",
    "version": 3
   },
   "file_extension": ".py",
   "mimetype": "text/x-python",
   "name": "python",
   "nbconvert_exporter": "python",
   "pygments_lexer": "ipython3",
   "version": "3.7.3-final"
  },
  "orig_nbformat": 2,
  "kernelspec": {
   "name": "python3",
   "display_name": "Python 3"
  }
 },
 "nbformat": 4,
 "nbformat_minor": 2
}