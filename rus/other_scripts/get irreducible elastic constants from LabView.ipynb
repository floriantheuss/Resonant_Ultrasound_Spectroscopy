{
 "cells": [
  {
   "cell_type": "code",
   "execution_count": 2,
   "source": [
    "import numpy as np\r\n",
    "import matplotlib.pyplot as plt\r\n",
    "import os.path\r\n",
    "import os\r\n",
    "from scipy.interpolate import interp1d\r\n",
    "from scipy.signal import butter,filtfilt\r\n",
    "from scipy.optimize import curve_fit\r\n",
    "from scipy import odr\r\n",
    "\r\n",
    "#%matplotlib inline \r\n",
    "\r\n",
    "%matplotlib qt\r\n",
    "%run Functions_for_RUS_LabView.ipynb"
   ],
   "outputs": [],
   "metadata": {}
  },
  {
   "cell_type": "markdown",
   "source": [
    "# Import data"
   ],
   "metadata": {}
  },
  {
   "cell_type": "markdown",
   "source": [
    "Select folder/ filepath where data files are located"
   ],
   "metadata": {}
  },
  {
   "cell_type": "code",
   "execution_count": 3,
   "source": [
    "folder = \"C:\\\\Users\\\\Florian\\\\Box Sync\\\\Projects\"\r\n",
    "project = \"\\\\Mn3X\\\\Mn3Ge\\\\RUS\\\\Mn3Ge_2001B\\\\temp_dependent_data_with_Labview\\\\improved_setup\\\\good_data\"\r\n",
    "# project = \"\\\\Mn3X\\\\Mn3Ge\\\\RUS\\\\Mn3Ge_2001B\\\\temp_dependent_data_with_Labview\\\\improved_setup\\\\new_data\"\r\n",
    "# project = \"\\\\Mn3X\\\\Mn3.019Sn0.981\\\\RUS\\\\2007A\\\\good_data\"\r\n",
    "# project = \"\\\\Mn3X\\\\Mn3.1Sn0.89\\\\RUS\\\\2010A\\\\good_data\"\r\n",
    "# project = \"\\\\Mn3X\\\\Mn3.1Sn0.89\\\\RUS\\\\2010A\\\\good_data\\\\questionable_data\"\r\n",
    "project = \"/UTe2/RUS/UTe2_2007C/PLL/good data\"\r\n",
    "# project = \"/UTe2/RUS/UTe2_2007C/Red Pitaya/good_data\"\r\n",
    "# project = \"/UTe2/RUS/UTe2_2007A/PLL/good_data\"\r\n",
    "\r\n",
    "\r\n",
    "data_files = os.listdir(folder+project)\r\n",
    "data_files = [i for i in data_files if i[-4:]=='.dat']\r\n",
    "np.array(data_files)"
   ],
   "outputs": [
    {
     "output_type": "execute_result",
     "data": {
      "text/plain": [
       "array(['1035kHz_down.dat', '1150kHz_down_clean.dat',\n",
       "       '1221kHz_up_clean.dat', '1275kHz_up_clean.dat', '1355kHz_down.dat',\n",
       "       '1428kHz_down_clean.dat', '1508kHz_down_clean.dat',\n",
       "       '1677kHz_up_clean.dat', '1702kHz_up_clean.dat',\n",
       "       '1805kHz_up_clean.dat', '1894kHz_up_clean.dat',\n",
       "       '1968kHz_down_clean.dat', '2003kHz_up_clean.dat',\n",
       "       '2096kHz_up_clean.dat', '2176kHz_down.dat', '2234kHz_up_clean.dat',\n",
       "       '2322kHz_down_clean.dat', '2338kHz_up.dat',\n",
       "       '2367kHz_down_clean.dat', '2420kHz_down.dat',\n",
       "       '2454kHz_up_clean.dat', '2475kHz_up_clean.dat', '2502kHz_up.dat',\n",
       "       '2522kHz_up_clean.dat', '2578kHz_down_clean.dat', '2585kHz_up.dat',\n",
       "       '2641kHz_up_clean.dat', '2663kHz_up_clean.dat', '2706kHz_down.dat',\n",
       "       '2750kHz_down.dat', '2791kHz_down.dat', '2824kHz_up_clean.dat',\n",
       "       '2865kHz_up.dat', '2919kHz_down.dat', '3091kHz_up_clean.dat',\n",
       "       '3107kHz_up.dat', '3397kHz_up_clean.dat', '909kHz_up_clean.dat'],\n",
       "      dtype='<U22')"
      ]
     },
     "metadata": {},
     "execution_count": 3
    }
   ],
   "metadata": {}
  },
  {
   "cell_type": "markdown",
   "source": [
    "## actually import data\n",
    "(you usually don't have to change anything here)"
   ],
   "metadata": {}
  },
  {
   "cell_type": "code",
   "execution_count": 4,
   "source": [
    "filenames = [folder + project + '\\\\' + i for i in data_files[:]]\r\n",
    "Traw = []\r\n",
    "fraw = []\r\n",
    "gammaraw = []\r\n",
    "\r\n",
    "for name in filenames:\r\n",
    "    individual_data = []\r\n",
    "    # T, f, gamma = import_data(name, 1, 3)\r\n",
    "    T, f = import_data(name, 1, 2)\r\n",
    "    Traw.append(np.array(T))\r\n",
    "    fraw.append(np.array(f))\r\n",
    "    # gammaraw.append(np.array(gamma))\r\n",
    "    \r\n",
    "# write data into seperate arrays for temperature \"T\" and frequency \"f\"\r\n",
    "Traw = np.array(Traw) # temperature in K\r\n",
    "fraw = np.array(fraw) # frequencies in kHz\r\n",
    "# gammaraw = np.array(gammaraw) # resonance widths in kHz"
   ],
   "outputs": [
    {
     "output_type": "stream",
     "name": "stderr",
     "text": [
      "C:\\Users\\Florian\\AppData\\Local\\Temp/ipykernel_11956/3025582150.py:15: VisibleDeprecationWarning: Creating an ndarray from ragged nested sequences (which is a list-or-tuple of lists-or-tuples-or ndarrays with different lengths or shapes) is deprecated. If you meant to do this, you must specify 'dtype=object' when creating the ndarray.\n",
      "  Traw = np.array(Traw) # temperature in K\n",
      "C:\\Users\\Florian\\AppData\\Local\\Temp/ipykernel_11956/3025582150.py:16: VisibleDeprecationWarning: Creating an ndarray from ragged nested sequences (which is a list-or-tuple of lists-or-tuples-or ndarrays with different lengths or shapes) is deprecated. If you meant to do this, you must specify 'dtype=object' when creating the ndarray.\n",
      "  fraw = np.array(fraw) # frequencies in kHz\n"
     ]
    }
   ],
   "metadata": {}
  },
  {
   "cell_type": "code",
   "execution_count": 5,
   "source": [
    "# #folder = \"C:\\\\Users\\\\j111\\\\Box Sync\\\\Projects\"\r\n",
    "# folder = \"C:\\\\Users\\\\Florian\\\\Box Sync\\\\Projects\"\r\n",
    "# project = \"\\\\Mn3Ge\\\\RUS\\\\sample_with_green_face_from_010920\\\\raw_data.txt\"\r\n",
    "# text = 'None'\r\n",
    "# data = []\r\n",
    "# for i in np.arange(len(Traw)):\r\n",
    "#     data.append(Traw[i])\r\n",
    "#     data.append(fraw[i])\r\n",
    "#     data.append(gammaraw[i])\r\n",
    "# save(data, text, folder+project)"
   ],
   "outputs": [],
   "metadata": {}
  },
  {
   "cell_type": "code",
   "execution_count": 4,
   "source": [
    "Tmin = 1.25\r\n",
    "Tmax = 1.9\r\n",
    "# Tmin = 407\r\n",
    "# Tmax = 425\r\n",
    "# Tmin = 355\r\n",
    "# Tmax = 395\r\n",
    "# Tmin = 395\r\n",
    "# Tmax = 465\r\n",
    "mask = np.array([(i > Tmin) & (i < Tmax) for i in Traw])\r\n",
    "labels = ([str(np.round(i[-1], 0))[:-2]+' kHz' for i in fraw])\r\n",
    "\r\n",
    "\r\n",
    "shift = [0, -0.1, -.7, 0, 0, 0, 0, 0]\r\n",
    "shift = [8, 8, 6, 5, 4, 3, 2, 3, -3.5]\r\n",
    "\r\n",
    "plt.figure(figsize=(9.5,7))\r\n",
    "\r\n",
    "palette = plt.get_cmap('viridis')\r\n",
    "for i in np.arange(len(Traw)):\r\n",
    "    plt.scatter(Traw[i][mask[i]], fraw[i][mask[i]]*1e3, s=70, color=palette(i/(len(Traw)-1)), label=labels[i])\r\n",
    "    # plt.plot(Traw[i][mask[i]], fraw[i][mask[i]], color=palette(i/(len(Traw)-1)), label=labels[i])#, linewidth=5)\r\n",
    "    \r\n",
    "plt.xlabel('T (K)',fontsize=22)\r\n",
    "plt.ylabel('f (Hz)',fontsize=22)\r\n",
    "plt.xlim(Tmin-.01, Tmax+.01)\r\n",
    "#plt.legend(fontsize=18, markerscale=8)\r\n",
    "plt.tick_params(axis=\"both\",direction=\"in\", labelsize=20, bottom='True', top='True', left='True', right='True', \r\n",
    "                length=4, width=1, which = 'major')\r\n",
    "\r\n",
    "plt.show()"
   ],
   "outputs": [
    {
     "output_type": "stream",
     "name": "stderr",
     "text": [
      "C:\\Users\\Florian\\AppData\\Local\\Temp/ipykernel_12108/3316538964.py:9: VisibleDeprecationWarning: Creating an ndarray from ragged nested sequences (which is a list-or-tuple of lists-or-tuples-or ndarrays with different lengths or shapes) is deprecated. If you meant to do this, you must specify 'dtype=object' when creating the ndarray.\n",
      "  mask = np.array([(i > Tmin) & (i < Tmax) for i in Traw])\n"
     ]
    }
   ],
   "metadata": {}
  },
  {
   "cell_type": "code",
   "execution_count": 6,
   "source": [
    "# Tmin = 395\r\n",
    "# Tmax = 465\r\n",
    "# # Tmin = 340\r\n",
    "# # Tmax = 400\r\n",
    "# mask = np.array([(i > Tmin) & (i < Tmax) for i in Traw])\r\n",
    "# labels = ([str(np.round(i[-1], 0))[:-2]+' kHz' for i in fraw])\r\n",
    "\r\n",
    "\r\n",
    "# shift = [0, -0.1, -.7, 0, 0, 0, 0, 0]\r\n",
    "# shift = [8, 8, 6, 5, 4, 3, 2, 3, -3.5s]\r\n",
    "\r\n",
    "# plt.figure(figsize=(9.5,7))\r\n",
    "\r\n",
    "# palette = plt.get_cmap('viridis')\r\n",
    "# for i in np.arange(len(Traw)):\r\n",
    "#     # plt.scatter(Traw[i][mask[i]], fraw[i][mask[i]]*1e3, s=70, color=palette(i/(len(Traw)-1)), label=labels[i])\r\n",
    "#     plt.plot(Traw[i][mask[i]], gammaraw[i][mask[i]], color=palette(i/(len(Traw)-1)), label=labels[i], linewidth=5)\r\n",
    "    \r\n",
    "# plt.xlabel('T (K)',fontsize=22)\r\n",
    "# plt.ylabel('$\\\\Gamma$ (Hz)',fontsize=22)\r\n",
    "# plt.xlim(Tmin-.01, Tmax+.01)\r\n",
    "# #plt.legend(fontsize=18, markerscale=8)\r\n",
    "# plt.tick_params(axis=\"both\",direction=\"in\", labelsize=20, bottom='True', top='True', left='True', right='True', \r\n",
    "#                 length=4, width=1, which = 'major')\r\n",
    "\r\n",
    "# plt.show()"
   ],
   "outputs": [],
   "metadata": {}
  },
  {
   "cell_type": "code",
   "execution_count": 7,
   "source": [
    "# Tmin = 1.29\r\n",
    "# Tmax = 1.65\r\n",
    "# Tmin = 407\r\n",
    "# Tmax = 422.5\r\n",
    "# Tmin = 355\r\n",
    "# Tmax = 395\r\n",
    "# Tmin = 395\r\n",
    "# Tmax = 465\r\n",
    "# mask = np.array([(i > Tmin) & (i < Tmax) for i in Traw])\r\n",
    "# # labels = ([str(np.round(i[-1]/1e3, 0))[:-2]+' kHz' for i in fraw])\r\n",
    "# labels = ([str(np.round(i[-1], 0))[:-2]+' kHz' for i in fraw])\r\n",
    "# labels = [ (j, np.round(i[-1], 0) ) for j, i in enumerate(fraw)]\r\n",
    "# # labels = ['most A1g1', 'most A1g2', 'most A1g3', 'most E1g', 'most E2g']\r\n",
    "\r\n",
    "\r\n",
    "# shift = [0, -0.1, -.7, 0, 0, 0, 0, 0]\r\n",
    "# shift = [8, 8, 6, 4.8, 2.8, 2.5, 2.3, 2.3, -3.5]\r\n",
    "# shift = [5, 4.6, 3.5, 1.7, 1.7, 0.5, 0, -2.1]\r\n",
    "# shift = [0, -6, 0, 0, 0, 0, 0]\r\n",
    "# # shift = [0, 3.5, 0, 0, 0, 1.7, 1.3, 0, -0.2, 0, 0]\r\n",
    "# shift = [2*i*1e-5 for i,j in enumerate(fraw)] # for red pitaya\r\n",
    "# shift = [i/20 for i,j in enumerate(fraw)] # for PLL\r\n",
    "\r\n",
    "# plt.figure(figsize=(9.5,7))\r\n",
    "# palette = plt.get_cmap('viridis')\r\n",
    "# k=0\r\n",
    "\r\n",
    "# for i in np.arange(len(Traw)):\r\n",
    "#     plt.scatter(Traw[i][mask[i]], ((fraw[i]-fraw[i][-1])*1e-3)[mask[i]], s=50, color=palette(i/(len(Traw)-1)), label=labels[i])\r\n",
    "#     # plt.plot(Traw[i][mask[i]], ((fraw[i]-fraw[i][-1]))[mask[i]]+shift[k], linewidth=10, color=palette(k/15), label=labels[i])\r\n",
    "#     k=k+1\r\n",
    "\r\n",
    "\r\n",
    "# plt.xlabel('T (K)',fontsize=22)\r\n",
    "# # plt.ylabel('$\\\\mathrm{\\\\Delta f / f}$ $(10^{-5})$',fontsize=22)\r\n",
    "# plt.ylabel('$\\\\mathrm{\\\\Delta f / f}$ $(10^{-5})$',fontsize=22)\r\n",
    "# plt.xlim(Tmin-0.01, Tmax+0.01)\r\n",
    "# plt.legend(fontsize=18, markerscale=2)\r\n",
    "# plt.tick_params(axis=\"both\",direction=\"in\", labelsize=20, bottom='True', top='True', left='True', right='True', \r\n",
    "#                 length=4, width=1, which = 'major')\r\n",
    "\r\n",
    "# # plt.ylim(-1,6)\r\n",
    "# # plt.legend(fontsize=20)\r\n",
    "\r\n",
    "# plt.show()"
   ],
   "outputs": [],
   "metadata": {}
  },
  {
   "cell_type": "code",
   "execution_count": 18,
   "source": [
    "Tmin = 1.29\r\n",
    "Tmax = 1.65\r\n",
    "mask = np.array([(i > Tmin) & (i < Tmax) for i in Traw])\r\n",
    "\r\n",
    "\r\n",
    "plt.figure(figsize=(6,4.5))\r\n",
    "palette = plt.get_cmap('viridis')\r\n",
    "\r\n",
    "k=0\r\n",
    "# # UTe2 Red Pitaya\r\n",
    "# index = [7,8,12,18,22,23,29,37,40,42]\r\n",
    "# shift = [i/5 for i,j in enumerate(index)]\r\n",
    "# shift = [-.2,-.3,.55,.4,1.4,1.2,2.4,3.4,3.6,4]\r\n",
    "# labels = ([str(np.round(i[-1], 0))[:-2]+' kHz' for i in fraw])\r\n",
    "\r\n",
    "# UTe2 PLL\r\n",
    "index = [1,4,5,7,8,10,12,13,17,18,19,21,22,24,26,27,29,31,32,34,36] # this is a preselection of decent resonances\r\n",
    "index = [10,18,19,26,27,36]\r\n",
    "shift = [0, 0.5, .85, 1.05, 2.15, 2.3]\r\n",
    "colors = [0,1,2,3,4,5]\r\n",
    "\r\n",
    "index = [10,18,19,26,27,36]\r\n",
    "shift = [0, 0.5, .85,1.05,2.15,2.3]\r\n",
    "colors = [0,1,2,3,4,5]\r\n",
    "# index = [0, 2, 3, 6] # for UTe2 2007A\r\n",
    "# shift = [-9, -2.2, 0.1, -2.2]\r\n",
    "labels = ([str(np.round(i[-1]/1e3, 0))[:-2]+' kHz' for i in fraw])\r\n",
    "for i in index:\r\n",
    "# for i in np.arange(len(Traw)):\r\n",
    "    # plt.scatter(Traw[i][mask[i]], ((fraw[i]-fraw[i][-1])/fraw[i][-1])[mask[i]]/1e-5 , s=100, color=palette(k/9), label=labels[i])\r\n",
    "    # plt.plot(Traw[i][mask[i]], ((fraw[i]-fraw[i][-1])/fraw[i][-1])[mask[i]]/1e-5 + shift[k], linewidth=10, color=palette(k/(len(index)-1)), label=labels[i])\r\n",
    "    plt.plot(Traw[i][mask[i]], ((fraw[i]-fraw[i][-1])/fraw[i][-1])[mask[i]]/1e-5 + shift[k], linewidth=6, color=palette(colors[k]/5), label=labels[i])\r\n",
    "    # plt.plot(Traw[i][mask[i]], ((fraw[i]-fraw[i][-1])/fraw[i][-1])[mask[i]]/1e-5, linewidth=10, color=palette(k/(len(Traw)-1)), label=labels[i])\r\n",
    "    k+=1\r\n",
    "\r\n",
    "   \r\n",
    "plt.xlabel('T (K)',fontsize=20)\r\n",
    "plt.ylabel('$\\\\mathrm{\\\\Delta f / f}$ $(10^{-5})$',fontsize=20)\r\n",
    "\r\n",
    "plt.xlim(Tmin-0.01, Tmax+0.01)\r\n",
    "plt.ylim(-2.1, 2.6)\r\n",
    "# plt.legend(fontsize=12, markerscale=3, loc=4, handlelength=0.7)\r\n",
    "plt.legend(loc=4, fontsize=12, frameon=False, numpoints=1, markerscale=3, handletextpad=0.7, handlelength=1.5)\r\n",
    "plt.tick_params(axis=\"both\",direction=\"in\", labelsize=18, bottom='True', top='True', left='True', right='True', \r\n",
    "                length=4, width=1, which = 'major')\r\n",
    "\r\n",
    "\r\n",
    "plt.tight_layout()\r\n",
    "\r\n",
    "plt.savefig('six.jpg', dpi=500)\r\n",
    "plt.show()"
   ],
   "outputs": [
    {
     "output_type": "stream",
     "name": "stderr",
     "text": [
      "C:\\Users\\Florian\\AppData\\Local\\Temp/ipykernel_11956/3798056727.py:3: VisibleDeprecationWarning: Creating an ndarray from ragged nested sequences (which is a list-or-tuple of lists-or-tuples-or ndarrays with different lengths or shapes) is deprecated. If you meant to do this, you must specify 'dtype=object' when creating the ndarray.\n",
      "  mask = np.array([(i > Tmin) & (i < Tmax) for i in Traw])\n"
     ]
    }
   ],
   "metadata": {}
  },
  {
   "cell_type": "markdown",
   "source": [
    "# Interpolate the data"
   ],
   "metadata": {}
  },
  {
   "cell_type": "code",
   "execution_count": 9,
   "source": [
    "# this creates interpolated frequency data at the same temperature points in the biggest temperature\r\n",
    "# range possible (all frequency curves have to be measured in at least this temperature range)\r\n",
    "Tmin_int = max([min(t) for t in Traw])\r\n",
    "Tmax_int = min([max(t) for t in Traw])\r\n",
    "n = np.mean(np.array([len(t) for t in Traw]))\r\n",
    "Tint = np.linspace(Tmin_int, Tmax_int, int(n))\r\n",
    "\r\n",
    "fint = []\r\n",
    "gint = []\r\n",
    "# for i in np.arange(len(Traw)):\r\n",
    "#     fi, gi = interpolate(Traw[i], fraw[i], gammaraw[i], Tint, 'linear')\r\n",
    "#     fint.append(fi)\r\n",
    "#     gint.append(gi)\r\n",
    "\r\n",
    "for i in np.arange(len(Traw)):\r\n",
    "    fint.append( interp1d(Traw[i], fraw[i], kind='linear')(Tint) )\r\n",
    "\r\n",
    "fint = np.array(fint)\r\n",
    "dfint = np.array([(i-i[-1]) for i in fint])\r\n",
    "dfofint = np.array([(i-i[-1]/i) for i in fint])\r\n",
    "#gint = np.array(gint)\r\n",
    "\r\n",
    "\r\n",
    "# mask the raw data arrays such that df is zero at the same temperature\r\n",
    "mask_raw = np.array([(i >= Tmin_int) & (i <= Tmax_int) for i in Traw])\r\n",
    "Traw = np.array([Traw[i][mask_raw[i]] for i in np.arange(len(Traw))])\r\n",
    "fraw = np.array([fraw[i][mask_raw[i]] for i in np.arange(len(Traw))])\r\n",
    "dfraw = np.array([(i-i[-1]) for i in fraw])\r\n",
    "dfofraw = np.array([(i-i[-1])/i[-1] for i in fraw])\r\n",
    "#graw = np.array([gammaraw[i][mask_raw[i]] for i in np.arange(len(Traw))])\r\n",
    "\r\n",
    "print('the maximum temperature range is '+str(Tmin_int)+' to '+str(Tmax_int)+' K')"
   ],
   "outputs": [
    {
     "output_type": "stream",
     "name": "stdout",
     "text": [
      "the maximum temperature range is 354.0837 to 394.8479 K\n"
     ]
    }
   ],
   "metadata": {
    "tags": []
   }
  },
  {
   "cell_type": "markdown",
   "source": [
    "# Apply a low-pass filter to the interpolated data"
   ],
   "metadata": {}
  },
  {
   "cell_type": "code",
   "execution_count": 9,
   "source": [
    "# Tlp = Tint\r\n",
    "# flp = np.array([butter_lowpass_filter_ready(f, 2.5) for f in fint])\r\n",
    "# dflp = np.array([(i-i[-1]) for i in flp])\r\n",
    "# dfoflp = np.array([(i-i[-1]/i) for i in flp])"
   ],
   "outputs": [],
   "metadata": {}
  },
  {
   "cell_type": "code",
   "execution_count": 10,
   "source": [
    "Tlp = Tint\r\n",
    "flp = fint\r\n",
    "dflp = dfint\r\n",
    "dfoflp = dfofint"
   ],
   "outputs": [],
   "metadata": {}
  },
  {
   "cell_type": "markdown",
   "source": [
    "# Plot the resulting curves over the raw data to see if it worked"
   ],
   "metadata": {}
  },
  {
   "cell_type": "markdown",
   "source": [
    "### plot the frequency vs T (plots filtered data and raw data)"
   ],
   "metadata": {}
  },
  {
   "cell_type": "code",
   "execution_count": 11,
   "source": [
    "# this just plots the filtered frequency over the raw data\n",
    "\n",
    "# Tmin = 410\n",
    "# Tmax = 420\n",
    "Tmin = 355\n",
    "Tmax = 395\n",
    "# Tmin = 395\n",
    "# Tmax = 465\n",
    "\n",
    "# which frequencies do you want to plot\n",
    "resonances = np.arange(len(flp))\n",
    "#resonances = [0,5,10,12]\n",
    "\n",
    "\n",
    "plt.figure(figsize=(10,7))\n",
    "\n",
    "# make scatter plot of raw data\n",
    "mask_raw = np.array([(i >= Tmin) & (i <= Tmax) for i in Traw])\n",
    "\n",
    "#shift = [.3, 0, .4, -0.3, -1]\n",
    "#index = [1, 3, 5, 9, 13]\n",
    "#shift = 7\n",
    "for i in resonances:\n",
    "    palette = plt.get_cmap('brg')\n",
    "    plt.scatter(Traw[i][mask_raw[i]], dfraw[i][mask_raw[i]], color=palette(i/(len(flp)-1)), s=10)\n",
    "    \n",
    "\n",
    "# make plot of interpolation\n",
    "mask_lp = (Tint >= Tmin) & (Tint <= Tmax)\n",
    "\n",
    "shift = 7\n",
    "for i in resonances:\n",
    "    palette = plt.get_cmap('Set1')\n",
    "    plt.plot(Tlp[mask_lp], dflp[i][mask_lp], color=palette(i/len(flp)), label=(str(round(fraw[i][-1], 1))+', '+str(i)))\n",
    "\n",
    "\n",
    "plt.xlabel('T (K)',fontsize=20)\n",
    "plt.ylabel('$\\mathrm{\\Delta f\\,\\,(kHz)}$',fontsize=20)\n",
    "plt.tick_params(axis=\"both\",direction=\"in\", labelsize=18, bottom='True', top='True', left='True', right='True', \n",
    "                length=4, width=1, which = 'major')\n",
    "\n",
    "#plt.ylim([-40, 20])\n",
    "#plt.xlim(360, 380)\n",
    "\n",
    "plt.legend(loc=(.6, .04), fontsize=17)"
   ],
   "outputs": [
    {
     "output_type": "execute_result",
     "data": {
      "text/plain": [
       "<matplotlib.legend.Legend at 0x147f3f9e908>"
      ]
     },
     "metadata": {},
     "execution_count": 11
    }
   ],
   "metadata": {
    "scrolled": false,
    "tags": []
   }
  },
  {
   "cell_type": "markdown",
   "source": [
    "### plot the width vs T (plots intepolated data and raw data)"
   ],
   "metadata": {}
  },
  {
   "cell_type": "code",
   "execution_count": 12,
   "source": [
    "# # this just plots the interpolated width over the raw data\n",
    "# Tmin = 350\n",
    "# Tmax = 450\n",
    "\n",
    "# # which frequencies do you want to plot\n",
    "# resonances = np.arange(len(fint))\n",
    "# #resonances = [0,5,10,12]\n",
    "\n",
    "# plt.figure(figsize=(10,10))\n",
    "\n",
    "# # make scatter plot of raw data\n",
    "# mask_raw = np.array([(i >= Tmin) & (i <= Tmax) for i in Traw])\n",
    "\n",
    "# shift = 1\n",
    "# for i in resonances:\n",
    "#     palette = plt.get_cmap('brg')\n",
    "#     plt.scatter(Traw[i][mask_raw[i]], graw[i][mask_raw[i]]+shift, s=10, color=palette(i/(len(Traw)-1)))\n",
    "#     shift=shift+1\n",
    "\n",
    "    \n",
    "# # make plot of interpolation\n",
    "# mask_int = (Tint >= Tmin) & (Tint <= Tmax)\n",
    "\n",
    "# shift = 1\n",
    "# for i in resonances:\n",
    "#     palette = plt.get_cmap('Set1')\n",
    "#     plt.plot(Tint[mask_int], gint[i][mask_int]+shift, c=palette(i/(len(gint)-1)), label=(str(round(fint[i][-1], 1))+', '+str(i)) )\n",
    "#     shift=shift+1\n",
    "\n",
    "# plt.xlabel('T (K)',fontsize=15)\n",
    "# plt.ylabel('$\\mathrm{\\Gamma}$ (kHz) ',fontsize=15)\n",
    "# plt.tick_params(axis=\"both\",direction=\"in\", labelsize=15, bottom='True', top='True', left='True', right='True', \n",
    "#                 length=4, width=1, which = 'major')\n",
    "\n",
    "# #plt.ylim(1.5,3)\n",
    "\n",
    "# plt.legend(loc=(.7, .4), fontsize=15)"
   ],
   "outputs": [],
   "metadata": {
    "scrolled": false,
    "tags": []
   }
  },
  {
   "cell_type": "markdown",
   "source": [
    "# Import rpr_out file"
   ],
   "metadata": {
    "collapsed": true,
    "jupyter": {
     "outputs_hidden": true
    }
   }
  },
  {
   "cell_type": "code",
   "execution_count": 13,
   "source": [
    "folder = \"C:\\\\Users\\\\Florian\\\\Box Sync\\\\Projects\"\n",
    "project = \"\\\\Mn3X\\\\Mn3Ge\\\\RUS\\\\Mn3Ge_2001B\\\\high_T_200113\\\\elastic_constants_gradient_fit\\\\rprout.dat\"\n",
    "# project = \"\\\\Mn3.019Sn0.981\\\\RUS\\\\2007A\\\\Mn3.019Sn0.981_2007A_436K_out.dat\"\n",
    "# project = \"\\\\Mn3.019Sn0.981\\\\RUS\\\\2007A\\\\Mn3.019Sn0.981_2007A_441K_out.dat\"\n",
    "# project = \"\\\\Mn3.019Sn0.981\\\\RUS\\\\2007A\\\\Mn3.019Sn0.981_2007A_438K_out.dat\"\n",
    "# project = \"\\\\Mn3X\\\\Mn3.1Sn0.89\\\\RUS\\\\2010A\\\\Mn3.1Sn0.89_2010A_out.txt\"\n",
    "# project = \"\\\\Mn3X\\\\Mn3.1Sn0.89\\\\RUS\\\\2010A\\\\python fits\\\\rprout.dat\"\n",
    "\n",
    "name = folder + project\n",
    "data = []\n",
    "\n",
    "# here you import the a matrix elements allowing for conversion of deltaf/f to deltac/c\n",
    "f = open(name, 'r')\n",
    "for i in np.arange(6):\n",
    "    f.readline()\n",
    "\n",
    "for line in f:\n",
    "    line=line.strip()\n",
    "    line=line.split()\n",
    "    \n",
    "    relevant_data = []\n",
    "\n",
    "    test = 1\n",
    "    if len(line) == 12:\n",
    "        if ( len(line[0]) == 1 or len(line[0]) == 2 ):\n",
    "            for i in [1, 2, 7, 8, 9, 10, 11]:\n",
    "                relevant_data.append(float(line[i]))\n",
    "            \n",
    "            data.append(np.array(relevant_data))\n",
    "            test = test - 1\n",
    "    \n",
    "data = np.array(data)\n",
    "\n",
    "fht_exp = data[:, 0]\n",
    "fht_calc = data[:, 1]\n",
    "# logarithmic derivative dlnf/dlncij\n",
    "# order is c33, c23, c12, c44, c66\n",
    "df_dc = data[:, 2:7]\n",
    "\n",
    "# high temperature elastic constants from RPR fit in GPa\n",
    "# order is the same as for logarithmic derivatives\n",
    "# Cht = [33, 23, 12, 44, 66]\n",
    "data = []\n",
    "\n",
    "f = open(name, 'r')\n",
    "for i in np.arange(6):\n",
    "    f.readline()\n",
    "\n",
    "for line in f:\n",
    "    line=line.strip()\n",
    "    line=line.split()\n",
    "    \n",
    "    if len(line)>0 and np.array(line)[0][0]=='c':\n",
    "        data.append(line)\n",
    "        \n",
    "data = np.array(data)\n",
    "\n",
    "Cht = np.array( [ float(data[1][1]), float(data[2][3]), float(data[0][1])-2*float(data[5][1]), float(data[4][1]), float(data[5][1]) ] )"
   ],
   "outputs": [],
   "metadata": {}
  },
  {
   "cell_type": "code",
   "execution_count": 14,
   "source": [
    "# folder = \"C:\\\\Users\\\\j111\\\\Box Sync\\\\Projects\"\n",
    "# folder = \"C:\\\\Users\\\\Florian\\\\Box Sync\\\\Projects\"\n",
    "# # project = \"\\\\Mn3Ge\\\\RUS\\\\Mn3Ge_2001B\\\\high_T_200113\\\\elastic_constants_gradient_fit\\\\5_um_error\\\\mean.dat\"\n",
    "# # project = \"\\\\Mn3.019Sn0.981\\\\RUS\\\\2007A\\\\Mn3.019Sn0.981_2007A_436K_out.dat\"\n",
    "# # project = \"\\\\Mn3.019Sn0.981\\\\RUS\\\\2007A\\\\Mn3.019Sn0.981_2007A_441K_out.dat\"\n",
    "# # project = \"\\\\Mn3.019Sn0.981\\\\RUS\\\\2007A\\\\Mn3.019Sn0.981_2007A_438K_out.dat\"\n",
    "# project = \"\\\\Mn3X\\\\Mn3.1Sn0.89\\\\RUS\\\\2010A\\\\Mn3.1Sn0.89_2010A_out.txt\"\n",
    "\n",
    "# name = folder + project\n",
    "\n",
    "# data = np.loadtxt(name, dtype=\"float\", comments=\"#\")\n",
    "\n",
    "# fht_exp = data[:, 1]\n",
    "# fht_calc = data[:, 2]\n",
    "# # logarithmic derivative dlnf/dlncij\n",
    "# # order is c11, c12, c13, c33, c44\n",
    "# df_dc = data[:, 3:]\n",
    "\n",
    "# Cht = np.array( [ 124.345, 34.399, 15.081, 140.451, 42.775 ] ) # Mn3.1Sn0.89"
   ],
   "outputs": [],
   "metadata": {}
  },
  {
   "cell_type": "markdown",
   "source": [
    "## Now you have to decide which f(T) curve belongs to which resonance at high T"
   ],
   "metadata": {}
  },
  {
   "cell_type": "code",
   "execution_count": 14,
   "source": [
    "# this gives you the high T frequencies of the f(T) curves\n",
    "label = np.array([round(f[-1],1) for f in flp])\n",
    "print (label)"
   ],
   "outputs": [
    {
     "output_type": "stream",
     "name": "stdout",
     "text": [
      "[1320.4 1362.  1385.4 1454.1 1627.5 1652.9 1668.6 1709.8 1821.  1857.5\n",
      " 1879.4 1908.5 1954.4 2051.1 2725.9 2825.2 2856.7 2871.7]\n"
     ]
    }
   ],
   "metadata": {
    "scrolled": true,
    "tags": []
   }
  },
  {
   "cell_type": "code",
   "execution_count": 15,
   "source": [
    "print([[fht_exp[i], i] for i in np.arange(len(fht_exp))][:50])"
   ],
   "outputs": [
    {
     "output_type": "stream",
     "name": "stdout",
     "text": [
      "[[0.8632903, 0], [1.3159182, 1], [1.3377351, 2], [1.3597448, 3], [1.380895, 4], [1.4513183, 5], [1.6276308, 6], [1.6520975, 7], [1.6675098, 8], [1.706839, 9], [1.8195792, 10], [1.8583015, 11], [1.876659, 12], [1.9052377, 13], [1.9147265, 14], [1.9502579, 15], [2.043762, 16], [2.056432, 17], [2.0737541, 18], [2.1540241, 19], [2.2591281, 20], [2.2678907, 21], [2.2821, 22], [2.2867196, 23], [2.3316123, 24], [2.3534091, 25], [2.397702, 26], [2.4052324, 27], [2.452348, 28], [2.4810884, 29], [2.4957685, 30], [2.5109429, 31], [2.5730035, 32], [2.5871172, 33], [2.6456351, 34], [2.6608291, 35], [2.707036, 36], [2.7189031, 37], [2.7871687, 38], [2.8190637, 39], [2.8537569, 40], [2.8677502, 41], [2.9004674, 42], [3.0049644, 43], [3.027684, 44], [3.0554662, 45], [3.0753968, 46], [3.12169, 47], [3.1539707, 48], [3.1804593, 49]]\n"
     ]
    }
   ],
   "metadata": {
    "tags": []
   }
  },
  {
   "cell_type": "code",
   "execution_count": 38,
   "source": [
    "#n = [1, 3, 4, 5, 6, 7, 8, 9, 10, 11, 12, 13, 15, 16, 18]\n",
    "n = [1, 3, 4, 5, 6, 7, 8, 9, 10, 11, 12, 13, 15, 16, 36, 40, 41, 42] #Mn3Ge\n",
    "# n = [1, 2, 4, 5, 7, 8, 9, 11, 14, 15, 20, 22, 29, 30, 33, 34] #Mn3.019Sn0.981 2007 A\n",
    "# n = [1, 2, 3, 4, 5, 6, 7, 8, 9, 12, 15, 16, 17, 18, 20, 22, 27, 29, 39, 40, 41, 42, 43] # Mn3.1Sn0.89\n",
    "# n = [2, 3, 4, 40, 41, 42, 43, 45] # Mn3.1Sn0.89\n",
    "\n",
    "\n",
    "fht = fht_exp[n]\n",
    "#fht = fht_calc[n] # this is not what I usually want!!!!!!!!!! usually it is fht_exp\n",
    "a = df_dc[n]\n",
    "#ffinal = np.array([ ffinal[i-1] for i in n ])"
   ],
   "outputs": [],
   "metadata": {}
  },
  {
   "cell_type": "code",
   "execution_count": 39,
   "source": [
    "len(n)"
   ],
   "outputs": [
    {
     "output_type": "execute_result",
     "data": {
      "text/plain": [
       "18"
      ]
     },
     "metadata": {},
     "execution_count": 39
    }
   ],
   "metadata": {}
  },
  {
   "cell_type": "code",
   "execution_count": 40,
   "source": [
    "np.array([flp[i, -1] for i in np.arange(len(flp))])"
   ],
   "outputs": [
    {
     "output_type": "execute_result",
     "data": {
      "text/plain": [
       "array([1320.39895333, 1362.0164796 , 1385.35207877, 1454.11494587,\n",
       "       1627.52218663, 1652.86244   , 1668.63128443, 1709.84216505,\n",
       "       1820.98654264, 1857.48802077, 1879.36520281, 1908.47082616,\n",
       "       1954.40964913, 2051.14892277, 2725.9345358 , 2825.21599795,\n",
       "       2856.6818091 , 2871.67900048])"
      ]
     },
     "metadata": {},
     "execution_count": 40
    }
   ],
   "metadata": {}
  },
  {
   "cell_type": "code",
   "execution_count": 41,
   "source": [
    "fht"
   ],
   "outputs": [
    {
     "output_type": "execute_result",
     "data": {
      "text/plain": [
       "array([1.3159182, 1.3597448, 1.380895 , 1.4513183, 1.6276308, 1.6520975,\n",
       "       1.6675098, 1.706839 , 1.8195792, 1.8583015, 1.876659 , 1.9052377,\n",
       "       1.9502579, 2.043762 , 2.707036 , 2.8537569, 2.8677502, 2.9004674])"
      ]
     },
     "metadata": {},
     "execution_count": 41
    }
   ],
   "metadata": {}
  },
  {
   "cell_type": "markdown",
   "source": [
    "# this is where C(T) is calculated"
   ],
   "metadata": {}
  },
  {
   "cell_type": "code",
   "execution_count": 42,
   "source": [
    "CofT = elastic_constants (flp/1000, fht, a, Cht)"
   ],
   "outputs": [],
   "metadata": {}
  },
  {
   "cell_type": "code",
   "execution_count": 43,
   "source": [
    "# order in Cht and thus in CofT is [33, 23, 12, 44, 66]\n",
    "# order in Cirrep is A1g1, A1g2, A1g3, E1g, E2g\n",
    "# order is c11, c12, c13, c33, c44\n",
    "\n",
    "label_irrep = ['A1g,1', 'A1g,2', 'A1g,3', 'E1g', 'E2g'] # this is for the right legend in subsequent plots\n",
    "\n",
    "# Cirrep = np.array([ (CofT[0]+CofT[1])/2, CofT[3], CofT[1], 4*CofT[4], (CofT[0]-CofT[1])/2 ])\n",
    "Cirrep = np.array([ CofT[2]+CofT[4], CofT[0], CofT[1], CofT[3], CofT[4] ])\n",
    "dCirrepoC = np.array([(C-C[-1])/C[-1] for C in Cirrep ])\n",
    "dCirrep = np.array([(C-C[-1]) for C in Cirrep ])"
   ],
   "outputs": [],
   "metadata": {
    "scrolled": true
   }
  },
  {
   "cell_type": "code",
   "execution_count": 44,
   "source": [
    "for c in Cirrep:\n",
    "    print (c[-1])"
   ],
   "outputs": [
    {
     "output_type": "stream",
     "name": "stdout",
     "text": [
      "91.00575270196086\n",
      "190.20130905228046\n",
      "5.239202821479539\n",
      "45.35124087618581\n",
      "47.90174602732172\n"
     ]
    }
   ],
   "metadata": {}
  },
  {
   "cell_type": "code",
   "execution_count": 45,
   "source": [
    "Cht"
   ],
   "outputs": [
    {
     "output_type": "execute_result",
     "data": {
      "text/plain": [
       "array([194.40718,  14.4434 ,  42.21389,  45.12889,  48.12366])"
      ]
     },
     "metadata": {},
     "execution_count": 45
    }
   ],
   "metadata": {}
  },
  {
   "cell_type": "code",
   "execution_count": 50,
   "source": [
    "folder = \"C:\\\\Users\\\\Florian\\\\Box Sync\\\\Projects\"\n",
    "project = \"\\\\Mn3X\\\\Mn3Ge\\\\RUS\\\\Mn3Ge_2001B\\\\high_T_200113\\\\elastic_constants_gradient_fit\\\\irreducible_elastic_constants.txt\"\n",
    "# project = \"\\\\Mn3.019Sn0.981\\\\RUS\\\\2007A\\\\irreducible_elastic_constants.txt\"\n",
    "text = [['T', 'A1g1', 'A1g2', 'A1g3', 'E1g', 'E2g'], ['K', 'GPa', 'GPa', 'GPa', 'GPa', 'GPa']]\n",
    "data = np.transpose( np.vstack( [Tlp, Cirrep] ) ) \n",
    "# save(data, text, folder+project)"
   ],
   "outputs": [],
   "metadata": {}
  },
  {
   "cell_type": "code",
   "execution_count": 47,
   "source": [
    "Tmin = 400\n",
    "Tmax = 450\n",
    "Tmin = 355\n",
    "Tmax = 395\n",
    "# Tmin = 395\n",
    "# Tmax = 465\n",
    "\n",
    "mask = np.array([(i >= Tmin) & (i <= Tmax) for i in Tlp])\n",
    "\n",
    "\n",
    "plt.figure(figsize=(10,6))\n",
    "\n",
    "for i in np.arange(len(Cirrep)):\n",
    "    plt.plot(Tlp[mask], Cirrep[i][mask], linewidth=2.5, label=label_irrep[i])\n",
    "    \n",
    "plt.legend()\n",
    "plt.xlabel('T (K)',fontsize=15)\n",
    "plt.ylabel('$\\mathrm{C_{irrep}}$ (GPa) ',fontsize=15)\n",
    "plt.tick_params(axis=\"both\",direction=\"in\", labelsize=15, bottom='True', top='True', left='True', right='True', \n",
    "                length=4, width=1, which = 'major')"
   ],
   "outputs": [],
   "metadata": {}
  },
  {
   "cell_type": "code",
   "execution_count": 48,
   "source": [
    "index1 = [0,1,2]\n",
    "index2 = [3,4]\n",
    "\n",
    "Tmin = 355\n",
    "Tmax = 395\n",
    "\n",
    "\n",
    "f1 = plt.figure(figsize=(10,6))\n",
    "shift = [-.2,0.5,0,0,-4]\n",
    "# for i in np.arange(len(Cirrep)):\n",
    "for i in index1:\n",
    "    plt.plot(Tlp[mask], dCirrep[i][mask], linewidth=2.5, label=label_irrep[i])\n",
    "plt.xlim(Tmin, Tmax)\n",
    "    \n",
    "#plt.ylim([-50,20])\n",
    "plt.legend(loc=(.1, 0.1), fontsize=15)\n",
    "plt.xlabel('T (K)',fontsize=15)\n",
    "plt.ylabel('$ \\mathrm{\\Delta C_{irrep}}$ (GPa)',fontsize=15)\n",
    "plt.tick_params(axis=\"both\",direction=\"in\", labelsize=15, bottom='True', top='True', left='True', right='True', \n",
    "                length=4, width=1, which = 'major')\n",
    "\n",
    "f2 = plt.figure(figsize=(10,6))\n",
    "colors = ['purple', 'gray']\n",
    "#for i in np.arange(len(Cirrep)):\n",
    "jj = 0\n",
    "for i in index2:\n",
    "    plt.plot(Tlp[mask], dCirrep[i][mask], linewidth=2.5, label=label_irrep[i], c=colors[jj])\n",
    "    jj+=1\n",
    "plt.xlim(Tmin, Tmax)\n",
    "    \n",
    "#plt.ylim([-50,20])\n",
    "plt.legend(loc=(.1, 0.1), fontsize=15)\n",
    "plt.xlabel('T (K)',fontsize=15)\n",
    "plt.ylabel('$ \\mathrm{\\Delta C_{irrep}}$ (GPa)',fontsize=15)\n",
    "plt.tick_params(axis=\"both\",direction=\"in\", labelsize=15, bottom='True', top='True', left='True', right='True', \n",
    "                length=4, width=1, which = 'major')"
   ],
   "outputs": [],
   "metadata": {}
  },
  {
   "cell_type": "code",
   "execution_count": 455,
   "source": [
    "Cht_irrep = np.array( [ Cht[2]+Cht[4], Cht[0], Cht[1], 4*Cht[3], Cht[4] ] )\n",
    "at = np.transpose(a)\n",
    "a_irrep = np.transpose( np.array( [ at[2]*Cht_irrep[0]/Cht[2], at[0]*Cht_irrep[1]/Cht[0], at[1]*Cht_irrep[2]/Cht[1], at[3]/4*Cht_irrep[3]/Cht[3], (at[4]/Cht[4]-at[2]/Cht[2])*Cht_irrep[4] ]) )"
   ],
   "outputs": [],
   "metadata": {}
  },
  {
   "cell_type": "code",
   "execution_count": 456,
   "source": [
    "i = 0\n",
    "value = 0\n",
    "mode = 4\n",
    "for k in np.arange(len(a_irrep)):\n",
    "    if a_irrep[k,mode]>value:\n",
    "        value = a_irrep[k,mode]\n",
    "        i = k\n",
    "\n",
    "print (i, a_irrep[i])"
   ],
   "outputs": [
    {
     "output_type": "stream",
     "name": "stdout",
     "text": [
      "6 [ 3.54189236e-02  8.25000000e-03 -4.45000000e-03  6.80000000e-04\n",
      "  9.60101076e-01]\n"
     ]
    }
   ],
   "metadata": {}
  },
  {
   "cell_type": "markdown",
   "source": [
    "# Save all data"
   ],
   "metadata": {}
  },
  {
   "cell_type": "code",
   "execution_count": 351,
   "source": [
    "folder = \"C:\\\\Users\\\\j111\\\\Box Sync\\\\Projects\"\n",
    "project = \"\\\\Mn3Ge\\\\RUS\\\\Mn3Ge_2001B\\\\high_T_200113\\\\elastic_constants_gradient_fit\\\\irreducible_elastic_constants_mean.txt\"\n",
    "# project = \"\\\\Mn3.019Sn0.981\\\\RUS\\\\2007A\\\\irreducible_elastic_constants.txt\"\n",
    "text = [['T', 'A1g1', 'A1g2', 'A1g3', 'E1g', 'E2g'], ['K', 'GPa', 'GPa', 'GPa', 'GPa', 'GPa']]\n",
    "data = np.transpose( np.vstack( [Tlp, Cirrep] ) ) \n",
    "save(data, text, folder+project)"
   ],
   "outputs": [],
   "metadata": {}
  },
  {
   "cell_type": "code",
   "execution_count": 188,
   "source": [
    "folder = \"C:\\\\Users\\\\j111\\\\Box Sync\\\\Projects\"\n",
    "#folder = \"C:\\\\Users\\\\Florian\\\\Box Sync\\\\Projects\"\n",
    "project = \"\\\\Mn3Ge\\\\RUS\\\\sample_with_green_face_from_010920\\\\change_in_irreducible_elastic_constants.txt\"\n",
    "text = [['T', 'A1g1', 'A1g2', 'A1g3', 'E1g', 'E2g'], ['K', 'GPa', 'GPa', 'GPa', 'GPa', 'GPa']]\n",
    "data = np.transpose( np.vstack( [Tlp, dCirrep] ) ) \n",
    "#save(data, text, folder+project)"
   ],
   "outputs": [],
   "metadata": {}
  },
  {
   "cell_type": "code",
   "execution_count": 189,
   "source": [
    "folder = \"C:\\\\Users\\\\j111\\\\Box Sync\\\\Projects\"\n",
    "#folder = \"C:\\\\Users\\\\Florian\\\\Box Sync\\\\Projects\"\n",
    "project = \"\\\\Mn3Ge\\\\RUS\\\\sample_with_green_face_from_010920\\\\resonance_frequencies.txt\"\n",
    "text = [['T']+['f' for i in flp], ['K']+['kHz' for i in flp]]\n",
    "data = np.transpose( np.vstack( [Tlp, flp] ) ) \n",
    "#save(data, text, folder+project)"
   ],
   "outputs": [],
   "metadata": {}
  },
  {
   "cell_type": "code",
   "execution_count": 271,
   "source": [
    "folder = \"C:\\\\Users\\\\j111\\\\Box Sync\\\\Projects\"\n",
    "#folder = \"C:\\\\Users\\\\Florian\\\\Box Sync\\\\Projects\"\n",
    "project = \"\\\\Mn3Ge\\\\RUS\\\\sample_with_green_face_from_010920\\\\resonance_widths.txt\"\n",
    "text = [['T']+['Gamma' for i in gint], ['K']+['kHz' for i in gint]]\n",
    "data = np.transpose( np.vstack( [Tint, gint] ) ) \n",
    "#save(data, text, folder+project)"
   ],
   "outputs": [],
   "metadata": {}
  },
  {
   "cell_type": "code",
   "execution_count": null,
   "source": [
    "# calculate a for irreducible reps\n",
    "# order in Cht and thus in CofT is [33, 23, 12, 44, 66]\n",
    "# order in Cirrep is A1g1, A1g2, A1g3, E1g, E2g\n",
    "Ciht = np.array([Cht[2]+Cht[4], Cht[0], Cht[1], 4*Cht[3], Cht[4]])\n",
    "airr = np.array([ [ b[2]/Cht[2]*Ciht[0], b[0]/Cht[0]*Ciht[1], b[1]/Cht[1]*Ciht[2], 0.25*b[3]/Cht[3]*Ciht[3], \n",
    "                   Ciht[4]*(b[4]/Cht[4] - b[2]/Cht[2]) ] for b in a])\n",
    "\n",
    "folder = \"C:\\\\Users\\\\j111\\\\Box Sync\\\\Projects\"\n",
    "#folder = \"C:\\\\Users\\\\Florian\\\\Box Sync\\\\Projects\"\n",
    "project = \"\\\\Mn3Ge\\\\RUS\\\\sample_with_green_face_from_010920\\\\logarithmic_derivative_a_irreducible.txt\"\n",
    "text = [['f (kHz)', 'aA1g1', 'aA1g2', 'aA1g3', 'aE1g', 'aE2g']]\n",
    "data = np.array([np.append(fht[i], airr[i]) for i in np.arange(len(fht))])\n",
    "#save(data, text, folder+project)"
   ],
   "outputs": [],
   "metadata": {}
  },
  {
   "cell_type": "code",
   "execution_count": 192,
   "source": [
    "folder = \"C:\\\\Users\\\\j111\\\\Box Sync\\\\Projects\"\n",
    "folder = \"C:\\\\Users\\\\Florian\\\\Box Sync\\\\Projects\"\n",
    "project = \"\\\\Mn3Ge\\\\RUS\\\\sample_with_green_face_from_010920\\\\elastic_constants_NOT_irreps.txt\"\n",
    "project = \"\\\\Mn3.019Sn0.981\\\\RUS\\\\2007A\\\\elastic_constants_NOT_irreps.txt\"\n",
    "text = [['T', '33', '23', '12', '44', '66'], ['K', 'GPa', 'GPa', 'GPa', 'GPa', 'GPa']]\n",
    "data = np.transpose( np.vstack( [Tlp, CofT] ) )\n",
    "#save(data, text, folder+project)"
   ],
   "outputs": [],
   "metadata": {}
  },
  {
   "cell_type": "markdown",
   "source": [
    "# estimate the error for irreducible elastic constants"
   ],
   "metadata": {}
  },
  {
   "cell_type": "code",
   "execution_count": 193,
   "source": [
    "Tmin = 368\n",
    "Tmax = 372\n",
    "\n",
    "mask = np.array([(i >= Tmin) & (i <= Tmax) for i in Tfinal])\n",
    "\n",
    "# Filter requirements.\n",
    "period = 5.0         # Sample Period\n",
    "fs = 50       # sample rate, Hz\n",
    "cutoff = .7   # desired cutoff frequency of the filter, Hz , slightly higher than actual 1.2 Hz\n",
    "\n",
    "nyq = 0.5 * fs  # Nyquist Frequency\n",
    "\n",
    "order = 2       # sin wave can be approx represented as quadratic\n",
    "n = int(period * fs) # total number of samples\n",
    "\n",
    "\n",
    "def butter_lowpass_filter(data, cutoff, fs, order):\n",
    "    normal_cutoff = cutoff / nyq\n",
    "    # Get the filter coefficients \n",
    "    b, a = butter(order, normal_cutoff, btype='low', analog=False)\n",
    "    y = filtfilt(b, a, data)\n",
    "    return y\n",
    "\n",
    "\n",
    "\n",
    "Tlp = Tfinal[mask]\n",
    "Clp = butter_lowpass_filter(dCirrep[4][mask], cutoff, fs, order)\n",
    "\n",
    "plt.figure(figsize=(9,6))\n",
    "\n",
    "plt.scatter(Tfinal[mask], dCirrep[4][mask])\n",
    "plt.plot(Tlp, Clp, c='orange')\n",
    "\n",
    "rms = np.sqrt( sum( abs(dCirrep[4][mask]-Clp)**2 ) / len(Clp) )\n",
    "print (rms)"
   ],
   "outputs": [
    {
     "output_type": "error",
     "ename": "NameError",
     "evalue": "name 'Tfinal' is not defined",
     "traceback": [
      "\u001b[1;31m---------------------------------------------------------------------------\u001b[0m",
      "\u001b[1;31mNameError\u001b[0m                                 Traceback (most recent call last)",
      "\u001b[1;32m<ipython-input-193-14098bdaa178>\u001b[0m in \u001b[0;36m<module>\u001b[1;34m\u001b[0m\n\u001b[0;32m      2\u001b[0m \u001b[0mTmax\u001b[0m \u001b[1;33m=\u001b[0m \u001b[1;36m372\u001b[0m\u001b[1;33m\u001b[0m\u001b[1;33m\u001b[0m\u001b[0m\n\u001b[0;32m      3\u001b[0m \u001b[1;33m\u001b[0m\u001b[0m\n\u001b[1;32m----> 4\u001b[1;33m \u001b[0mmask\u001b[0m \u001b[1;33m=\u001b[0m \u001b[0mnp\u001b[0m\u001b[1;33m.\u001b[0m\u001b[0marray\u001b[0m\u001b[1;33m(\u001b[0m\u001b[1;33m[\u001b[0m\u001b[1;33m(\u001b[0m\u001b[0mi\u001b[0m \u001b[1;33m>=\u001b[0m \u001b[0mTmin\u001b[0m\u001b[1;33m)\u001b[0m \u001b[1;33m&\u001b[0m \u001b[1;33m(\u001b[0m\u001b[0mi\u001b[0m \u001b[1;33m<=\u001b[0m \u001b[0mTmax\u001b[0m\u001b[1;33m)\u001b[0m \u001b[1;32mfor\u001b[0m \u001b[0mi\u001b[0m \u001b[1;32min\u001b[0m \u001b[0mTfinal\u001b[0m\u001b[1;33m]\u001b[0m\u001b[1;33m)\u001b[0m\u001b[1;33m\u001b[0m\u001b[1;33m\u001b[0m\u001b[0m\n\u001b[0m\u001b[0;32m      5\u001b[0m \u001b[1;33m\u001b[0m\u001b[0m\n\u001b[0;32m      6\u001b[0m \u001b[1;31m# Filter requirements.\u001b[0m\u001b[1;33m\u001b[0m\u001b[1;33m\u001b[0m\u001b[1;33m\u001b[0m\u001b[0m\n",
      "\u001b[1;31mNameError\u001b[0m: name 'Tfinal' is not defined"
     ]
    }
   ],
   "metadata": {}
  },
  {
   "cell_type": "code",
   "execution_count": null,
   "source": [],
   "outputs": [],
   "metadata": {}
  }
 ],
 "metadata": {
  "kernelspec": {
   "name": "python3",
   "display_name": "Python 3.8.11 64-bit ('base': conda)"
  },
  "language_info": {
   "codemirror_mode": {
    "name": "ipython",
    "version": 3
   },
   "file_extension": ".py",
   "mimetype": "text/x-python",
   "name": "python",
   "nbconvert_exporter": "python",
   "pygments_lexer": "ipython3",
   "version": "3.8.11"
  },
  "metadata": {
   "interpreter": {
    "hash": "780e223e49c598b4aa82d8318c6f1e6744c8b409488091a69e61e480bdf1c54b"
   }
  },
  "interpreter": {
   "hash": "b3ba2566441a7c06988d0923437866b63cedc61552a5af99d1f4fb67d367b25f"
  }
 },
 "nbformat": 4,
 "nbformat_minor": 4
}