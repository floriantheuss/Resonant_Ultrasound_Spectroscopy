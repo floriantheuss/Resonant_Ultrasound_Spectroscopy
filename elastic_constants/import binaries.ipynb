{
 "metadata": {
  "language_info": {
   "codemirror_mode": {
    "name": "ipython",
    "version": 3
   },
   "file_extension": ".py",
   "mimetype": "text/x-python",
   "name": "python",
   "nbconvert_exporter": "python",
   "pygments_lexer": "ipython3",
   "version": "3.7.3-final"
  },
  "orig_nbformat": 2,
  "kernelspec": {
   "name": "python3",
   "display_name": "Python 3"
  }
 },
 "nbformat": 4,
 "nbformat_minor": 2,
 "cells": [
  {
   "cell_type": "code",
   "execution_count": 17,
   "metadata": {},
   "outputs": [],
   "source": [
    "import numpy as np\n",
    "import matplotlib.pyplot as plt\n",
    "import os.path\n",
    "import os\n",
    "from scipy import odr\n",
    "import time\n",
    "\n",
    "%matplotlib qt"
   ]
  },
  {
   "cell_type": "markdown",
   "metadata": {},
   "source": [
    "# import raw data"
   ]
  },
  {
   "cell_type": "code",
   "execution_count": 22,
   "metadata": {},
   "outputs": [
    {
     "output_type": "execute_result",
     "data": {
      "text/plain": "576"
     },
     "metadata": {},
     "execution_count": 22
    }
   ],
   "source": [
    "folder = \"C:\\\\Users\\\\Florian\\\\Box Sync\\\\Projects\"\n",
    "project = \"\\\\Chromium_RUS\\\\Individual scans\\\\up\"\n",
    "#project = \"\\\\Chromium\\\\Individual scans\\\\down\"\n",
    "project = '/UTe2/RUS/UTe2_2007C/Red Pitaya/200818/monitor_2/individual scans'\n",
    "#project = '/UTe2/RUS/UTe2_2007C/Red Pitaya/200819/frequency scans'\n",
    "\n",
    "data_files = os.listdir(folder+project)\n",
    "data_files = [i for i in data_files if i[-4:]=='.bin']\n",
    "data_files = data_files\n",
    "filenames = [folder + project + '\\\\' + i for i in data_files]\n",
    "\n",
    "T = np.array([float(i[0: i.find('K')]) for i in data_files])\n",
    "len(data_files)"
   ]
  },
  {
   "cell_type": "code",
   "execution_count": 84,
   "metadata": {},
   "outputs": [],
   "source": [
    "f = []\n",
    "x = []\n",
    "y = []\n",
    "\n",
    "for i in filenames:\n",
    "    dat = open(i, 'r')\n",
    "    data = np.fromfile( dat, dtype=np.dtype('>f8') ) # the raw data are binary files, so this imports them\n",
    "    split_index = int((len(data) - 1)/3)\n",
    "    f.append(data[1 : split_index+1])\n",
    "    x.append(data[split_index+1 : 2*split_index+1])\n",
    "    y.append(data[2*split_index+1 : 3*split_index+1])\n",
    "\n",
    "N = 1\n",
    "M = 137\n",
    "K = len(f)-50\n",
    "f = np.array(f)[M:K:N]\n",
    "x = np.array(x)[M:K:N]\n",
    "y = np.array(y)[M:K:N]\n",
    "\n",
    "# f = [np.array(f)[2]]\n",
    "# x = [np.array(x)[2]]\n",
    "# y = [np.array(y)[2]]"
   ]
  },
  {
   "cell_type": "markdown",
   "metadata": {},
   "source": [
    "# just plot the raw data"
   ]
  },
  {
   "cell_type": "code",
   "execution_count": 85,
   "metadata": {},
   "outputs": [
    {
     "output_type": "execute_result",
     "data": {
      "text/plain": "389"
     },
     "metadata": {},
     "execution_count": 85
    }
   ],
   "source": [
    "len(f)"
   ]
  },
  {
   "cell_type": "code",
   "execution_count": 86,
   "metadata": {},
   "outputs": [],
   "source": [
    "f = np.array([f[i] for i in np.arange(len(f))])\n",
    "x = np.array([x[i] for i in np.arange(len(x))])\n",
    "y = np.array([y[i] for i in np.arange(len(y))])\n",
    "plt.figure(figsize=(12,8))\n",
    "\n",
    "for i in np.arange(len(f)):\n",
    "    plt.plot(f[i], x[i]+0.01*i)"
   ]
  },
  {
   "cell_type": "code",
   "execution_count": 87,
   "metadata": {},
   "outputs": [],
   "source": [
    "maskf = np.array([(i>1890)&(i<1896) for i in f])\n",
    "fp = np.array([f[i][maskf[i]] for i in np.arange(len(f))])\n",
    "xp = np.array([x[i][maskf[i]] for i in np.arange(len(x))])\n",
    "yp = np.array([y[i][maskf[i]] for i in np.arange(len(y))])\n",
    "plt.figure(figsize=(12,8))\n",
    "\n",
    "for i in np.arange(len(f)):\n",
    "    plt.plot(fp[i], xp[i]+0.0002*i)"
   ]
  },
  {
   "cell_type": "markdown",
   "metadata": {},
   "source": [
    "## single out what I think are resonances and just plot them"
   ]
  },
  {
   "cell_type": "code",
   "execution_count": 42,
   "metadata": {},
   "outputs": [],
   "source": [
    "w = 0\n",
    "res = [2067-w, 2075+w, 2187.5-w, 2202.7+w, 2238-w, 2246+w, 2362-w, 2372+w, 2447.5-w, 2458+w]\n",
    "mask = [(i<res[0]) | ((i>res[1]) & (i<res[2])) | ((i>res[3]) & (i<res[4])) | ((i>res[5]) & (i<res[6])) | ((i>res[7]) & (i<res[8])) | (i>res[9]) for i in f]\n",
    "maskinv = np.invert(mask)\n",
    "#mask = [(i>2005) & (i<2495) for i in f]"
   ]
  },
  {
   "cell_type": "code",
   "execution_count": 7,
   "metadata": {},
   "outputs": [],
   "source": [
    "maskres = [0,0,0,0,0]\n",
    "maskres[0] = [(i>2060) & (i<2080) for i in f]\n",
    "maskres[1] = [(i>2181) & (i<2208) for i in f]\n",
    "maskres[2] = [(i>2231) & (i<2252) for i in f]\n",
    "maskres[3] = [(i>2356) & (i<2380) for i in f]\n",
    "maskres[4] = [(i>2441) & (i<2465) for i in f]\n",
    "\n",
    "\n",
    "f1 = plt.figure(figsize=(12,8))\n",
    "for mask in maskres:\n",
    "    for i in np.arange(len(f)):\n",
    "        plt.plot(f[i][mask[i]], y[i][mask[i]])\n",
    "\n",
    "f2 = plt.figure(figsize=(12,8))\n",
    "for mask in maskres:\n",
    "    for i in np.arange(len(f)):\n",
    "        plt.plot(f[i][mask[i]], x[i][mask[i]])"
   ]
  },
  {
   "cell_type": "markdown",
   "metadata": {},
   "source": [
    "# fit and subtract a background from the raw data close to a resonance\n",
    "## I couldn't fit the same background for all resonances (and all data files) at the same time so each resonance has to be dealt with individually"
   ]
  },
  {
   "cell_type": "code",
   "execution_count": 88,
   "metadata": {},
   "outputs": [],
   "source": [
    "# ffit = np.array([f[i][maskres[1][i]] for i in np.arange(len(f))])\n",
    "# xfit = np.array([x[i][maskres[1][i]] for i in np.arange(len(f))])\n",
    "# yfit = np.array([y[i][maskres[1][i]] for i in np.arange(len(f))])\n",
    "\n",
    "\n",
    "maskres = np.array([(i<1892.5)|(i>1893.5) for i in fp])\n",
    "ffit = np.array([fp[i][maskres[i]] for i in np.arange(len(fp))])\n",
    "xfit = np.array([xp[i][maskres[i]] for i in np.arange(len(fp))])\n",
    "yfit = np.array([yp[i][maskres[i]] for i in np.arange(len(fp))])\n",
    "\n",
    "maskfit0 = [(i<2063) | (i>2075) for i in ffit]\n",
    "maskfit1 = [(i<2185) | (i>2204) for i in ffit]\n",
    "maskfit2 = [(i<2233) | (i>2249) for i in ffit]\n",
    "maskfit3 = [(i<2359) | (i>2377) for i in ffit]\n",
    "maskfit4 = [(i<2445) | (i>2462) for i in ffit]"
   ]
  },
  {
   "cell_type": "code",
   "execution_count": 89,
   "metadata": {
    "tags": []
   },
   "outputs": [
    {
     "output_type": "stream",
     "name": "stdout",
     "text": "it takes 3.3 s\n"
    }
   ],
   "source": [
    "def fct (p, f):\n",
    "    a = 0\n",
    "    for i in np.arange(len(p)):\n",
    "        a = a + p[i] * np.ones(len(f)) * f**i\n",
    "    return a\n",
    "\n",
    "\n",
    "\n",
    "initial_guess = 8*[0]\n",
    "model = odr.Model(fct)\n",
    "# maskfit = maskfit1\n",
    "R = []\n",
    "\n",
    "start_time = time.time()\n",
    "for i in np.arange(len(ffit)):\n",
    "    # datax = odr.RealData(ffit[i][maskfit[i]], xfit[i][maskfit[i]])\n",
    "    # datay = odr.RealData(ffit[i][maskfit[i]], yfit[i][maskfit[i]])\n",
    "\n",
    "    datax = odr.RealData(ffit[i], xfit[i])\n",
    "    datay = odr.RealData(ffit[i], yfit[i])\n",
    "\n",
    "    fitx = odr.ODR(datax, model, beta0=initial_guess)\n",
    "    outx = fitx.run()\n",
    "    poptx = outx.beta\n",
    "    fity = odr.ODR(datay, model, beta0=initial_guess)\n",
    "    outy = fity.run()\n",
    "    popty = outy.beta\n",
    "\n",
    "    xnew = xfit[i] - fct(poptx, ffit[i])\n",
    "    ynew = yfit[i] - fct(popty, ffit[i])\n",
    "\n",
    "    xnew = xp[i] - fct(poptx, fp[i])\n",
    "    ynew = yp[i] - fct(popty, fp[i])\n",
    "\n",
    "    R.append(xnew**2 + ynew**2)\n",
    "\n",
    "# for i in np.arange(len(fp)):\n",
    "#     datax = odr.RealData(fp[i], xp[i])\n",
    "#     datay = odr.RealData(fp[i], yp[i])\n",
    "\n",
    "#     fitx = odr.ODR(datax, model, beta0=initial_guess)\n",
    "#     outx = fitx.run()\n",
    "#     poptx = outx.beta\n",
    "#     fity = odr.ODR(datay, model, beta0=initial_guess)\n",
    "#     outy = fity.run()\n",
    "#     popty = outy.beta\n",
    "\n",
    "#     xnew = xp[i] - fct(poptx, fp[i])\n",
    "#     ynew = yp[i] - fct(popty, fp[i])\n",
    "\n",
    "#     R.append(xnew**2 + ynew**2)\n",
    "\n",
    "\n",
    "\n",
    "\n",
    "\n",
    "\n",
    "\n",
    "R = np.array(R)\n",
    "Rn = np.array([i/max(i) for i in R])\n",
    "\n",
    "duration = time.time() - start_time\n",
    "print ('it takes ' + str(round(duration,1)) + ' s')"
   ]
  },
  {
   "cell_type": "markdown",
   "metadata": {},
   "source": [
    "# plot the amplitude vs frequency at different temperatures"
   ]
  },
  {
   "cell_type": "code",
   "execution_count": 86,
   "metadata": {},
   "outputs": [],
   "source": [
    "# plt.figure(figsize=(12,8))\n",
    "\n",
    "# palette = plt.get_cmap('brg')\n",
    "# for i in np.arange(len(ffit)):\n",
    "#     plt.plot(ffit[i], Rn[i] + 0.01*i, label=str(T[i]), c=palette(i/(len(ffit)-1)), zorder=1-i )\n",
    "\n",
    "# plt.legend()"
   ]
  },
  {
   "cell_type": "code",
   "execution_count": 90,
   "metadata": {},
   "outputs": [],
   "source": [
    "from matplotlib.collections import LineCollection\n",
    "\n",
    "def multiline(xs, ys, c, ax=None, **kwargs):\n",
    "    \"\"\"Plot lines with different colorings\n",
    "\n",
    "    Parameters\n",
    "    ----------\n",
    "    xs : iterable container of x coordinates\n",
    "    ys : iterable container of y coordinates\n",
    "    c : iterable container of numbers mapped to colormap\n",
    "    ax (optional): Axes to plot on.\n",
    "    kwargs (optional): passed to LineCollection\n",
    "\n",
    "    Notes:\n",
    "        len(xs) == len(ys) == len(c) is the number of line segments\n",
    "        len(xs[i]) == len(ys[i]) is the number of points for each line (indexed by i)\n",
    "\n",
    "    Returns\n",
    "    -------\n",
    "    lc : LineCollection instance.\n",
    "    \"\"\"\n",
    "\n",
    "    # find axes\n",
    "    ax = plt.gca() if ax is None else ax\n",
    "\n",
    "    # create LineCollection\n",
    "    segments = [np.column_stack([x, y]) for x, y in zip(xs, ys)]\n",
    "    lc = LineCollection(segments, **kwargs)\n",
    "\n",
    "    # set coloring of line segments\n",
    "    #    Note: I get an error if I pass c as a list here... not sure why.\n",
    "    lc.set_array(np.asarray(c))\n",
    "\n",
    "    # add lines to axes and rescale \n",
    "    #    Note: adding a collection doesn't autoscalee xlim/ylim\n",
    "    ax.add_collection(lc)\n",
    "    ax.autoscale()\n",
    "    return lc"
   ]
  },
  {
   "cell_type": "code",
   "execution_count": 91,
   "metadata": {},
   "outputs": [],
   "source": [
    "plotmask = np.array([(i>1892.5)&(i<1893.6) for i in fp])\n",
    "Rplot = np.array([ Rn[i][plotmask[i]]+0.01*i for i in np.arange(len(Rn)) ])[0]\n",
    "fplot = np.array( [ fp[i][plotmask[i]] for i in np.arange(len(fp)) ])[0]\n",
    "\n",
    "\n",
    "plt.figure(figsize=(11,7))\n",
    "plt.plot(fplot, Rplot, lw=2)\n",
    "\n",
    "\n",
    "plt.xlabel('Frequency (kHz)', fontsize=20)\n",
    "plt.ylabel('Amplitude (mV)', fontsize=20)\n",
    "plt.tick_params(axis=\"both\",direction=\"in\", labelsize=20, bottom='True', top='True', left='True', right='True', \n",
    "                length=4, width=1, which = 'major')\n",
    "#plt.ylim(-0.001, 0.07)\n",
    "#plt.xlim(500, 3550)"
   ]
  },
  {
   "cell_type": "code",
   "execution_count": 93,
   "metadata": {},
   "outputs": [],
   "source": [
    "n = 4\n",
    "plotmask = np.array([(i>1892.5)&(i<1893.6) for i in fp])\n",
    "Rplot = np.array([ Rn[i][plotmask[i]]+0.01*i for i in np.arange(len(Rn))[::n] ])\n",
    "fplot = np.array( [ fp[i][plotmask[i]] for i in np.arange(len(fp))[::n] ])\n",
    "\n",
    "\n",
    "fig, ax = plt.subplots(figsize=(11,7))\n",
    "# lc = multiline(ffit[::n], Rplot, T[::n], cmap='brg', lw=2)\n",
    "lc = multiline(fplot, Rplot, T[::n], cmap='viridis', lw=2)\n",
    "\n",
    "\n",
    "axcb = fig.colorbar(lc)\n",
    "axcb.set_label('T (K)', fontsize=15)\n",
    "\n",
    "plt.xlabel('Frequency (kHz)', fontsize=20)\n",
    "plt.ylabel('Resonance Amplitude (a.u.)', fontsize=20)\n",
    "plt.tick_params(axis=\"x\",direction=\"in\", labelsize=20, bottom='True', top='True', left='True', right='True', \n",
    "                length=4, width=1, which = 'major')\n",
    "plt.tick_params(axis=\"y\",direction=\"in\", labelsize=0, bottom='True', top='True', left='False', right='False', length=0, width=0, which = 'major')\n"
   ]
  },
  {
   "cell_type": "markdown",
   "metadata": {},
   "source": [
    "# extract the resonance frequency (as the maximum) and plot vs temperature"
   ]
  },
  {
   "cell_type": "code",
   "execution_count": 67,
   "metadata": {
    "tags": []
   },
   "outputs": [
    {
     "output_type": "stream",
     "name": "stdout",
     "text": "it takes 0.7 s\n"
    }
   ],
   "source": [
    "index = np.array([abs(np.array(i) - 1) < 0.0000001 for i in Rn])\n",
    "maxf = np.array([ffit[i][index[i]] for i in np.arange(len(index))])\n",
    "\n",
    "initial_guess = 3*[0]\n",
    "model = odr.Model(fct)\n",
    "resonances = np.zeros(len(maxf))\n",
    "\n",
    "start_time = time.time()\n",
    "for i in np.arange(len(maxf)):\n",
    "    mask = (ffit[i]>maxf[i]-2) & (ffit[i]<maxf[i]+2)\n",
    "    data = odr.RealData(ffit[i][mask], Rn[i][mask])\n",
    "    \n",
    "    fit = odr.ODR(data, model, beta0=initial_guess)\n",
    "    out = fit.run()\n",
    "    popt = out.beta\n",
    "\n",
    "    resonances[i] = (-popt[1]/2/popt[2])\n",
    "\n",
    "duration = time.time() - start_time\n",
    "print ('it takes ' + str(round(duration,1)) + ' s')"
   ]
  },
  {
   "cell_type": "code",
   "execution_count": 68,
   "metadata": {},
   "outputs": [],
   "source": [
    "plt.figure(figsize=(11,7))\n",
    "plt.plot(T, resonances)\n",
    "plt.xlabel('Temperature (K)', fontsize=20)\n",
    "plt.ylabel('Resonance Frequency (kHz)', fontsize=20)\n",
    "plt.tick_params(axis=\"both\",direction=\"in\", labelsize=20, bottom='True', top='True', left='True', right='True', \n",
    "                length=4, width=1, which = 'major')"
   ]
  },
  {
   "cell_type": "code",
   "execution_count": null,
   "metadata": {},
   "outputs": [],
   "source": []
  }
 ]
}