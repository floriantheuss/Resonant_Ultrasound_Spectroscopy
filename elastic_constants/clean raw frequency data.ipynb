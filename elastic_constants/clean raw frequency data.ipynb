{
 "cells": [
  {
   "cell_type": "code",
   "execution_count": 1,
   "metadata": {},
   "outputs": [],
   "source": [
    "import numpy as np\n",
    "import matplotlib.pyplot as plt\n",
    "import os.path\n",
    "import os\n",
    "from scipy.interpolate import interp1d\n",
    "from scipy.signal import butter,filtfilt\n",
    "from scipy.optimize import  curve_fit\n",
    "from scipy import interpolate\n",
    "from scipy import odr\n",
    "\n",
    "%run python_master.py\n",
    "%matplotlib qt "
   ]
  },
  {
   "cell_type": "markdown",
   "metadata": {},
   "source": [
    "# Imort frequency files"
   ]
  },
  {
   "cell_type": "code",
   "execution_count": 2,
   "metadata": {},
   "outputs": [
    {
     "output_type": "execute_result",
     "data": {
      "text/plain": [
       "['1776_no_outliers_cooling.dat', '1923_no_outliers_cooling.dat']"
      ]
     },
     "metadata": {},
     "execution_count": 2
    }
   ],
   "source": [
    "folder = \"C:\\\\Users\\\\Florian\\\\Box Sync\\\\Projects\"\n",
    "# project = \"\\\\Mn3Ge\\\\RUS\\\\Mn3Ge_2001B\\\\temp_dependent_data_with_Labview\\\\improved_setup\\\\new_data\"\n",
    "# project = '\\\\Mn3.019Sn0.981\\\\RUS\\\\2007A\\\\080720'\n",
    "# project = '\\\\UTe2\\\\RUS\\\\UTe2_2007C\\\\PLL\\\\201105'\n",
    "# project = '\\\\UTe2\\\\RUS\\\\UTe2_2007C\\\\Red Pitaya\\\\201111\\\\monitor_1'\n",
    "project = \"\\\\Mn3X\\\\Mn3.1Sn0.89\\\\RUS\\\\2010A\\\\good_data\\\\raw_data\"\n",
    "\n",
    "data_files = os.listdir(folder+project)\n",
    "data_files = [i for i in data_files if i[-4:]=='.dat']\n",
    "filenames = [folder + project + '\\\\' + i for i in data_files[:]]\n",
    "data_files"
   ]
  },
  {
   "cell_type": "code",
   "execution_count": 21,
   "metadata": {},
   "outputs": [],
   "source": [
    "i = 1\n",
    "filename = filenames[i]\n",
    "data = data_extract(filename)\n",
    "T = data.import_data(1,3)[0]\n",
    "f = data.import_data(1,3)[1]\n",
    "g = data.import_data(1,3)[2]\n",
    "\n",
    "g = g[np.argsort(T)]\n",
    "f = f[np.argsort(T)]\n",
    "T = np.sort(T)\n",
    "\n",
    "# Tnew = []\n",
    "# fnew = []\n",
    "# gnew = []\n",
    "# for i in np.arange(len(T)): \n",
    "#     if T[i] not in Tnew: \n",
    "#         Tnew.append(T[i])\n",
    "#         fnew.append( np.mean(f[T==T[i]]) )\n",
    "#         gnew.append( np.mean(g[T==T[i]]) )\n",
    "# T = np.array(Tnew)\n",
    "# f = np.array(fnew) \n",
    "# f = f[np.argsort(T)]\n",
    "# g = np.array(gnew)\n",
    "# g = g[np.argsort(T)]\n",
    "# T = np.sort(T)\n",
    "\n",
    "\n",
    "# filename1 = filenames[i+1]\n",
    "# data1 = data_extract(filename1)\n",
    "# T1 = data1.import_data(1,2)[0]\n",
    "# f1 = data1.import_data(1,2)[1]\n",
    "# f1 = f1[np.argsort(T1)]\n",
    "# T1 = np.sort(T1)\n",
    "\n",
    "\n",
    "# filename2 = filenames[i+2]\n",
    "# data2 = data_extract(filename2)\n",
    "# T2 = data2.import_data(1,2)[0]\n",
    "# f2 = data2.import_data(1,2)[1]\n",
    "# f2 = f2[np.argsort(T2)]\n",
    "# T2 = np.sort(T2)\n",
    "\n",
    "\n",
    "# filename3 = filenames[i+3]\n",
    "# data3 = data_extract(filename3)\n",
    "# T3 = data3.import_data(1,2)[0]\n",
    "# f3 = data3.import_data(1,2)[1]\n",
    "# f3 = f3[np.argsort(T3)]\n",
    "# T3 = np.sort(T3)\n",
    "\n",
    "# filename4 = filenames[i+4]\n",
    "# data4 = data_extract(filename4)\n",
    "# T4 = data4.import_data(1,2)[0]\n",
    "# f4 = data4.import_data(1,2)[1]\n",
    "# f4 = f4[np.argsort(T4)]\n",
    "# T4 = np.sort(T4)\n",
    "\n",
    "\n",
    "\n",
    "def different_offsets (p, T):\n",
    "    a, b, c = p\n",
    "    t1 = T[T<Tc]\n",
    "    f1 = a*t1 + b\n",
    "    t2 = T[T>=Tc]\n",
    "    f2 = a*t2 + c\n",
    "    ftotal = np.append(f1, f2)\n",
    "    return ftotal\n",
    "\n",
    "def fct (p, T):\n",
    "    a = 0\n",
    "    for i in np.arange(len(p)):\n",
    "        a = a + p[i] * np.ones(len(T)) * T**i\n",
    "    return a"
   ]
  },
  {
   "cell_type": "code",
   "execution_count": 22,
   "metadata": {},
   "outputs": [
    {
     "output_type": "execute_result",
     "data": {
      "text/plain": [
       "<matplotlib.collections.PathCollection at 0x27d7a7d0310>"
      ]
     },
     "metadata": {},
     "execution_count": 22
    }
   ],
   "source": [
    "plt.figure(figsize=(12,8))\n",
    "plt.scatter(T, f, s=13)\n",
    "# plt.plot(T, f)\n",
    "# plt.scatter(T1, f1, s=13)\n",
    "# plt.scatter(T2, f2, s=13)\n",
    "# plt.scatter(T3, f3, s=13)\n",
    "# plt.scatter(T4, f4-f4[0]+f2[0], s=13)\n",
    "\n",
    "plt.figure(figsize=(12,8))\n",
    "plt.scatter(T, g, s=13)"
   ]
  },
  {
   "source": [
    "## Interpolate temperatures"
   ],
   "cell_type": "markdown",
   "metadata": {}
  },
  {
   "cell_type": "code",
   "execution_count": 13,
   "metadata": {},
   "outputs": [
    {
     "output_type": "stream",
     "name": "stdout",
     "text": [
      "2257 2257\n"
     ]
    }
   ],
   "source": [
    "temps = []\n",
    "same = []\n",
    "for ii, t in enumerate(T): \n",
    "    if ii == 0:\n",
    "        ii = 1\n",
    "    if ii == len(T)-1:\n",
    "        temps.append(np.array([t]))\n",
    "        break\n",
    "    if t == T[ii+1]:\n",
    "        same.append(t)\n",
    "    else:\n",
    "        if t == T[ii-1]:\n",
    "            same.append(t)\n",
    "            temps.append(np.array(same))\n",
    "            same = []\n",
    "        # if len(same) != 0:\n",
    "            # temps.append(np.array(same))\n",
    "            # temps.append(np.array([t]))\n",
    "            # same = []\n",
    "        else:\n",
    "            temps.append(np.array([t]))\n",
    "            same = []\n",
    "\n",
    "size = 0\n",
    "for i in temps:\n",
    "    size += len(i)\n",
    "print (size, len(T))"
   ]
  },
  {
   "cell_type": "code",
   "execution_count": 111,
   "metadata": {},
   "outputs": [
    {
     "output_type": "stream",
     "name": "stdout",
     "text": [
      "2002\n"
     ]
    }
   ],
   "source": [
    "T_fixed = []\n",
    "for idx, same in enumerate(temps[:-1]):\n",
    "    if len(same) > 1:\n",
    "        diff = (temps[idx+1][0] - same[0]) / len(same)\n",
    "        for ii, t in enumerate(same):\n",
    "            T_fixed.append(t+ii*diff)\n",
    "    else:\n",
    "        T_fixed.append(same[0])\n",
    "for i in temps[-1]:\n",
    "    T_fixed.append(i)\n",
    "print (len(T_fixed))"
   ]
  },
  {
   "cell_type": "code",
   "execution_count": 275,
   "metadata": {},
   "outputs": [
    {
     "output_type": "error",
     "ename": "ValueError",
     "evalue": "x and y must be the same size",
     "traceback": [
      "\u001b[1;31m---------------------------------------------------------------------------\u001b[0m",
      "\u001b[1;31mValueError\u001b[0m                                Traceback (most recent call last)",
      "\u001b[1;32m<ipython-input-275-1e88c11a625f>\u001b[0m in \u001b[0;36m<module>\u001b[1;34m\u001b[0m\n\u001b[0;32m      1\u001b[0m \u001b[0mplt\u001b[0m\u001b[1;33m.\u001b[0m\u001b[0mscatter\u001b[0m\u001b[1;33m(\u001b[0m\u001b[0mT\u001b[0m\u001b[1;33m,\u001b[0m \u001b[0mf\u001b[0m\u001b[1;33m)\u001b[0m\u001b[1;33m\u001b[0m\u001b[1;33m\u001b[0m\u001b[0m\n\u001b[1;32m----> 2\u001b[1;33m \u001b[0mplt\u001b[0m\u001b[1;33m.\u001b[0m\u001b[0mscatter\u001b[0m\u001b[1;33m(\u001b[0m\u001b[0mT_fixed\u001b[0m\u001b[1;33m,\u001b[0m \u001b[0mf\u001b[0m\u001b[1;33m)\u001b[0m\u001b[1;33m\u001b[0m\u001b[1;33m\u001b[0m\u001b[0m\n\u001b[0m",
      "\u001b[1;32mC:\\Program Files\\Anaconda\\lib\\site-packages\\matplotlib\\pyplot.py\u001b[0m in \u001b[0;36mscatter\u001b[1;34m(x, y, s, c, marker, cmap, norm, vmin, vmax, alpha, linewidths, verts, edgecolors, plotnonfinite, data, **kwargs)\u001b[0m\n\u001b[0;32m   2877\u001b[0m         \u001b[0mverts\u001b[0m\u001b[1;33m=\u001b[0m\u001b[0mverts\u001b[0m\u001b[1;33m,\u001b[0m \u001b[0medgecolors\u001b[0m\u001b[1;33m=\u001b[0m\u001b[0medgecolors\u001b[0m\u001b[1;33m,\u001b[0m\u001b[1;33m\u001b[0m\u001b[1;33m\u001b[0m\u001b[0m\n\u001b[0;32m   2878\u001b[0m         \u001b[0mplotnonfinite\u001b[0m\u001b[1;33m=\u001b[0m\u001b[0mplotnonfinite\u001b[0m\u001b[1;33m,\u001b[0m\u001b[1;33m\u001b[0m\u001b[1;33m\u001b[0m\u001b[0m\n\u001b[1;32m-> 2879\u001b[1;33m         **({\"data\": data} if data is not None else {}), **kwargs)\n\u001b[0m\u001b[0;32m   2880\u001b[0m     \u001b[0msci\u001b[0m\u001b[1;33m(\u001b[0m\u001b[0m__ret\u001b[0m\u001b[1;33m)\u001b[0m\u001b[1;33m\u001b[0m\u001b[1;33m\u001b[0m\u001b[0m\n\u001b[0;32m   2881\u001b[0m     \u001b[1;32mreturn\u001b[0m \u001b[0m__ret\u001b[0m\u001b[1;33m\u001b[0m\u001b[1;33m\u001b[0m\u001b[0m\n",
      "\u001b[1;32mC:\\Program Files\\Anaconda\\lib\\site-packages\\matplotlib\\__init__.py\u001b[0m in \u001b[0;36minner\u001b[1;34m(ax, data, *args, **kwargs)\u001b[0m\n\u001b[0;32m   1436\u001b[0m     \u001b[1;32mdef\u001b[0m \u001b[0minner\u001b[0m\u001b[1;33m(\u001b[0m\u001b[0max\u001b[0m\u001b[1;33m,\u001b[0m \u001b[1;33m*\u001b[0m\u001b[0margs\u001b[0m\u001b[1;33m,\u001b[0m \u001b[0mdata\u001b[0m\u001b[1;33m=\u001b[0m\u001b[1;32mNone\u001b[0m\u001b[1;33m,\u001b[0m \u001b[1;33m**\u001b[0m\u001b[0mkwargs\u001b[0m\u001b[1;33m)\u001b[0m\u001b[1;33m:\u001b[0m\u001b[1;33m\u001b[0m\u001b[1;33m\u001b[0m\u001b[0m\n\u001b[0;32m   1437\u001b[0m         \u001b[1;32mif\u001b[0m \u001b[0mdata\u001b[0m \u001b[1;32mis\u001b[0m \u001b[1;32mNone\u001b[0m\u001b[1;33m:\u001b[0m\u001b[1;33m\u001b[0m\u001b[1;33m\u001b[0m\u001b[0m\n\u001b[1;32m-> 1438\u001b[1;33m             \u001b[1;32mreturn\u001b[0m \u001b[0mfunc\u001b[0m\u001b[1;33m(\u001b[0m\u001b[0max\u001b[0m\u001b[1;33m,\u001b[0m \u001b[1;33m*\u001b[0m\u001b[0mmap\u001b[0m\u001b[1;33m(\u001b[0m\u001b[0msanitize_sequence\u001b[0m\u001b[1;33m,\u001b[0m \u001b[0margs\u001b[0m\u001b[1;33m)\u001b[0m\u001b[1;33m,\u001b[0m \u001b[1;33m**\u001b[0m\u001b[0mkwargs\u001b[0m\u001b[1;33m)\u001b[0m\u001b[1;33m\u001b[0m\u001b[1;33m\u001b[0m\u001b[0m\n\u001b[0m\u001b[0;32m   1439\u001b[0m \u001b[1;33m\u001b[0m\u001b[0m\n\u001b[0;32m   1440\u001b[0m         \u001b[0mbound\u001b[0m \u001b[1;33m=\u001b[0m \u001b[0mnew_sig\u001b[0m\u001b[1;33m.\u001b[0m\u001b[0mbind\u001b[0m\u001b[1;33m(\u001b[0m\u001b[0max\u001b[0m\u001b[1;33m,\u001b[0m \u001b[1;33m*\u001b[0m\u001b[0margs\u001b[0m\u001b[1;33m,\u001b[0m \u001b[1;33m**\u001b[0m\u001b[0mkwargs\u001b[0m\u001b[1;33m)\u001b[0m\u001b[1;33m\u001b[0m\u001b[1;33m\u001b[0m\u001b[0m\n",
      "\u001b[1;32mC:\\Program Files\\Anaconda\\lib\\site-packages\\matplotlib\\cbook\\deprecation.py\u001b[0m in \u001b[0;36mwrapper\u001b[1;34m(*inner_args, **inner_kwargs)\u001b[0m\n\u001b[0;32m    409\u001b[0m                          \u001b[1;32melse\u001b[0m \u001b[0mdeprecation_addendum\u001b[0m\u001b[1;33m,\u001b[0m\u001b[1;33m\u001b[0m\u001b[1;33m\u001b[0m\u001b[0m\n\u001b[0;32m    410\u001b[0m                 **kwargs)\n\u001b[1;32m--> 411\u001b[1;33m         \u001b[1;32mreturn\u001b[0m \u001b[0mfunc\u001b[0m\u001b[1;33m(\u001b[0m\u001b[1;33m*\u001b[0m\u001b[0minner_args\u001b[0m\u001b[1;33m,\u001b[0m \u001b[1;33m**\u001b[0m\u001b[0minner_kwargs\u001b[0m\u001b[1;33m)\u001b[0m\u001b[1;33m\u001b[0m\u001b[1;33m\u001b[0m\u001b[0m\n\u001b[0m\u001b[0;32m    412\u001b[0m \u001b[1;33m\u001b[0m\u001b[0m\n\u001b[0;32m    413\u001b[0m     \u001b[1;32mreturn\u001b[0m \u001b[0mwrapper\u001b[0m\u001b[1;33m\u001b[0m\u001b[1;33m\u001b[0m\u001b[0m\n",
      "\u001b[1;32mC:\\Program Files\\Anaconda\\lib\\site-packages\\matplotlib\\axes\\_axes.py\u001b[0m in \u001b[0;36mscatter\u001b[1;34m(self, x, y, s, c, marker, cmap, norm, vmin, vmax, alpha, linewidths, verts, edgecolors, plotnonfinite, **kwargs)\u001b[0m\n\u001b[0;32m   4439\u001b[0m         \u001b[0my\u001b[0m \u001b[1;33m=\u001b[0m \u001b[0mnp\u001b[0m\u001b[1;33m.\u001b[0m\u001b[0mma\u001b[0m\u001b[1;33m.\u001b[0m\u001b[0mravel\u001b[0m\u001b[1;33m(\u001b[0m\u001b[0my\u001b[0m\u001b[1;33m)\u001b[0m\u001b[1;33m\u001b[0m\u001b[1;33m\u001b[0m\u001b[0m\n\u001b[0;32m   4440\u001b[0m         \u001b[1;32mif\u001b[0m \u001b[0mx\u001b[0m\u001b[1;33m.\u001b[0m\u001b[0msize\u001b[0m \u001b[1;33m!=\u001b[0m \u001b[0my\u001b[0m\u001b[1;33m.\u001b[0m\u001b[0msize\u001b[0m\u001b[1;33m:\u001b[0m\u001b[1;33m\u001b[0m\u001b[1;33m\u001b[0m\u001b[0m\n\u001b[1;32m-> 4441\u001b[1;33m             \u001b[1;32mraise\u001b[0m \u001b[0mValueError\u001b[0m\u001b[1;33m(\u001b[0m\u001b[1;34m\"x and y must be the same size\"\u001b[0m\u001b[1;33m)\u001b[0m\u001b[1;33m\u001b[0m\u001b[1;33m\u001b[0m\u001b[0m\n\u001b[0m\u001b[0;32m   4442\u001b[0m \u001b[1;33m\u001b[0m\u001b[0m\n\u001b[0;32m   4443\u001b[0m         \u001b[1;32mif\u001b[0m \u001b[0ms\u001b[0m \u001b[1;32mis\u001b[0m \u001b[1;32mNone\u001b[0m\u001b[1;33m:\u001b[0m\u001b[1;33m\u001b[0m\u001b[1;33m\u001b[0m\u001b[0m\n",
      "\u001b[1;31mValueError\u001b[0m: x and y must be the same size"
     ]
    }
   ],
   "source": [
    "plt.scatter(T, f)\n",
    "plt.scatter(T_fixed, f)"
   ]
  },
  {
   "cell_type": "code",
   "execution_count": 113,
   "metadata": {},
   "outputs": [
    {
     "output_type": "execute_result",
     "data": {
      "text/plain": [
       "<matplotlib.collections.PathCollection at 0x1683acd54a8>"
      ]
     },
     "metadata": {},
     "execution_count": 113
    }
   ],
   "source": [
    "T = np.array(T_fixed)\n",
    "\n",
    "# f = f[np.argsort(T)]\n",
    "# g = g[np.argsort(T)]\n",
    "# T = np.sort(T)\n",
    "\n",
    "plt.scatter(T, f)"
   ]
  },
  {
   "cell_type": "code",
   "execution_count": null,
   "metadata": {},
   "outputs": [],
   "source": []
  },
  {
   "cell_type": "code",
   "execution_count": null,
   "metadata": {},
   "outputs": [],
   "source": []
  },
  {
   "cell_type": "code",
   "execution_count": null,
   "metadata": {},
   "outputs": [],
   "source": []
  },
  {
   "cell_type": "code",
   "execution_count": 43,
   "metadata": {},
   "outputs": [
    {
     "output_type": "execute_result",
     "data": {
      "text/plain": [
       "<matplotlib.collections.PathCollection at 0x1f2130cb820>"
      ]
     },
     "metadata": {},
     "execution_count": 43
    }
   ],
   "source": [
    "T1 = 436\n",
    "T2 = 430\n",
    "mask = (T<T1) | (T>T2)\n",
    "\n",
    "Tint = np.linspace(min(T), max(T), len(T))\n",
    "fint = interp1d(T[mask], f[mask], kind='linear')(Tint)\n",
    "\n",
    "plt.figure(figsize=(12,8))\n",
    "plt.plot(Tint, fint, c='tab:orange', zorder=-1)\n",
    "plt.scatter(T, f, s=1)"
   ]
  },
  {
   "cell_type": "code",
   "execution_count": 392,
   "metadata": {},
   "outputs": [
    {
     "output_type": "execute_result",
     "data": {
      "text/plain": [
       "<matplotlib.collections.PathCollection at 0x2995a853208>"
      ]
     },
     "metadata": {},
     "execution_count": 392
    }
   ],
   "source": [
    "# f = interp1d(T[mask], f[mask], kind='cubic')(Tint)\n",
    "# T = Tint\n",
    "# plt.scatter(T, f, s=1)"
   ]
  },
  {
   "cell_type": "code",
   "execution_count": 370,
   "metadata": {},
   "outputs": [
    {
     "output_type": "execute_result",
     "data": {
      "text/plain": [
       "[<matplotlib.lines.Line2D at 0x29953c997f0>]"
      ]
     },
     "metadata": {},
     "execution_count": 370
    }
   ],
   "source": [
    "# T1 = 400\n",
    "# T2 = 398.5\n",
    "# mask = (T<T1) | (T>T2)\n",
    "\n",
    "# t, c, k = interpolate.splrep(T[mask], f[mask], s=0, k=4)\n",
    "# xx = np.linspace(min(T), max(T), len(T))\n",
    "# spline = interpolate.BSpline(t, c, k, extrapolate=False)\n",
    "\n",
    "# plt.figure(figsize=(12,8))\n",
    "# plt.plot(T, f, 'bo', label='Original points')\n",
    "# plt.plot(xx, spline(xx), 'r', label='BSpline')"
   ]
  },
  {
   "cell_type": "markdown",
   "metadata": {},
   "source": [
    "# adjust for jumps"
   ]
  },
  {
   "cell_type": "code",
   "execution_count": 23,
   "metadata": {},
   "outputs": [],
   "source": [
    "plt.figure(figsize=(13,8))\n",
    "Tmin = 420\n",
    "Tmax = 425\n",
    "\n",
    "mask = (T > Tmin) & (T < Tmax)\n",
    "plt.scatter(T[mask],f[mask])\n",
    "\n",
    "T1 = 422\n",
    "T2 = 422.5\n",
    "T3 = 423.4\n",
    "T4 = 424\n",
    "\n",
    "mask1 = ((T>T1) & (T<T2))\n",
    "mask2 = ((T>T3) & (T<T4))\n",
    "maskfit = mask1 | mask2\n",
    "plt.plot( T[mask1], f[mask1], c='red')\n",
    "plt.plot( T[mask2], f[mask2], c='green')\n",
    "\n",
    "Tc = 423\n",
    "\n",
    "#plt.plot([Tc, Tc], [np.mean(f)-1, np.mean(f)+1], c='orange')\n",
    "plt.plot([Tc, Tc], [min(f[(T>Tmin)&(T<Tmax)]), max(f[(T>Tmin)&(T<Tmax)])], c='orange')\n",
    "\n",
    "plt.show()"
   ]
  },
  {
   "cell_type": "code",
   "execution_count": 24,
   "metadata": {},
   "outputs": [],
   "source": [
    "data = odr.RealData(T[maskfit], f[maskfit])\n",
    "initial_guess = [0,0,0]\n",
    "fix = [1,1,1]\n",
    "model = odr.Model(different_offsets)\n",
    "fit = odr.ODR(data, model, beta0=initial_guess)#, ifixb=fix)\n",
    "out = fit.run()\n",
    "popt = out.beta\n",
    "\n",
    "fnew = np.append(f[T<Tc], f[T>=Tc] + popt[1] - popt[2])\n",
    "\n",
    "plt.figure(figsize=(10,8))\n",
    "#plt.plot(T, fnew)\n",
    "plt.plot(T[mask], f[mask])\n",
    "plt.plot(T[mask], fnew[mask])\n",
    "plt.plot(T[mask], different_offsets(popt,\n",
    " T[mask]))\n",
    "\n",
    "plt.show()"
   ]
  },
  {
   "cell_type": "code",
   "execution_count": 25,
   "metadata": {},
   "outputs": [],
   "source": [
    "f = fnew"
   ]
  },
  {
   "cell_type": "code",
   "execution_count": 26,
   "metadata": {},
   "outputs": [
    {
     "output_type": "execute_result",
     "data": {
      "text/plain": [
       "[<matplotlib.lines.Line2D at 0x27d7a9c7ca0>]"
      ]
     },
     "metadata": {},
     "execution_count": 26
    }
   ],
   "source": [
    "plt.plot(T, f)"
   ]
  },
  {
   "cell_type": "markdown",
   "metadata": {},
   "source": [
    "# clean data a little bit"
   ]
  },
  {
   "cell_type": "code",
   "execution_count": 60,
   "metadata": {},
   "outputs": [
    {
     "output_type": "execute_result",
     "data": {
      "text/plain": [
       "<matplotlib.collections.PathCollection at 0x21ac634ceb0>"
      ]
     },
     "metadata": {},
     "execution_count": 60
    }
   ],
   "source": [
    "import pandas as pd\n",
    "\n",
    "threshold = .2\n",
    "fmedian = pd.DataFrame(f).rolling(window=3, center=True).median().fillna(method='bfill').fillna(method='ffill').to_numpy().flatten()\n",
    "\n",
    "difference = np.abs(f - fmedian)\n",
    "outlier_idx = difference > threshold\n",
    "\n",
    "fig, ax = plt.subplots(figsize=(8,5))\n",
    "ax.scatter(T, f)\n",
    "ax.scatter(T[outlier_idx], f[outlier_idx])"
   ]
  },
  {
   "cell_type": "code",
   "execution_count": 9,
   "metadata": {},
   "outputs": [
    {
     "output_type": "execute_result",
     "data": {
      "text/plain": [
       "<matplotlib.collections.PathCollection at 0x256a9c01d90>"
      ]
     },
     "metadata": {},
     "execution_count": 9
    }
   ],
   "source": [
    "f = f[np.invert(outlier_idx)]\n",
    "T = T[np.invert(outlier_idx)]\n",
    "g = g[np.invert(outlier_idx)]\n",
    "\n",
    "fig, ax = plt.subplots(figsize=(8,5))\n",
    "ax.scatter(T, f)"
   ]
  },
  {
   "cell_type": "code",
   "execution_count": 76,
   "metadata": {},
   "outputs": [
    {
     "output_type": "execute_result",
     "data": {
      "text/plain": [
       "<matplotlib.collections.PathCollection at 0x21ac9cd6fd0>"
      ]
     },
     "metadata": {},
     "execution_count": 76
    }
   ],
   "source": [
    "plt.figure()\n",
    "plt.scatter(T, f)"
   ]
  },
  {
   "cell_type": "code",
   "execution_count": 29,
   "metadata": {
    "tags": []
   },
   "outputs": [
    {
     "output_type": "stream",
     "name": "stdout",
     "text": [
      "7.0 109.0\n"
     ]
    }
   ],
   "source": [
    "Tcl1 = 1.2\n",
    "Tcl2 = 3\n",
    "Tcl1 = 422\n",
    "Tcl2 = 424\n",
    "clean_mask = (T>Tcl1) & (T<Tcl2)\n",
    "\n",
    "fclean = f[clean_mask]\n",
    "Tclean = T[clean_mask]\n",
    "gclean = g[clean_mask]\n",
    "data_clean = odr.RealData(Tclean, fclean)\n",
    "initial_guess_clean = [0,0,0,0,0]\n",
    "fix_clean = [1,1,1,1,1]\n",
    "model_clean = odr.Model(fct)\n",
    "fit_clean = odr.ODR(data_clean, model_clean, beta0=initial_guess_clean)#, ifixb=fix_clean)\n",
    "out_clean = fit_clean.run()\n",
    "popt_clean = out_clean.beta\n",
    "\n",
    "\n",
    "epsilon = .05\n",
    "index = abs(fclean - fct(popt_clean, Tclean)) < epsilon\n",
    "\n",
    "plt.figure(figsize=(12,7))\n",
    "plt.plot(Tclean, fct(popt_clean, Tclean))\n",
    "plt.plot(T, f)\n",
    "plt.plot(Tclean[index], fclean[index])\n",
    "plt.xlim(Tcl1, Tcl2)\n",
    "plt.ylim(min(fclean[index]), max(fclean[index]))\n",
    "print ( len(index) - sum(np.ones(len(index))[index]),  sum(np.ones(len(index))[index]))"
   ]
  },
  {
   "cell_type": "code",
   "execution_count": 30,
   "metadata": {},
   "outputs": [
    {
     "output_type": "execute_result",
     "data": {
      "text/plain": [
       "<matplotlib.collections.PathCollection at 0x27d7a90abe0>"
      ]
     },
     "metadata": {},
     "execution_count": 30
    }
   ],
   "source": [
    "fnew = np.append(f[np.invert(clean_mask)], fclean[index])\n",
    "gnew = np.append(g[np.invert(clean_mask)], gclean[index])\n",
    "Tnew = np.append(T[np.invert(clean_mask)], Tclean[index])\n",
    "fnew = fnew[np.argsort(Tnew)]\n",
    "gnew = gnew[np.argsort(Tnew)]\n",
    "Tnew = np.sort(Tnew)\n",
    "\n",
    "plt.figure(figsize=(12,7))\n",
    "plt.scatter(Tnew, fnew, s=5, c='tab:blue')\n",
    "\n",
    "plt.figure(figsize=(12,7))\n",
    "plt.scatter(Tnew, gnew, s=5, c='tab:blue')"
   ]
  },
  {
   "cell_type": "code",
   "execution_count": 31,
   "metadata": {},
   "outputs": [],
   "source": [
    "f = fnew\n",
    "g = gnew\n",
    "T = Tnew"
   ]
  },
  {
   "cell_type": "markdown",
   "metadata": {},
   "source": [
    "# Running average"
   ]
  },
  {
   "cell_type": "code",
   "execution_count": 82,
   "metadata": {},
   "outputs": [],
   "source": [
    "Tmin = 1.2\n",
    "Tmax = 2.5\n",
    "Tmin = 431\n",
    "Tmax = 433\n",
    "N = 1\n",
    "\n",
    "\n",
    "f = f[np.argsort(T)]\n",
    "g = g[np.argsort(T)]\n",
    "T = np.sort(T)\n",
    "\n",
    "maskave = (T > Tmin) & (T < Tmax)\n",
    "fmaskave = f[maskave]\n",
    "fra_input = np.append( np.append(np.ones(N)*fmaskave[0], fmaskave) , np.ones(N)*fmaskave[-1] )\n",
    "frunning_sum = np.zeros(len(fmaskave))\n",
    "\n",
    "for i in np.arange(2*N):\n",
    "    frunning_sum = frunning_sum + fra_input[i:-2*N+i]\n",
    "\n",
    "fra = frunning_sum / (2*N)\n",
    "\n",
    "# fnew = np.append(f[np.invert(maskave)], fra)\n",
    "fnew = np.append(fra, f[np.invert(maskave)])\n",
    "Tnew = np.append(T[maskave], T[np.invert(maskave)])\n",
    "\n",
    "fnew = fnew[np.argsort(Tnew)]"
   ]
  },
  {
   "cell_type": "code",
   "execution_count": 84,
   "metadata": {},
   "outputs": [
    {
     "output_type": "execute_result",
     "data": {
      "text/plain": [
       "<matplotlib.collections.PathCollection at 0x1b0251b1d00>"
      ]
     },
     "metadata": {},
     "execution_count": 84
    }
   ],
   "source": [
    "plt.figure(figsize=(12,8))\n",
    "plt.scatter(T, f, s=1)\n",
    "plt.scatter(T, fnew, s=1)"
   ]
  },
  {
   "cell_type": "code",
   "execution_count": 362,
   "metadata": {},
   "outputs": [],
   "source": [
    "f = fnew"
   ]
  },
  {
   "cell_type": "markdown",
   "metadata": {},
   "source": [
    "\n",
    "# save data"
   ]
  },
  {
   "cell_type": "code",
   "execution_count": 32,
   "metadata": {},
   "outputs": [],
   "source": [
    "save_filename = filename[:-4] + '_clean.dat'\n",
    "\n",
    "if os.path.isfile(save_filename) == True:\n",
    "    x='w'\n",
    "else:\n",
    "    x='x'\n",
    "\n",
    "with open(save_filename, x) as clean:\n",
    "    clean.write('T (K)\\tf (kHz)\\twidth (kHz)\\n ')\n",
    "    for i in np.arange(len(f)-1):\n",
    "        clean.write(str(T[i]) + '\\t' + str(f[i]) + '\\t' + str(g[i]) + '\\n')"
   ]
  },
  {
   "cell_type": "code",
   "execution_count": null,
   "metadata": {},
   "outputs": [],
   "source": []
  },
  {
   "cell_type": "code",
   "execution_count": null,
   "metadata": {},
   "outputs": [],
   "source": []
  }
 ],
 "metadata": {
  "kernelspec": {
   "display_name": "Python 3",
   "language": "python",
   "name": "python3"
  },
  "language_info": {
   "codemirror_mode": {
    "name": "ipython",
    "version": 3
   },
   "file_extension": ".py",
   "mimetype": "text/x-python",
   "name": "python",
   "nbconvert_exporter": "python",
   "pygments_lexer": "ipython3",
   "version": "3.8.5-final"
  }
 },
 "nbformat": 4,
 "nbformat_minor": 4
}