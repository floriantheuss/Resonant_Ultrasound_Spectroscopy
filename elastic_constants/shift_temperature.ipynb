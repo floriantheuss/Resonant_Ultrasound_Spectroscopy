{
 "cells": [
  {
   "cell_type": "code",
   "execution_count": 59,
   "metadata": {},
   "outputs": [],
   "source": [
    "import numpy as np\n",
    "import matplotlib.pyplot as plt\n",
    "import os.path\n",
    "import os\n",
    "from scipy.interpolate import interp1d\n",
    "from scipy.signal import butter,filtfilt\n",
    "from scipy.optimize import  curve_fit\n",
    "from scipy import interpolate\n",
    "from scipy import odr\n",
    "\n",
    "%run python_master.py\n",
    "%matplotlib qt "
   ]
  },
  {
   "cell_type": "markdown",
   "metadata": {},
   "source": [
    "# Imort frequency files"
   ]
  },
  {
   "cell_type": "code",
   "execution_count": 60,
   "metadata": {},
   "outputs": [
    {
     "output_type": "execute_result",
     "data": {
      "text/plain": [
       "['1250_no_outliers_cooling_new_clean.dat',\n",
       " '1310_no_outliers_cooling_clean_new.dat',\n",
       " '1342_no_outliers_cooling_clean_new.dat',\n",
       " '1385_no_outliers_cooling_clean_new.dat',\n",
       " '1437_no_outliers_cooling_clean_new.dat',\n",
       " '1580_no_outliers_cooling_clean_clean.dat',\n",
       " '1603_no_outliers_cooling_clean_clean.dat',\n",
       " '1776_no_outliers_cooling_clean.dat',\n",
       " '1889_no_outliers_cooling_clean.dat',\n",
       " '1917_no_outliers_cooling_clean.dat',\n",
       " '1923_no_outliers_cooling_clean.dat',\n",
       " '2022_no_outliers_cooling_clean.dat',\n",
       " '2044_no_outliers_cooling_clean.dat',\n",
       " '2047_no_outliers_cooling_clean.dat',\n",
       " '2184_no_outliers_cooling_clean.dat',\n",
       " '2272_no_outliers_cooling_clean.dat',\n",
       " '2288_no_outliers_cooling_clean.dat',\n",
       " '2355_no_outliers_cooling_clean.dat',\n",
       " '2691_no_outliers_cooling.dat',\n",
       " '2729_no_outliers_cooling_clean.dat',\n",
       " '2763_no_outliers_cooling_clean.dat',\n",
       " '2769_no_outliers_cooling.dat',\n",
       " '2847_no_outliers_cooling_clean.dat',\n",
       " '2903_no_outliers_cooling.dat',\n",
       " '2964_no_outliers_cooling.dat']"
      ]
     },
     "metadata": {},
     "execution_count": 60
    }
   ],
   "source": [
    "folder = \"C:\\\\Users\\\\Florian\\\\Box Sync\\\\Projects\"\n",
    "project = \"\\\\Mn3X\\\\Mn3.1Sn0.89\\\\RUS\\\\2010A\\\\good_data\\\\clean_data\"\n",
    "\n",
    "data_files = os.listdir(folder+project)\n",
    "data_files = [i for i in data_files if i[-4:]=='.dat']\n",
    "filenames = [folder + project + '\\\\' + i for i in data_files[:]]\n",
    "data_files"
   ]
  },
  {
   "cell_type": "code",
   "execution_count": 61,
   "metadata": {},
   "outputs": [],
   "source": [
    "T = []\n",
    "f = []\n",
    "g = []\n",
    "Tint = np.linspace(427, 431, 170)\n",
    "fint = []\n",
    "gint = []\n",
    "for file in filenames:\n",
    "    data = data_extract(file)\n",
    "    Ti = data.import_data(1,3)[0]\n",
    "    fi = data.import_data(1,3)[1]\n",
    "    gi = data.import_data(1,3)[2]\n",
    " \n",
    "    g.append(gi[np.argsort(Ti)])\n",
    "    f.append(fi[np.argsort(Ti)])\n",
    "    T.append(np.sort(Ti))\n",
    "\n",
    "    fint.append( interp1d(Ti, fi, kind='linear')(Tint) )\n",
    "    gint.append( interp1d(Ti, gi, kind='linear')(Tint) )"
   ]
  },
  {
   "cell_type": "code",
   "execution_count": 62,
   "metadata": {},
   "outputs": [],
   "source": [
    "der = [np.gradient(F) for F in fint]\n",
    "Tmin = 427\n",
    "Tmax = 431\n",
    "mask = [(t>Tmin)&(t<Tmax) for t in T]\n",
    "for ii, t in enumerate(T):\n",
    "    plt.plot( t[mask[ii]], (f[ii][mask[ii]]-max(f[ii][mask[ii]]))/(max(f[ii][mask[ii]])-min(f[ii][mask[ii]])) + ii )\n",
    "    plt.plot( Tint, (der[ii]-max(der[ii]))/(max(der[ii])-min(der[ii])) + ii )"
   ]
  },
  {
   "cell_type": "code",
   "execution_count": 63,
   "metadata": {},
   "outputs": [
    {
     "output_type": "stream",
     "name": "stderr",
     "text": [
      "C:\\ProgramData\\Anaconda3\\lib\\site-packages\\IPython\\core\\interactiveshell.py:3418: RankWarning: Polyfit may be poorly conditioned\n  exec(code_obj, self.user_global_ns, self.user_ns)\nC:\\ProgramData\\Anaconda3\\lib\\site-packages\\IPython\\core\\interactiveshell.py:3418: RankWarning: Polyfit may be poorly conditioned\n  exec(code_obj, self.user_global_ns, self.user_ns)\nC:\\ProgramData\\Anaconda3\\lib\\site-packages\\IPython\\core\\interactiveshell.py:3418: RankWarning: Polyfit may be poorly conditioned\n  exec(code_obj, self.user_global_ns, self.user_ns)\nC:\\ProgramData\\Anaconda3\\lib\\site-packages\\IPython\\core\\interactiveshell.py:3418: RankWarning: Polyfit may be poorly conditioned\n  exec(code_obj, self.user_global_ns, self.user_ns)\nC:\\ProgramData\\Anaconda3\\lib\\site-packages\\IPython\\core\\interactiveshell.py:3418: RankWarning: Polyfit may be poorly conditioned\n  exec(code_obj, self.user_global_ns, self.user_ns)\nC:\\ProgramData\\Anaconda3\\lib\\site-packages\\IPython\\core\\interactiveshell.py:3418: RankWarning: Polyfit may be poorly conditioned\n  exec(code_obj, self.user_global_ns, self.user_ns)\nC:\\ProgramData\\Anaconda3\\lib\\site-packages\\IPython\\core\\interactiveshell.py:3418: RankWarning: Polyfit may be poorly conditioned\n  exec(code_obj, self.user_global_ns, self.user_ns)\nC:\\ProgramData\\Anaconda3\\lib\\site-packages\\IPython\\core\\interactiveshell.py:3418: RankWarning: Polyfit may be poorly conditioned\n  exec(code_obj, self.user_global_ns, self.user_ns)\nC:\\ProgramData\\Anaconda3\\lib\\site-packages\\IPython\\core\\interactiveshell.py:3418: RankWarning: Polyfit may be poorly conditioned\n  exec(code_obj, self.user_global_ns, self.user_ns)\nC:\\ProgramData\\Anaconda3\\lib\\site-packages\\IPython\\core\\interactiveshell.py:3418: RankWarning: Polyfit may be poorly conditioned\n  exec(code_obj, self.user_global_ns, self.user_ns)\nC:\\ProgramData\\Anaconda3\\lib\\site-packages\\IPython\\core\\interactiveshell.py:3418: RankWarning: Polyfit may be poorly conditioned\n  exec(code_obj, self.user_global_ns, self.user_ns)\nC:\\ProgramData\\Anaconda3\\lib\\site-packages\\IPython\\core\\interactiveshell.py:3418: RankWarning: Polyfit may be poorly conditioned\n  exec(code_obj, self.user_global_ns, self.user_ns)\nC:\\ProgramData\\Anaconda3\\lib\\site-packages\\IPython\\core\\interactiveshell.py:3418: RankWarning: Polyfit may be poorly conditioned\n  exec(code_obj, self.user_global_ns, self.user_ns)\nC:\\ProgramData\\Anaconda3\\lib\\site-packages\\IPython\\core\\interactiveshell.py:3418: RankWarning: Polyfit may be poorly conditioned\n  exec(code_obj, self.user_global_ns, self.user_ns)\nC:\\ProgramData\\Anaconda3\\lib\\site-packages\\IPython\\core\\interactiveshell.py:3418: RankWarning: Polyfit may be poorly conditioned\n  exec(code_obj, self.user_global_ns, self.user_ns)\nC:\\ProgramData\\Anaconda3\\lib\\site-packages\\IPython\\core\\interactiveshell.py:3418: RankWarning: Polyfit may be poorly conditioned\n  exec(code_obj, self.user_global_ns, self.user_ns)\nC:\\ProgramData\\Anaconda3\\lib\\site-packages\\IPython\\core\\interactiveshell.py:3418: RankWarning: Polyfit may be poorly conditioned\n  exec(code_obj, self.user_global_ns, self.user_ns)\nC:\\ProgramData\\Anaconda3\\lib\\site-packages\\IPython\\core\\interactiveshell.py:3418: RankWarning: Polyfit may be poorly conditioned\n  exec(code_obj, self.user_global_ns, self.user_ns)\nC:\\ProgramData\\Anaconda3\\lib\\site-packages\\IPython\\core\\interactiveshell.py:3418: RankWarning: Polyfit may be poorly conditioned\n  exec(code_obj, self.user_global_ns, self.user_ns)\nC:\\ProgramData\\Anaconda3\\lib\\site-packages\\IPython\\core\\interactiveshell.py:3418: RankWarning: Polyfit may be poorly conditioned\n  exec(code_obj, self.user_global_ns, self.user_ns)\nC:\\ProgramData\\Anaconda3\\lib\\site-packages\\IPython\\core\\interactiveshell.py:3418: RankWarning: Polyfit may be poorly conditioned\n  exec(code_obj, self.user_global_ns, self.user_ns)\nC:\\ProgramData\\Anaconda3\\lib\\site-packages\\IPython\\core\\interactiveshell.py:3418: RankWarning: Polyfit may be poorly conditioned\n  exec(code_obj, self.user_global_ns, self.user_ns)\nC:\\ProgramData\\Anaconda3\\lib\\site-packages\\IPython\\core\\interactiveshell.py:3418: RankWarning: Polyfit may be poorly conditioned\n  exec(code_obj, self.user_global_ns, self.user_ns)\nC:\\ProgramData\\Anaconda3\\lib\\site-packages\\IPython\\core\\interactiveshell.py:3418: RankWarning: Polyfit may be poorly conditioned\n  exec(code_obj, self.user_global_ns, self.user_ns)\nC:\\ProgramData\\Anaconda3\\lib\\site-packages\\IPython\\core\\interactiveshell.py:3418: RankWarning: Polyfit may be poorly conditioned\n  exec(code_obj, self.user_global_ns, self.user_ns)\n"
     ]
    }
   ],
   "source": [
    "Tmin = 428.15\n",
    "Tmax = 430\n",
    "maskint = (Tint>Tmin)&(Tint<Tmax)\n",
    "\n",
    "maxT = []\n",
    "maskfit = []\n",
    "# Tfit = []\n",
    "for ii, _ in enumerate(T):\n",
    "    # ti = t[mask[ii]]\n",
    "    deri = der[ii][maskint]\n",
    "    ti = Tint[maskint]\n",
    "    dermax = max(deri)\n",
    "    index = ( np.abs( deri - dermax ) == 0 )\n",
    "    tmax = ti[index][0]\n",
    "    maxT.append(tmax)\n",
    "    fitmask = (Tint>tmax-0.3)&(Tint<tmax+0.3)\n",
    "    maskfit.append( fitmask )\n",
    "    # Tfit.append(np.linspace(tmax-0.3, tmax+0.3, 1000))\n",
    "\n",
    "fit = []\n",
    "degree = 10\n",
    "\n",
    "maxTemps = []\n",
    "for ii, t in enumerate(T):\n",
    "    fitii = ( np.polyval( np.polyfit(Tint[maskfit[ii]], der[ii][maskfit[ii]], degree), Tint[maskfit[ii]] ) )\n",
    "    fit.append(fitii)\n",
    "\n",
    "    index = ( np.abs( fitii - max(fitii) ) == 0 )\n",
    "    maxTemps.append(np.mean(Tint[maskfit[ii]][index]))\n",
    "\n",
    "\n",
    "for ii, t in enumerate(T):\n",
    "    plt.plot( t[mask[ii]], (f[ii][mask[ii]]-max(f[ii][mask[ii]]))/(max(f[ii][mask[ii]])-min(f[ii][mask[ii]])) + ii )\n",
    "    plt.plot( Tint, (der[ii]-max(der[ii]))/(max(der[ii])-min(der[ii])) + ii )\n",
    "    plt.plot ( Tint[maskfit[ii]], (fit[ii]-max(der[ii]))/(max(der[ii])-min(der[ii])) + ii )\n",
    "    # plt.plot ( Tfit[ii], (fit[ii]-max(fit[ii]))/(max(fit[ii])-min(fit[ii])) + ii)"
   ]
  },
  {
   "cell_type": "code",
   "execution_count": 64,
   "metadata": {},
   "outputs": [],
   "source": [
    "Tright = maxTemps[1]\n",
    "Tshift = np.array(maxTemps) - Tright\n",
    "T_shifted = [t-Tshift[ii] for ii,t in enumerate(T)]"
   ]
  },
  {
   "cell_type": "code",
   "execution_count": 65,
   "metadata": {},
   "outputs": [],
   "source": [
    "for ii, t in enumerate(T_shifted):\n",
    "    plt.plot( t[mask[ii]], (f[ii][mask[ii]]-max(f[ii][mask[ii]]))/(max(f[ii][mask[ii]])-min(f[ii][mask[ii]])) + ii )\n",
    "    # plt.plot( t[mask[ii]], (der[ii][mask[ii]]-max(der[ii][mask[ii]]))/(max(der[ii][mask[ii]])-min(der[ii][mask[ii]])) + ii )"
   ]
  },
  {
   "cell_type": "code",
   "execution_count": null,
   "metadata": {},
   "outputs": [],
   "source": []
  },
  {
   "cell_type": "markdown",
   "metadata": {},
   "source": [
    "# save data"
   ]
  },
  {
   "cell_type": "code",
   "execution_count": 66,
   "metadata": {},
   "outputs": [],
   "source": [
    "for ii, file in enumerate(filenames):\n",
    "    save_filename = file[:-4] + '_shifted.dat'\n",
    "    if os.path.isfile(save_filename) == True:\n",
    "        x='w'\n",
    "    else:\n",
    "        x='x'\n",
    "    \n",
    "    with open(save_filename, x) as clean:\n",
    "        clean.write('T (K)\\tf (kHz)\\twidth (kHz)\\n ')\n",
    "        for i in np.arange(len(f[ii])-1):\n",
    "            clean.write(str(T_shifted[ii][i]) + '\\t' + str(f[ii][i]) + '\\t' + str(g[ii][i]) + '\\n')"
   ]
  },
  {
   "cell_type": "code",
   "execution_count": null,
   "metadata": {},
   "outputs": [],
   "source": []
  },
  {
   "cell_type": "code",
   "execution_count": null,
   "metadata": {},
   "outputs": [],
   "source": []
  }
 ],
 "metadata": {
  "kernelspec": {
   "display_name": "Python 3",
   "language": "python",
   "name": "python3"
  },
  "language_info": {
   "codemirror_mode": {
    "name": "ipython",
    "version": 3
   },
   "file_extension": ".py",
   "mimetype": "text/x-python",
   "name": "python",
   "nbconvert_exporter": "python",
   "pygments_lexer": "ipython3",
   "version": "3.8.5"
  }
 },
 "nbformat": 4,
 "nbformat_minor": 4
}