{
 "cells": [
  {
   "cell_type": "code",
   "execution_count": 4,
   "metadata": {},
   "outputs": [],
   "source": [
    "import numpy as np\n",
    "import matplotlib.pyplot as plt\n",
    "import os.path\n",
    "import os\n",
    "from scipy.interpolate import interp1d\n",
    "from scipy.signal import butter,filtfilt\n",
    "from scipy.optimize import curve_fit\n",
    "from scipy import odr\n",
    "from scipy import linalg\n",
    "import itertools"
   ]
  },
  {
   "source": [
    "# material parameters"
   ],
   "cell_type": "markdown",
   "metadata": {}
  },
  {
   "cell_type": "code",
   "execution_count": 5,
   "metadata": {},
   "outputs": [],
   "source": [
    "# highest order polynomial\n",
    "order = 6\n",
    "\n",
    "# density in g/cm^3\n",
    "rho = 1\n",
    "\n",
    "# mass in g\n",
    "m = 0.0089\n",
    "m=1\n",
    "\n",
    "# dimensions of sample in m\n",
    "Lx = 1.4\n",
    "Ly = 1.2\n",
    "Lz = 1.9\n",
    "\n",
    "# density in kg/m^3\n",
    "# rho = m*1e-3 / (Lx*Ly*Lz)\n",
    "\n",
    "\n",
    "# number of basis functions\n",
    "N = int( (order+1) * (order+2) * (order+3) / 6 )"
   ]
  },
  {
   "source": [
    "# give the elastic tensor"
   ],
   "cell_type": "markdown",
   "metadata": {}
  },
  {
   "cell_type": "code",
   "execution_count": 6,
   "metadata": {},
   "outputs": [],
   "source": [
    "# elastic constants in GPa\n",
    "c11 = 2*48.16944 + 42.47116\n",
    "c22 = 2*48.16944 + 42.47116\n",
    "c33 = 194.58691\n",
    "c12 = 42.47116\n",
    "c13 = 14.29768\n",
    "c23 = 14.29768\n",
    "c44 = 45.20971\n",
    "c55 = 45.20971\n",
    "c66 = 48.16944\n",
    "\n",
    "c11 = 5\n",
    "c22 = 5\n",
    "c33 = 5\n",
    "\n",
    "c12 = .5\n",
    "c13 = .5\n",
    "c23 = .5\n",
    "\n",
    "c44 = 1\n",
    "c55 = 1\n",
    "c66 = 1\n",
    "\n",
    "\n",
    "\n",
    "C = np.zeros([3,3,3,3])\n",
    "# this is not done yet - I have to symmetrize and all\n",
    "C[0,0,0,0] = c11\n",
    "C[1,1,1,1] = c22\n",
    "C[2,2,2,2] = c33\n",
    "\n",
    "C[0,0,1,1] = c12\n",
    "C[1,1,0,0] = c12\n",
    "\n",
    "C[2,2,0,0] = c13\n",
    "C[0,0,2,2] = c13\n",
    "\n",
    "C[1,1,2,2] = c23\n",
    "C[2,2,1,1] = c23\n",
    "\n",
    "C[0,1,0,1] = c44\n",
    "C[1,0,0,1] = c44\n",
    "C[0,1,1,0] = c44\n",
    "C[1,0,1,0] = c44\n",
    "\n",
    "C[0,2,0,2] = c55\n",
    "C[2,0,0,2] = c55\n",
    "C[0,2,2,0] = c55\n",
    "C[2,0,2,0] = c55\n",
    "\n",
    "C[1,2,1,2] = c66\n",
    "C[2,1,2,1] = c66\n",
    "C[2,1,1,2] = c66\n",
    "C[1,2,2,1] = c66"
   ]
  },
  {
   "source": [
    "# create the basis functions for the displacement and their derivatives"
   ],
   "cell_type": "markdown",
   "metadata": {}
  },
  {
   "cell_type": "code",
   "execution_count": 7,
   "metadata": {},
   "outputs": [],
   "source": [
    "# phi: basis functions with order <= highest order\n",
    "# dphi: the derivatives of phi with respect to x, y, z\n",
    "# they are labelled by their power in x, y, z\n",
    "phi = []\n",
    "dphidx = []\n",
    "dphidy = []\n",
    "dphidz = []\n",
    "\n",
    "for i in np.arange(order+1):\n",
    "    for j in  np.arange(order+1-i):\n",
    "        for k in np.arange(order+1-i-j):\n",
    "            phi.append([i, j, k])\n",
    "            dphidx.append([i-1, j, k])\n",
    "            dphidy.append([i, j-1, k])\n",
    "            dphidz.append([i, j, k-1])\n",
    "phi = np.array(phi)\n",
    "dphidx = np.array(dphidx)\n",
    "dphidy = np.array(dphidy)\n",
    "dphidz = np.array(dphidz)\n",
    "\n",
    "dphidx[dphidx < 0] = 0\n",
    "dphidy[dphidy < 0] = 0\n",
    "dphidz[dphidz < 0] = 0"
   ]
  },
  {
   "source": [
    "# calculating the kinetic energy"
   ],
   "cell_type": "markdown",
   "metadata": {}
  },
  {
   "cell_type": "code",
   "execution_count": 8,
   "metadata": {},
   "outputs": [],
   "source": [
    "# this gives phi_lambda*phi_lambda^prime as a tensor\n",
    "phi_squaredx = np.add.outer(phi[:,0], phi[:,0])\n",
    "phi_squaredy = np.add.outer(phi[:,1], phi[:,1])\n",
    "phi_squaredz = np.add.outer(phi[:,2], phi[:,2])"
   ]
  },
  {
   "cell_type": "code",
   "execution_count": 9,
   "metadata": {},
   "outputs": [],
   "source": [
    "# here I integrate the phi^2 term over the sample\n",
    "\n",
    "# this is because integrating a polynomial means increasing the exponent by 1\n",
    "exponent_add = np.ones((N,N))\n",
    "\n",
    "# integrating the x, y, and z components individually\n",
    "integral_kin_x = ( (Lx/2)**(phi_squaredx+exponent_add) - (-Lx/2)**(phi_squaredx+exponent_add) ) / (phi_squaredx+exponent_add)\n",
    "integral_kin_y = ( (Ly/2)**(phi_squaredy+exponent_add) - (-Ly/2)**(phi_squaredy+exponent_add) ) / (phi_squaredy+exponent_add)\n",
    "integral_kin_z = ( (Lz/2)**(phi_squaredz+exponent_add) - (-Lz/2)**(phi_squaredz+exponent_add) ) / (phi_squaredz+exponent_add)\n",
    "integral_kinetic = integral_kin_x * integral_kin_y * integral_kin_z # multiplying the different integrals because that was the original problem\n",
    "\n",
    "# this is now where the final kinetic energy is calculated\n",
    "# Ekin is the matrix integral_kinetic multiplied with a delta fct with unrelated indices\n",
    "# this is mapped to a 3*len(integral_kinetic) x 3*len(integral_kinetic) matrix, where the diagonal elements are the matrix\n",
    "# integral_kinetic and everything else is zero\n",
    "Ekin = np.zeros( [3*N, 3*N ] )\n",
    "Ekin[:N, :N] = integral_kinetic\n",
    "Ekin[N:2*N, N:2*N] = integral_kinetic\n",
    "Ekin[2*N:3*N, 2*N:3*N] = integral_kinetic\n",
    "Ekin = Ekin * rho"
   ]
  },
  {
   "source": [
    "# calculate potential energy"
   ],
   "cell_type": "markdown",
   "metadata": {}
  },
  {
   "cell_type": "code",
   "execution_count": 10,
   "metadata": {},
   "outputs": [],
   "source": [
    "# this gives phi_lambda*phi_lambda^prime as a tensor\n",
    "dphidx_dphidx_x = np.add.outer(dphidx[:,0], dphidx[:,0])\n",
    "dphidx_dphidx_y = np.add.outer(dphidx[:,1], dphidx[:,1])\n",
    "dphidx_dphidx_z = np.add.outer(dphidx[:,2], dphidx[:,2])\n",
    "dphidx_dphidx_factor = np.outer(phi[:,0], phi[:,0])\n",
    "\n",
    "dphidy_dphidy_x = np.add.outer(dphidy[:,0], dphidy[:,0])\n",
    "dphidy_dphidy_y = np.add.outer(dphidy[:,1], dphidy[:,1])\n",
    "dphidy_dphidy_z = np.add.outer(dphidy[:,2], dphidy[:,2])\n",
    "dphidy_dphidy_factor = np.outer(phi[:,1], phi[:,1])\n",
    "\n",
    "dphidz_dphidz_x = np.add.outer(dphidz[:,0], dphidz[:,0])\n",
    "dphidz_dphidz_y = np.add.outer(dphidz[:,1], dphidz[:,1])\n",
    "dphidz_dphidz_z = np.add.outer(dphidz[:,2], dphidz[:,2])\n",
    "dphidz_dphidz_factor = np.outer(phi[:,2], phi[:,2])\n",
    "\n",
    "dphidx_dphidy_x = np.add.outer(dphidx[:,0], dphidy[:,0])\n",
    "dphidx_dphidy_y = np.add.outer(dphidx[:,1], dphidy[:,1])\n",
    "dphidx_dphidy_z = np.add.outer(dphidx[:,2], dphidy[:,2])\n",
    "dphidx_dphidy_factor = np.outer(phi[:,0], phi[:,1])\n",
    "\n",
    "dphidx_dphidz_x = np.add.outer(dphidx[:,0], dphidz[:,0])\n",
    "dphidx_dphidz_y = np.add.outer(dphidx[:,1], dphidz[:,1])\n",
    "dphidx_dphidz_z = np.add.outer(dphidx[:,2], dphidz[:,2])\n",
    "dphidx_dphidz_factor = np.outer(phi[:,0], phi[:,2])\n",
    "\n",
    "dphidy_dphidz_x = np.add.outer(dphidy[:,0], dphidz[:,0])\n",
    "dphidy_dphidz_y = np.add.outer(dphidy[:,1], dphidz[:,1])\n",
    "dphidy_dphidz_z = np.add.outer(dphidy[:,2], dphidz[:,2])\n",
    "dphidy_dphidz_factor = np.outer(phi[:,1], phi[:,2])\n",
    "\n",
    "dphi_dphi_x = np.array( [dphidx_dphidx_x, dphidy_dphidy_x, dphidz_dphidz_x, dphidx_dphidy_x, dphidx_dphidz_x, dphidy_dphidz_x] )\n",
    "dphi_dphi_y = np.array( [dphidx_dphidx_y, dphidy_dphidy_y, dphidz_dphidz_y, dphidx_dphidy_y, dphidx_dphidz_y, dphidy_dphidz_y] )\n",
    "dphi_dphi_z = np.array( [dphidx_dphidx_z, dphidy_dphidy_z, dphidz_dphidz_z, dphidx_dphidy_z, dphidx_dphidz_z, dphidy_dphidz_z] )\n",
    "factor = np.array( [dphidx_dphidx_factor, dphidy_dphidy_factor, dphidz_dphidz_factor, dphidx_dphidz_factor, dphidx_dphidz_factor, dphidy_dphidz_factor] )"
   ]
  },
  {
   "cell_type": "code",
   "execution_count": 11,
   "metadata": {},
   "outputs": [],
   "source": [
    "integral_pot_x = ( (Lx/2)**(dphi_dphi_x+exponent_add) - (-Lx/2)**(dphi_dphi_x+exponent_add) ) / (dphi_dphi_x+exponent_add)\n",
    "integral_pot_y = ( (Ly/2)**(dphi_dphi_y+exponent_add) - (-Ly/2)**(dphi_dphi_y+exponent_add) ) / (dphi_dphi_y+exponent_add)\n",
    "integral_pot_z = ( (Lz/2)**(dphi_dphi_z+exponent_add) - (-Lz/2)**(dphi_dphi_z+exponent_add) ) / (dphi_dphi_z+exponent_add)\n",
    "\n",
    "integral_potential = integral_pot_x * integral_pot_y * integral_pot_z * factor"
   ]
  },
  {
   "cell_type": "code",
   "execution_count": 12,
   "metadata": {},
   "outputs": [],
   "source": [
    "# integral potential is organized as: xx-0, yy-1, zz-2, xy-3, xz-4, yz-5\n",
    "potential_energy_11  = C[0,0,0,0]*integral_potential[0] + C[0,0,0,1]*integral_potential[3] + C[0,0,0,2]*integral_potential[4] + C[0,1,0,0]*integral_potential[3] + C[0,1,0,1] *integral_potential[1] + C[0,1,0,2]*integral_potential[5] + C[0,2,0,0]*integral_potential[4] + C[0,2,0,1]*integral_potential[5] + C[0,2,0,2]*integral_potential[3]\n",
    "\n",
    "potential_energy_22  = C[1,0,1,0]*integral_potential[0] + C[1,0,1,1]*integral_potential[3] + C[1,0,1,2]*integral_potential[4] + C[1,1,1,0]*integral_potential[3] + C[1,1,1,1] *integral_potential[1] + C[1,1,1,2]*integral_potential[5] + C[1,2,1,0]*integral_potential[4] + C[1,2,1,1]*integral_potential[5] + C[1,2,1,2]*integral_potential[3]\n",
    "\n",
    "potential_energy_33  = C[2,0,2,0]*integral_potential[0] + C[2,0,2,1]*integral_potential[3] + C[2,0,2,2]*integral_potential[4] + C[2,1,2,0]*integral_potential[3] + C[2,1,2,1] *integral_potential[1] + C[2,1,2,2]*integral_potential[5] + C[2,2,2,0]*integral_potential[4] + C[2,2,2,1]*integral_potential[5] + C[2,2,2,2]*integral_potential[3]\n",
    "\n",
    "potential_energy_12  = C[0,0,1,0]*integral_potential[0] + C[0,0,1,1]*integral_potential[3] + C[0,0,1,2]*integral_potential[4] + C[0,1,1,0]*integral_potential[3] + C[0,1,1,1] *integral_potential[1] + C[0,1,1,2]*integral_potential[5] + C[0,2,1,0]*integral_potential[4] + C[0,2,1,1]*integral_potential[5] + C[0,2,1,2]*integral_potential[3]\n",
    "\n",
    "potential_energy_13  = C[0,0,2,0]*integral_potential[0] + C[0,0,2,1]*integral_potential[3] + C[0,0,2,2]*integral_potential[4] + C[0,1,2,0]*integral_potential[3] + C[0,1,2,1] *integral_potential[1] + C[0,1,2,2]*integral_potential[5] + C[0,2,2,0]*integral_potential[4] + C[0,2,2,1]*integral_potential[5] + C[0,2,2,2]*integral_potential[3]\n",
    "\n",
    "potential_energy_23  = C[1,0,2,0]*integral_potential[0] + C[1,0,2,1]*integral_potential[3] + C[1,0,2,2]*integral_potential[4] + C[1,1,2,0]*integral_potential[3] + C[1,1,2,1] *integral_potential[1] + C[1,1,2,2]*integral_potential[5] + C[1,2,2,0]*integral_potential[4] + C[1,2,2,1]*integral_potential[5] + C[1,2,2,2]*integral_potential[3]"
   ]
  },
  {
   "cell_type": "code",
   "execution_count": 13,
   "metadata": {},
   "outputs": [],
   "source": [
    "Epot = np.zeros( [3*N, 3*N ] )\n",
    "Epot[:N, :N] = 0.5 * potential_energy_11\n",
    "Epot[N:2*N, N:2*N] = 0.5 * potential_energy_22\n",
    "Epot[2*N:3*N, 2*N:3*N] = 0.5 * potential_energy_33\n",
    "\n",
    "Epot[:N, N:2*N] = potential_energy_12\n",
    "Epot[:N, 2*N:3*N] = potential_energy_13\n",
    "Epot[N:2*N, 2*N:3*N] = potential_energy_13\n",
    "\n",
    "Epot = Epot + np.transpose(Epot)"
   ]
  },
  {
   "cell_type": "code",
   "execution_count": 14,
   "metadata": {},
   "outputs": [
    {
     "output_type": "execute_result",
     "data": {
      "text/plain": [
       "(252, 252)"
      ]
     },
     "metadata": {},
     "execution_count": 14
    }
   ],
   "source": [
    "np.shape(Epot)"
   ]
  },
  {
   "cell_type": "code",
   "execution_count": 19,
   "metadata": {},
   "outputs": [],
   "source": [
    "b = linalg.eigh(Epot, Ekin, eigvals_only= True)"
   ]
  },
  {
   "cell_type": "code",
   "execution_count": 20,
   "metadata": {},
   "outputs": [
    {
     "output_type": "stream",
     "name": "stdout",
     "text": [
      "[-3.20412679e+01 -2.45713290e+01 -2.27743134e+01 -2.02741365e+01\n -1.84580494e+01 -1.80091391e+01 -1.68747240e+01 -1.36342435e+01\n -1.26159568e+01 -1.20320250e+01 -1.07157932e+01 -9.98956468e+00\n -9.26600984e+00 -8.95928250e+00 -8.12863674e+00 -7.32033469e+00\n -6.97351732e+00 -6.42005730e+00 -5.87427759e+00 -5.39281932e+00\n -4.54140325e+00 -4.15026065e+00 -3.81916546e+00 -3.71384744e+00\n -3.19397979e+00 -2.97886141e+00 -2.76395671e+00 -2.38996944e+00\n -2.10721809e+00 -1.67041916e+00 -1.60161748e+00 -1.54105572e+00\n -1.32902762e+00 -1.03139955e+00 -1.00214223e+00 -7.45553369e-01\n -7.09702693e-01 -6.74602237e-01 -6.35887396e-01 -6.04880052e-01\n -5.61848464e-01 -3.61146719e-01 -3.18176058e-01 -2.56488861e-01\n -8.85995841e-02  0.00000000e+00  0.00000000e+00  0.00000000e+00\n  8.99072560e-01  1.39346360e+00  2.15082657e+00  2.55648164e+00\n  2.74240632e+00  3.37057200e+00  3.43014632e+00  3.76020331e+00\n  4.28274687e+00  4.62781904e+00  5.10364874e+00  5.97775292e+00\n  6.39676645e+00  6.44071435e+00  6.89877164e+00  7.09311756e+00\n  7.76769639e+00  7.95528647e+00  9.06177854e+00  9.37671056e+00\n  9.68162226e+00  1.01200862e+01  1.03879478e+01  1.07552260e+01\n  1.08526597e+01  1.09910170e+01  1.16817594e+01  1.19354390e+01\n  1.20450877e+01  1.26728431e+01  1.29341454e+01  1.33032020e+01\n  1.43773821e+01  1.59844261e+01  1.66136098e+01  1.93920003e+01\n  1.96570222e+01  2.05062272e+01  2.09937701e+01  2.15361112e+01\n  2.22813919e+01  2.40372870e+01  2.41147343e+01  2.47409668e+01\n  2.56913359e+01  2.67299800e+01  2.68784416e+01  2.76496830e+01\n  2.95136824e+01  2.98115915e+01  3.01534471e+01  3.06533254e+01\n  3.10931517e+01  3.12244956e+01  3.26208157e+01  3.33166995e+01\n  3.35998978e+01  3.43821651e+01  3.49396444e+01  3.51990907e+01\n  3.59625860e+01  3.61540162e+01  3.73111193e+01  3.90802488e+01\n  3.92649615e+01  4.06969040e+01  4.12109232e+01  4.15593822e+01\n  4.24413238e+01  4.39159663e+01  4.44576222e+01  4.59448874e+01\n  4.74624090e+01  4.80181854e+01  5.07645791e+01  5.23297142e+01\n  5.38095065e+01  5.83907011e+01  6.19469499e+01  6.39471577e+01\n  6.42179484e+01  6.48473875e+01  6.78106706e+01  6.99202843e+01\n  7.09165460e+01  7.36979032e+01  7.47158061e+01  7.58570136e+01\n  7.84634454e+01  7.91406602e+01  8.05493689e+01  8.24746204e+01\n  8.37524680e+01  8.56699397e+01  8.69511475e+01  8.87876686e+01\n  8.99700206e+01  9.29319505e+01  9.38643906e+01  9.42397399e+01\n  9.48013346e+01  9.60383295e+01  9.78724927e+01  9.84677380e+01\n  1.04886345e+02  1.05700596e+02  1.06544686e+02  1.09689336e+02\n  1.14038057e+02  1.17133716e+02  1.17283851e+02  1.26987217e+02\n  1.32329727e+02  1.33558521e+02  1.36094728e+02  1.40397344e+02\n  1.41479161e+02  1.41846083e+02  1.42188559e+02  1.45762384e+02\n  1.46810681e+02  1.49364332e+02  1.53099031e+02  1.54339803e+02\n  1.54695398e+02  1.58793564e+02  1.60249435e+02  1.61861638e+02\n  1.63119277e+02  1.66206369e+02  1.69207442e+02  1.70606900e+02\n  1.71596501e+02  1.77282929e+02  1.79015882e+02  1.80187323e+02\n  1.85289794e+02  1.87149693e+02  1.87793342e+02  1.98236852e+02\n  2.01205450e+02  2.06311536e+02  2.17084344e+02  2.21062018e+02\n  2.26752165e+02  2.31909927e+02  2.42606391e+02  2.46528393e+02\n  2.50471050e+02  2.55985590e+02  2.67780194e+02  2.68776926e+02\n  2.80335948e+02  2.81849413e+02  2.87369570e+02  2.88937884e+02\n  3.00670412e+02  3.07322749e+02  3.10816061e+02  3.14148759e+02\n  3.16239901e+02  3.21242628e+02  3.28054321e+02  3.33130050e+02\n  3.34029562e+02  3.43944548e+02  3.51669321e+02  3.63075054e+02\n  3.74889606e+02  3.77984151e+02  3.91331130e+02  4.10746312e+02\n  4.27211708e+02  4.54362281e+02  4.80997302e+02  5.10869414e+02\n  5.25963034e+02  5.34763683e+02  5.67376269e+02  5.80605093e+02\n  5.88026935e+02  6.19005771e+02  6.51973802e+02  6.60881825e+02\n  6.87142952e+02  7.15422301e+02  7.26277098e+02  7.39367008e+02\n  7.50172034e+02  8.21769151e+02  9.55251597e+02  9.70829749e+02\n  1.05762593e+03  1.09930271e+03  1.26517999e+03  1.32084063e+03\n  1.36280744e+03  1.40329578e+03  1.45292905e+03  1.86888859e+03\n  1.95108738e+03  2.02278077e+03  2.49588623e+03  3.58508173e+03]\n"
     ]
    }
   ],
   "source": [
    "import numpy as np \n",
    "from numpy import array\n",
    "from scipy import linalg as LA\n",
    "\n",
    "N = 6\n",
    "V = (1.4, 1.2, 1.9)\n",
    "rho = 1.\n",
    "\n",
    "C = np.zeros([3, 3, 3, 3])\n",
    "compress, shear, ax = 5., 1. , .5\n",
    "for k in range(3):\n",
    "    C[k,k,k,k] = compress\n",
    "C[1,2,1,2]=C[2,1,1,2]=C[1,2,2,1]=shear\n",
    "C[1,0,1,0]=C[0,1,1,0]=C[1,0,0,1]=shear\n",
    "C[0,2,0,2]=C[2,0,0,2]=C[0,2,2,0]=shear\n",
    "C[0,0,1,1]=C[1,1,0,0]=ax\n",
    "C[0,0,2,2]=C[2,2,0,0]=ax\n",
    "C[2,2,1,1]=C[1,1,2,2]=ax\n",
    "\n",
    "basis = {}\n",
    "idx = 0\n",
    "for l in range(N+1):\n",
    "    for m in range(N+1):\n",
    "        for n in range(N+1):\n",
    "            if l + m + n > N: continue\n",
    "            for ii in range(3):\n",
    "                basis[idx] = [l, m, n, ii]\n",
    "                idx += 1\n",
    "            \n",
    "E = np.zeros([idx, idx])\n",
    "G = np.zeros([idx, idx])\n",
    "\n",
    "for i in range(idx):\n",
    "    for j in range(i, idx):\n",
    "        b1, b2 = basis[i], basis[j]\n",
    "        pow_sum =array([b1[0]+b2[0], b1[1]+b2[1], b1[2]+b2[2]])\n",
    "        vol_int = (V[0]**(pow_sum[0]+1) + V[1]**(pow_sum[1]+1) + V[2]**(pow_sum[2]+1))/((pow_sum[0]+1)*(pow_sum[1]+1)*(pow_sum[2]+1))\n",
    "        if b1[-1]==b2[-1]: \n",
    "            E[i, j] = rho * vol_int\n",
    "            if i != j: E[j,i] = E[i,j]\n",
    "        tmp = 0\n",
    "        for k in range(3):\n",
    "            if pow_sum[k] == 1: tmp += 0\n",
    "            else: tmp += b1[k]*b2[k] * (pow_sum[k] + 1) * C[b1[-1], k, b2[-1], k] / (V[k]**2 * (pow_sum[k] - 1))\n",
    "            for l in range(3):\n",
    "                if l == k or pow_sum[l]==0 or pow_sum[k]==0: pass\n",
    "                else: tmp += b1[k]*b2[l]*(pow_sum[k]+1)*(pow_sum[l]+1)*C[b1[-1], k, b2[-1], l] / (V[k]*V[l]*pow_sum[k]*pow_sum[l])\n",
    "        G[i, j] = vol_int * tmp \n",
    "        if i != j: G[j, i] = G[i,j]\n",
    "\n",
    "w = LA.eigh(G, E, eigvals_only= True)\n",
    "\n",
    "print (w)"
   ]
  },
  {
   "cell_type": "code",
   "execution_count": 21,
   "metadata": {},
   "outputs": [
    {
     "output_type": "execute_result",
     "data": {
      "text/plain": [
       "array([-6.78751325e+02, -6.63254437e+02, -4.50436437e+02, -4.28658940e+02,\n",
       "       -2.69429379e+02, -2.64190022e+02, -2.59349056e+02, -2.51197461e+02,\n",
       "       -1.90369281e+02, -1.75017790e+02, -1.33530414e+02, -1.29007622e+02,\n",
       "       -1.23402453e+02, -1.19037278e+02, -9.60704887e+01, -7.08309572e+01,\n",
       "       -6.82327886e+01, -6.77891262e+01, -5.36321485e+01, -5.17829381e+01,\n",
       "       -4.48095217e+01, -4.05780834e+01, -3.17984294e+01, -3.07929848e+01,\n",
       "       -2.80309686e+01, -2.67295329e+01, -2.32280418e+01, -2.22524557e+01,\n",
       "       -2.07504795e+01, -1.39528461e+01, -1.29529470e+01, -1.02358381e+01,\n",
       "       -6.75160194e+00, -6.29587307e+00, -3.72241813e+00, -2.31422838e+00,\n",
       "       -1.72374720e+00, -5.32260936e-01, -1.92526153e-01, -5.34857388e-02,\n",
       "       -2.92174333e-02, -3.61709386e-14,  0.00000000e+00,  3.42925961e-15,\n",
       "        8.16027518e-05,  2.23874292e-03,  5.74344908e-02,  8.84074948e-02,\n",
       "        6.67385093e-01,  1.01025605e+00,  2.57919978e+00,  2.94901997e+00,\n",
       "        3.41356097e+00,  3.84116589e+00,  6.19025224e+00,  6.43894706e+00,\n",
       "        6.74997951e+00,  6.85389375e+00,  6.85389375e+00,  7.15325210e+00,\n",
       "        8.47371452e+00,  1.21194393e+01,  1.32868471e+01,  1.34368138e+01,\n",
       "        1.40436963e+01,  1.42469112e+01,  1.53667146e+01,  1.63006567e+01,\n",
       "        1.75805547e+01,  1.90610082e+01,  2.03719300e+01,  2.12496511e+01,\n",
       "        2.43347289e+01,  2.61607698e+01,  2.67831679e+01,  2.74164843e+01,\n",
       "        2.74164843e+01,  2.75233120e+01,  2.82587884e+01,  2.99630030e+01,\n",
       "        3.08013747e+01,  3.22716899e+01,  3.36438872e+01,  3.41534681e+01,\n",
       "        3.42694688e+01,  3.73005752e+01,  3.74270650e+01,  3.78185284e+01,\n",
       "        3.94403771e+01,  4.13143695e+01,  4.16116171e+01,  4.29746374e+01,\n",
       "        4.36948859e+01,  4.56880254e+01,  4.68956356e+01,  4.96795327e+01,\n",
       "        5.05212022e+01,  5.12888680e+01,  5.14707809e+01,  5.35665069e+01,\n",
       "        5.45813526e+01,  5.70078957e+01,  5.79152845e+01,  5.82016958e+01,\n",
       "        5.91124048e+01,  6.19190880e+01,  6.22519087e+01,  6.33510105e+01,\n",
       "        6.33510105e+01,  6.41916822e+01,  6.57033828e+01,  6.62397588e+01,\n",
       "        6.85041287e+01,  7.09936736e+01,  7.22948027e+01,  7.27293520e+01,\n",
       "        7.85608827e+01,  8.24683314e+01,  8.34923649e+01,  8.50008145e+01,\n",
       "        8.72208873e+01,  8.86806443e+01,  8.96088904e+01,  9.47476435e+01,\n",
       "        9.74541709e+01,  1.01178613e+02,  1.05448887e+02,  1.08830401e+02,\n",
       "        1.11982593e+02,  1.15517292e+02,  1.16552936e+02,  1.16609163e+02,\n",
       "        1.16609163e+02,  1.20466728e+02,  1.21441631e+02,  1.25884966e+02,\n",
       "        1.30179259e+02,  1.30304766e+02,  1.33926309e+02,  1.35828538e+02,\n",
       "        1.36232789e+02,  1.37082422e+02,  1.39971496e+02,  1.42045314e+02,\n",
       "        1.43841311e+02,  1.46300645e+02,  1.47432351e+02,  1.48383272e+02,\n",
       "        1.52267120e+02,  1.54211286e+02,  1.60237640e+02,  1.62921314e+02,\n",
       "        1.63037010e+02,  1.65427521e+02,  1.67087441e+02,  1.67918289e+02,\n",
       "        1.69267445e+02,  1.72999699e+02,  1.89685222e+02,  1.91987304e+02,\n",
       "        1.92456965e+02,  1.99596843e+02,  2.00927233e+02,  2.03907895e+02,\n",
       "        2.10944891e+02,  2.12648872e+02,  2.21929679e+02,  2.32253241e+02,\n",
       "        2.36604962e+02,  2.42575420e+02,  2.47350650e+02,  2.49667791e+02,\n",
       "        2.63708614e+02,  2.64134411e+02,  2.64619973e+02,  2.65808618e+02,\n",
       "        2.67691814e+02,  2.71229328e+02,  2.71490104e+02,  2.73989772e+02,\n",
       "        2.76428238e+02,  2.80021270e+02,  2.80251345e+02,  2.89883000e+02,\n",
       "        2.91143495e+02,  2.95629738e+02,  2.99802365e+02,  3.00819385e+02,\n",
       "        3.01505843e+02,  3.13400675e+02,  3.14879894e+02,  3.16755053e+02,\n",
       "        3.20392244e+02,  3.23085948e+02,  3.30572593e+02,  3.33028335e+02,\n",
       "        3.67396452e+02,  3.75074605e+02,  3.78199807e+02,  3.89779804e+02,\n",
       "        4.14850799e+02,  4.17102680e+02,  4.31446026e+02,  4.39490023e+02,\n",
       "        4.62571120e+02,  4.65621338e+02,  4.69261692e+02,  5.02990644e+02,\n",
       "        5.04022611e+02,  5.13128429e+02,  5.13128429e+02,  5.13269964e+02,\n",
       "        5.18307820e+02,  5.20159669e+02,  5.31950034e+02,  5.43573073e+02,\n",
       "        5.54349178e+02,  5.64489708e+02,  5.83045813e+02,  5.87749813e+02,\n",
       "        5.96947689e+02,  5.99052533e+02,  6.12326072e+02,  6.21883337e+02,\n",
       "        6.29216346e+02,  6.30872857e+02,  6.63544381e+02,  6.79237829e+02,\n",
       "        6.85604748e+02,  7.25471176e+02,  9.05974353e+02,  9.05974353e+02,\n",
       "        9.56368637e+02,  9.81544659e+02,  9.94199288e+02,  1.03536667e+03,\n",
       "        1.06399867e+03,  1.10416055e+03,  1.12807119e+03,  1.32064967e+03,\n",
       "        1.32217572e+03,  1.32644356e+03,  1.33128796e+03,  1.35126182e+03,\n",
       "        1.91057038e+03,  1.92899363e+03,  1.99193376e+03,  2.56564215e+03,\n",
       "        2.56629353e+03,  2.57180477e+03,  3.36410040e+03,  4.52987177e+03])"
      ]
     },
     "metadata": {},
     "execution_count": 21
    }
   ],
   "source": [
    "b"
   ]
  },
  {
   "cell_type": "code",
   "execution_count": null,
   "metadata": {},
   "outputs": [],
   "source": []
  }
 ],
 "metadata": {
  "kernelspec": {
   "display_name": "Python 3",
   "language": "python",
   "name": "python3"
  },
  "language_info": {
   "codemirror_mode": {
    "name": "ipython",
    "version": 3
   },
   "file_extension": ".py",
   "mimetype": "text/x-python",
   "name": "python",
   "nbconvert_exporter": "python",
   "pygments_lexer": "ipython3",
   "version": "3.7.3-final"
  }
 },
 "nbformat": 4,
 "nbformat_minor": 4
}