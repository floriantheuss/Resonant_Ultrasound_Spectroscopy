{
 "cells": [
  {
   "cell_type": "code",
   "execution_count": 2,
   "metadata": {},
   "outputs": [],
   "source": [
    "import numpy as np\n",
    "import matplotlib.pyplot as plt\n",
    "import os.path\n",
    "import os\n",
    "from scipy.interpolate import interp1d\n",
    "from scipy.signal import butter,filtfilt\n",
    "from scipy.optimize import curve_fit\n",
    "from scipy import odr"
   ]
  },
  {
   "cell_type": "markdown",
   "metadata": {},
   "source": [
    "# Imort frequency files"
   ]
  },
  {
   "cell_type": "code",
   "execution_count": 16,
   "metadata": {},
   "outputs": [],
   "source": [
    "def import_data (filepath, number_of_headers, number_of_columns):\n",
    "    \n",
    "    unsorted_data = []\n",
    "    f = open(filepath, 'r')\n",
    "    \n",
    "    for i in np.arange(number_of_headers):\n",
    "        f.readline()\n",
    "    \n",
    "    if number_of_columns == 'all':\n",
    "        for line in f:\n",
    "            line = line.strip()\n",
    "            line = line.split()\n",
    "            for i in np.arange(len(line)):\n",
    "                line[i] = float(line[i])\n",
    "            unsorted_data.append(line)\n",
    "    else:\n",
    "        for line in f:\n",
    "            line=line.strip()\n",
    "            line=line.split()\n",
    "            for i in np.arange(number_of_columns):\n",
    "                line[i] = float(line[i])\n",
    "            unsorted_data.append(line[:number_of_columns])\n",
    "    \n",
    "    unsorted_data.sort(key = lambda x:x[0])     # this sorts all data files according to temperature    \n",
    "    data = np.array(unsorted_data).transpose()\n",
    "    \n",
    "    return (data)"
   ]
  },
  {
   "cell_type": "markdown",
   "metadata": {},
   "source": [
    "# throw out data that is too far away (i.e. obviously wrong)"
   ]
  },
  {
   "cell_type": "code",
   "execution_count": null,
   "metadata": {},
   "outputs": [],
   "source": [
    "def clean_data (T, f, gamma, epsilon):\n",
    "    df = np.gradient(f)\n",
    "    ddf = np.gradient(df)\n",
    "    \n",
    "    m = np.mean(abs(ddf))\n",
    "    std = np.std(abs(ddf))\n",
    "    \n",
    "    mask = abs(abs(ddf)-m)<epsilon*std\n",
    "    fnew = f[mask]\n",
    "    Tnew = T[mask]\n",
    "    gammanew = gamma[mask]\n",
    "    \n",
    "    return ( Tnew, fnew, gammanew )"
   ]
  },
  {
   "cell_type": "markdown",
   "metadata": {},
   "source": [
    "# interpolate the data"
   ]
  },
  {
   "cell_type": "code",
   "execution_count": null,
   "metadata": {},
   "outputs": [],
   "source": [
    "# this part of the code is to throw away all data points that have the same temperature\n",
    "# this is necessary to being able to interpolate the data\n",
    "\n",
    "def interpolate (T, f, gamma, Tinterpolation, kind):\n",
    "    index = []\n",
    "    for i in np.arange(len(T)-1):\n",
    "        if T[i] == T[i+1]:\n",
    "            index.append(i)\n",
    "    \n",
    "    maskint = np.ones(len(T))\n",
    "    for k in index:\n",
    "        maskint[k] = 0\n",
    "    maskint = (maskint == 1)\n",
    "    # the lines of code above throw away all data which has the same temperature values\n",
    "    \n",
    "    f_int = interp1d(T[maskint], f[maskint], kind=kind)(Tinterpolation)\n",
    "    g_int = interp1d(T[maskint], gamma[maskint], kind=kind)(Tinterpolation)\n",
    "    \n",
    "    return (f_int, g_int)"
   ]
  },
  {
   "cell_type": "markdown",
   "metadata": {},
   "source": [
    "# apply low-pass filter to data"
   ]
  },
  {
   "cell_type": "code",
   "execution_count": null,
   "metadata": {},
   "outputs": [],
   "source": [
    "def butter_lowpass_filter_ready (f, cutoff_frequency):\n",
    "    \n",
    "    # Filter requirements.\n",
    "    period = 5.0         # Sample Period\n",
    "    fs = 50       # sample rate, Hz\n",
    "    cutoff = cutoff_frequency      # desired cutoff frequency of the filter, Hz , slightly higher than actual 1.2 Hz\n",
    "    \n",
    "    nyq = 0.5 * fs  # Nyquist Frequency\n",
    "    \n",
    "    order = 2       # sin wave can be approx represented as quadratic\n",
    "    n = int(period * fs) # total number of samples\n",
    "    \n",
    "    \n",
    "    normal_cutoff = cutoff / nyq\n",
    "    # Get the filter coefficients \n",
    "    b, a = butter(order, normal_cutoff, btype='low', analog=False)\n",
    "    y = filtfilt(b, a, f)\n",
    "    return y"
   ]
  },
  {
   "cell_type": "markdown",
   "metadata": {},
   "source": [
    "# Save data"
   ]
  },
  {
   "cell_type": "code",
   "execution_count": 1,
   "metadata": {},
   "outputs": [],
   "source": [
    "def save (data, text, filename):\n",
    "    if os.path.isfile(filename) == True:\n",
    "        x='w'\n",
    "    else:\n",
    "        x='x'\n",
    "        \n",
    "    with open(filename, x) as g:\n",
    "        if text != 'None':\n",
    "            for line in text:\n",
    "                a = ''\n",
    "                for i in line:\n",
    "                    a = a + i + '\\t'\n",
    "                a = a[:-1] + '\\n'\n",
    "                g.write(a)\n",
    "            \n",
    "        for line in data:\n",
    "            a = ''\n",
    "            for i in line:\n",
    "                a = a + str(i) + '\\t'\n",
    "            a = a[:-1] + '\\n'\n",
    "            g.write(a)"
   ]
  },
  {
   "cell_type": "markdown",
   "metadata": {},
   "source": [
    "# calculate elastic constants from resonance frequencies"
   ]
  },
  {
   "cell_type": "code",
   "execution_count": null,
   "metadata": {},
   "outputs": [],
   "source": [
    "def elastic_constants(resonance_frequencies, highT_frequencies, a, ChighT):\n",
    "    dfof_ht = np.array([(resonance_frequencies[i]-highT_frequencies[i])/highT_frequencies[i] for i in np.arange(len(highT_frequencies))])\n",
    "    \n",
    "    step1 = np.linalg.inv(np.matmul(a.transpose(), a))\n",
    "    step1[abs(step1)<1e-14] = 0\n",
    "    \n",
    "    step2 = np.matmul(step1, a.transpose())\n",
    "    step2[abs(step2)<1e-14] = 0\n",
    "    \n",
    "    step3 = 2* np.array([np.matmul(step2, dfof_ht.transpose()[i]) for i in np.arange(len(dfof_ht.transpose()))])\n",
    "    \n",
    "    CofT = np.array([(step3.transpose()[i]*ChighT[i])+ChighT[i] for i in np.arange(len(ChighT))])\n",
    "    \n",
    "    return CofT"
   ]
  }
 ],
 "metadata": {
  "kernelspec": {
   "display_name": "Python 3",
   "language": "python",
   "name": "python3"
  },
  "language_info": {
   "codemirror_mode": {
    "name": "ipython",
    "version": 3
   },
   "file_extension": ".py",
   "mimetype": "text/x-python",
   "name": "python",
   "nbconvert_exporter": "python",
   "pygments_lexer": "ipython3",
   "version": "3.7.3-final"
  }
 },
 "nbformat": 4,
 "nbformat_minor": 4
}