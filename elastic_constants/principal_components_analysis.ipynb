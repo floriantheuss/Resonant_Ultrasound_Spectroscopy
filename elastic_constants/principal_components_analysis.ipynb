{
 "metadata": {
  "language_info": {
   "codemirror_mode": {
    "name": "ipython",
    "version": 3
   },
   "file_extension": ".py",
   "mimetype": "text/x-python",
   "name": "python",
   "nbconvert_exporter": "python",
   "pygments_lexer": "ipython3",
   "version": "3.6.4-final"
  },
  "orig_nbformat": 2,
  "kernelspec": {
   "name": "python3",
   "display_name": "Python 3"
  }
 },
 "nbformat": 4,
 "nbformat_minor": 2,
 "cells": [
  {
   "cell_type": "code",
   "execution_count": 1,
   "metadata": {},
   "outputs": [],
   "source": [
    "import numpy as np\n",
    "import matplotlib.pyplot as plt\n",
    "import os.path\n",
    "import os\n",
    "from scipy.interpolate import interp1d\n",
    "from scipy.signal import butter,filtfilt\n",
    "from scipy.optimize import curve_fit\n",
    "from scipy import odr\n",
    "import scipy.linalg as la\n",
    "\n",
    "#%matplotlib inline\n",
    "%matplotlib qt\n",
    "%run Functions_for_RUS_LabView.ipynb"
   ]
  },
  {
   "cell_type": "code",
   "execution_count": 42,
   "metadata": {},
   "outputs": [
    {
     "output_type": "execute_result",
     "data": {
      "text/plain": "array(['1677kHz_up_clean.dat', '1894kHz_up_clean.dat',\n       '2003kHz_up_clean.dat', '2234kHz_up_clean.dat',\n       '2367kHz_down_clean.dat', '2522kHz_up_clean.dat',\n       '2641kHz_up_clean.dat', '2750kHz_down.dat', '2791kHz_down.dat',\n       '3397kHz_up_clean.dat'], dtype='<U22')"
     },
     "metadata": {},
     "execution_count": 42
    }
   ],
   "source": [
    "folder = \"C:\\\\Users\\\\j111\\\\Box Sync\\\\Projects\"\n",
    "folder = \"C:\\\\Users\\\\Florian\\\\Box Sync\\\\Projects\"\n",
    "project = \"\\\\Mn3Ge\\\\RUS\\\\Mn3Ge_2007A\\\\temp_dependent_data_with_Labview\\\\improved_setup\\\\good_data\"\n",
    "# project = \"\\\\Mn3.019Sn0.981\\\\RUS\\\\2007A\\\\good_data\"\n",
    "project = \"/UTe2/RUS/UTe2_2007C/PLL/good data\"\n",
    "\n",
    "data_files = os.listdir(folder+project)\n",
    "data_files = [i for i in data_files if i[-4:]=='.dat']\n",
    "np.array(data_files)"
   ]
  },
  {
   "cell_type": "code",
   "execution_count": 43,
   "metadata": {},
   "outputs": [],
   "source": [
    "filenames = [folder + project + '\\\\' + i for i in data_files[:]]\n",
    "Traw = []\n",
    "fraw = []\n",
    "gammaraw = []\n",
    "\n",
    "for name in filenames:\n",
    "    individual_data = []\n",
    "    T, f= import_data(name, 1, 2)    \n",
    "    Traw.append(np.array(T))\n",
    "    fraw.append(np.array(f))\n",
    "    #gammaraw.append(np.array(gamma))\n",
    "    \n",
    "# write data into seperate arrays for temperature \"T\" and frequency \"f\"\n",
    "Traw = np.array(Traw) # temperature in K\n",
    "fraw = np.array(fraw) # frequencies in kHz\n",
    "#gammaraw = np.array(gammaraw) # resonance widths in kHz"
   ]
  },
  {
   "cell_type": "code",
   "execution_count": 46,
   "metadata": {},
   "outputs": [],
   "source": [
    "Tmin = 1.274\n",
    "Tmax = 1.7\n",
    "# Tmin = 355\n",
    "# Tmax = 385\n",
    "mask = np.array([(i > Tmin) & (i < Tmax) for i in Traw])\n",
    "labels = ([str(np.round(i[-1]/1e3, 0))[:-2]+' kHz' for i in fraw])\n",
    "\n",
    "plt.figure(figsize=(9.5,7))\n",
    "palette = plt.get_cmap('viridis')\n",
    "for i in np.arange(len(Traw)):\n",
    "   # plt.scatter(Traw[i][mask[i]], ((fraw[i]-fraw[i][-1])/fraw[i][-1]*1e5)[mask[i]], s=10, color=palette(i/(len(Traw)-1)), label=labels[i])\n",
    "   plt.scatter(Traw[i][mask[i]], fraw[i][mask[i]], s=10, color=palette(i/(len(Traw)-1)), label=labels[i])\n",
    "\n",
    "\n",
    "plt.xlabel('T (K)',fontsize=22)\n",
    "plt.ylabel('$\\\\mathrm{\\\\Delta f / f}$ $(10^{-5})$',fontsize=22)\n",
    "plt.xlim(Tmin-0.01, Tmax+0.01)\n",
    "plt.legend(fontsize=18, markerscale=4)\n",
    "plt.tick_params(axis=\"both\",direction=\"in\", labelsize=20, bottom='True', top='True', left='True', right='True', \n",
    "                length=4, width=1, which = 'major')\n",
    "\n",
    "plt.show()"
   ]
  },
  {
   "cell_type": "markdown",
   "metadata": {},
   "source": [
    "# Interpolate the data"
   ]
  },
  {
   "cell_type": "code",
   "execution_count": 27,
   "metadata": {
    "tags": []
   },
   "outputs": [
    {
     "output_type": "stream",
     "name": "stdout",
     "text": "the maximum temperature range is 365.0443 to 374.9553 K\n"
    }
   ],
   "source": [
    "# this creates interpolated frequency data at the same temperature points in the biggest temperature\n",
    "# range possible (all frequency curves have to be measured in at least this temperature range)\n",
    "Tmin_int = max([min(t) for t in Traw])\n",
    "Tmax_int = min([max(t) for t in Traw])\n",
    "# Tmin_int = 365\n",
    "# Tmax_int = 375\n",
    "n = np.mean(np.array([len(t) for t in Traw]))\n",
    "Tint = np.linspace(Tmin_int, Tmax_int, int(n))\n",
    "\n",
    "fint = []\n",
    "gint = []\n",
    "# for i in np.arange(len(Traw)):\n",
    "#     fi, gi = interpolate(Traw[i], fraw[i], gammaraw[i], Tint, 'linear')\n",
    "#     fint.append(fi)\n",
    "#     gint.append(gi)\n",
    "\n",
    "for i in np.arange(len(Traw)):\n",
    "    fint.append( interp1d(Traw[i], fraw[i], kind='linear')(Tint) )\n",
    "\n",
    "fint = np.array(fint)\n",
    "dfint = np.array([(i-i[-1]) for i in fint])\n",
    "dfofint = np.array([(i-i[-1]/i) for i in fint])\n",
    "#gint = np.array(gint)\n",
    "\n",
    "\n",
    "# mask the raw data arrays such that df is zero at the same temperature\n",
    "mask_raw = np.array([(i >= Tmin_int) & (i <= Tmax_int) for i in Traw])\n",
    "Traw = np.array([Traw[i][mask_raw[i]] for i in np.arange(len(Traw))])\n",
    "fraw = np.array([fraw[i][mask_raw[i]] for i in np.arange(len(Traw))])\n",
    "dfraw = np.array([(i-i[-1]) for i in fraw])\n",
    "dfofraw = np.array([(i-i[-1])/i[-1] for i in fraw])\n",
    "#graw = np.array([gammaraw[i][mask_raw[i]] for i in np.arange(len(Traw))])\n",
    "\n",
    "print('the maximum temperature range is '+str(Tmin_int)+' to '+str(Tmax_int)+' K')\n",
    "\n",
    "Tlp = Tint\n",
    "flp = fint\n",
    "dflp = dfint\n",
    "dfoflp = dfofint"
   ]
  },
  {
   "cell_type": "markdown",
   "metadata": {},
   "source": [
    "# Plot the interpolated curves"
   ]
  },
  {
   "cell_type": "code",
   "execution_count": 28,
   "metadata": {},
   "outputs": [
    {
     "output_type": "execute_result",
     "data": {
      "text/plain": "<matplotlib.legend.Legend at 0x20f578607f0>"
     },
     "metadata": {},
     "execution_count": 28
    }
   ],
   "source": [
    "# this just plots the filtered frequency over the raw data\n",
    "\n",
    "Tmin = 1\n",
    "Tmax = 2\n",
    "Tmin = 355\n",
    "Tmax = 385\n",
    "\n",
    "# which frequencies do you want to plot\n",
    "resonances = np.arange(len(flp))\n",
    "#resonances = [0,5,10,12]\n",
    "\n",
    "\n",
    "plt.figure(figsize=(10,7))\n",
    "\n",
    "# make scatter plot of raw data\n",
    "mask_raw = np.array([(i >= Tmin) & (i <= Tmax) for i in Traw])\n",
    "\n",
    "#shift = [.3, 0, .4, -0.3, -1]\n",
    "#index = [1, 3, 5, 9, 13]\n",
    "#shift = 7\n",
    "for i in resonances:\n",
    "    palette = plt.get_cmap('brg')\n",
    "    plt.scatter(Traw[i][mask_raw[i]], dfraw[i][mask_raw[i]], color=palette(i/(len(flp)-1)), s=10)\n",
    "    \n",
    "\n",
    "# make plot of interpolation\n",
    "mask_lp = (Tint >= Tmin) & (Tint <= Tmax)\n",
    "\n",
    "shift = 7\n",
    "for i in resonances:\n",
    "    palette = plt.get_cmap('Set1')\n",
    "    plt.plot(Tlp[mask_lp], dflp[i][mask_lp], color=palette(i/len(flp)), label=(str(round(fraw[i][-1], 1))+', '+str(i)))\n",
    "\n",
    "\n",
    "plt.xlabel('T (K)',fontsize=20)\n",
    "plt.ylabel('$\\mathrm{\\Delta f\\,\\,(kHz)}$',fontsize=20)\n",
    "plt.tick_params(axis=\"both\",direction=\"in\", labelsize=18, bottom='True', top='True', left='True', right='True', length=4, width=1, which = 'major')\n",
    "\n",
    "#plt.ylim([-40, 20])\n",
    "#plt.xlim(360, 380)\n",
    "\n",
    "plt.legend(loc=(.6, .04), fontsize=17)"
   ]
  },
  {
   "cell_type": "markdown",
   "metadata": {},
   "source": [
    "# get principal components"
   ]
  },
  {
   "cell_type": "code",
   "execution_count": 29,
   "metadata": {
    "tags": []
   },
   "outputs": [
    {
     "output_type": "stream",
     "name": "stdout",
     "text": "14\n(41, 41)\n"
    }
   ],
   "source": [
    "fnew = dflp[:,::10]\n",
    "# fmean = np.array([i-np.mean(i) for i in fnew])\n",
    "# fnew = fmean\n",
    "print(len(fnew))\n",
    "Tpv = Tlp[::10]\n",
    "M = np.dot( np.transpose(fnew), fnew )\n",
    "\n",
    "print(M.shape)"
   ]
  },
  {
   "cell_type": "code",
   "execution_count": 30,
   "metadata": {
    "tags": []
   },
   "outputs": [
    {
     "output_type": "stream",
     "name": "stdout",
     "text": "[[ 6.09978005e-01 -1.65355444e-01 -1.82065418e-01 ... -1.21336016e-01\n  -3.07094519e-01  2.61253129e-01]\n [-6.89071492e-01 -1.31050433e-01 -8.64450443e-02 ... -9.76530830e-02\n  -2.80540950e-01  2.58864242e-01]\n [ 2.98860210e-02  3.01842345e-01  1.80677433e-02 ... -7.30871522e-02\n  -2.50426637e-01  2.56407012e-01]\n ...\n [-6.03471058e-02  4.18515210e-02 -2.53354986e-02 ... -5.27996337e-02\n  -8.92975043e-04  3.77434045e-03]\n [-3.19405778e-02  2.53789327e-02 -1.61236090e-01 ... -3.68481277e-02\n  -9.30692031e-05  2.21526542e-03]\n [-2.82421472e-03  4.93536130e-03 -5.80793764e-02 ... -8.15710507e-03\n   6.57295873e-05  5.96067508e-04]]\n0.7492106805653009\n"
    }
   ],
   "source": [
    "val, vec = np.linalg.eigh(M)\n",
    "print(vec)\n",
    "print(np.max(vec))\n",
    "#val = val[::-1]\n",
    "#vec = vec[::-1]"
   ]
  },
  {
   "cell_type": "code",
   "execution_count": 36,
   "metadata": {},
   "outputs": [],
   "source": [
    "plt.figure(figsize=(10,7))\n",
    "mask = (Tpv>1.29) & (Tpv < 1.65)\n",
    "mask = (Tpv>355) & (Tpv<385)\n",
    "\n",
    "# plt.plot(Tpv[mask], -vec[:,-1][mask]+0.06, label=str(round(val[-1], 0))[:-2], linewidth=4 )\n",
    "# plt.plot(Tpv[mask], -vec[:,-2][mask]*1.2+0.01, label=str(round(val[-2], 0))[:-2], linewidth=4 )\n",
    "# plt.plot(Tpv[mask], vec[:,-3][mask]/1.7, label=str(round(val[-3], 0))[:-2], linewidth=4 )\n",
    "plt.plot(Tpv[mask], -vec[:,-1][mask], label=str(round(val[-1], 0))[:-2], linewidth=4 )\n",
    "plt.plot(Tpv[mask], -vec[:,-2][mask], label=str(round(val[-2], 0))[:-2], linewidth=4 )\n",
    "plt.plot(Tpv[mask], -vec[:,-3][mask], label=str(round(val[-3], 0))[:-2], linewidth=4 )\n",
    "# plt.plot(Tpv[mask], vec[:,-4][mask]/1.7, label=str(round(val[-4], 0))[:-2], linewidth=4 )\n",
    "# plt.plot(Tpv[mask], vec[:,-5][mask]/1.7, label=str(round(val[-5], 0))[:-2], linewidth=4 )\n",
    "\n",
    "#plt.plot(Tpv, -vec[:,-4]/1.5-0.02, label=str(round(val[-4], 0))[:-2], linewidth=4 )\n",
    "\n",
    "plt.xlabel('T (K)',fontsize=20)\n",
    "#plt.ylabel('$\\\\phi_\\\\mathrm{i}$ (a.u.)',fontsize=20)\n",
    "plt.ylabel('Eigenvectors (a.u.)',fontsize=20)\n",
    "plt.tick_params(axis=\"x\",direction=\"in\", labelsize=18, bottom='True', top='True', left='True', right='True', length=4, width=1, which = 'major')\n",
    "plt.tick_params(axis=\"y\",direction=\"in\", labelsize=0, bottom='True', top='True', left='False', right='False', length=0, width=0, which = 'major')\n",
    "\n",
    "\n",
    "legend = plt.legend(title='Eigenvalues', fontsize=18)\n",
    "legend.get_title().set_fontsize('18')\n",
    "# plt.xlim(1.285, 1.655)"
   ]
  },
  {
   "cell_type": "code",
   "execution_count": 14,
   "metadata": {},
   "outputs": [
    {
     "output_type": "execute_result",
     "data": {
      "text/plain": "array([5.58214311e-01, 8.89959766e-01, 2.28487001e+00, 5.42515877e+00,\n       1.79052640e+01, 2.52744051e+01, 7.24919560e+01, 7.43854233e+03,\n       3.25439549e+04, 4.41032923e+06])"
     },
     "metadata": {},
     "execution_count": 14
    }
   ],
   "source": [
    "val[-10:]"
   ]
  },
  {
   "cell_type": "markdown",
   "metadata": {},
   "source": [
    "# get projection of frequencies on principal components"
   ]
  },
  {
   "cell_type": "code",
   "execution_count": 70,
   "metadata": {},
   "outputs": [
    {
     "output_type": "execute_result",
     "data": {
      "text/plain": "(10, 1869)"
     },
     "metadata": {},
     "execution_count": 70
    }
   ],
   "source": [
    "fnew.shape"
   ]
  },
  {
   "cell_type": "code",
   "execution_count": 190,
   "metadata": {},
   "outputs": [],
   "source": [
    "N = 3\n",
    "vec[:,-1] = -vec[:,-1]\n",
    "vec[:,-2] = -vec[:,-2]\n",
    "pc = np.transpose(vec)[-N::][::-1]\n",
    "pv = val[-N::][::-1]\n",
    "\n",
    "projection = np.dot(fnew, np.transpose(pc))\n",
    "fcalc = np.array( [ sum(np.array([projection[i,k]*pc[k] for k in  np.arange(len(pc))])) for i in np.arange(len(projection))] )"
   ]
  },
  {
   "cell_type": "code",
   "execution_count": 191,
   "metadata": {},
   "outputs": [
    {
     "output_type": "execute_result",
     "data": {
      "text/plain": "array([[ 0.83495666,  0.06444477,  0.10059857],\n       [ 0.98670544, -0.02501142,  0.03830598],\n       [ 1.01804715,  0.05195195, -0.0699991 ],\n       [ 0.42105319,  0.48882667,  0.09012014],\n       [ 1.1496876 , -0.0044412 , -0.1452464 ],\n       [ 0.61239861, -0.00215793,  0.38975933],\n       [ 1.05873344,  0.17130866, -0.23004209],\n       [ 1.06241861, -0.13994468,  0.07752607],\n       [ 0.51213693,  0.24516273,  0.24270034],\n       [ 1.02418541, -0.01940292, -0.00478249]])"
     },
     "metadata": {},
     "execution_count": 191
    }
   ],
   "source": [
    "row_sum = np.transpose( np.array( list([ sum(row) for row in projection]) * projection.shape[1] ).reshape(projection.shape[::-1]) )\n",
    "percentage = projection/row_sum\n",
    "percentage"
   ]
  },
  {
   "cell_type": "code",
   "execution_count": 192,
   "metadata": {},
   "outputs": [
    {
     "output_type": "execute_result",
     "data": {
      "text/plain": "<matplotlib.legend.Legend at 0x233b0e88630>"
     },
     "metadata": {},
     "execution_count": 192
    }
   ],
   "source": [
    "plt.figure(figsize=(10,8))\n",
    "mask = (Tpv>1.29) & (Tpv<1.65)\n",
    "\n",
    "palette = plt.get_cmap('viridis')\n",
    "\n",
    "shift = [4, 2.6, 1.2, -0.2]\n",
    "k=0\n",
    "for i in [1, 5, 6, 8]:\n",
    "    plt.plot(Tpv[mask], fnew[i][mask]/max(fnew[i][mask]) +shift[k], label=(str(np.round(fraw[i][-1]/1e3, 0))[:-2]+' kHz') , color=palette((k)/(3)) , linewidth=6 )\n",
    "    plt.plot(Tpv[mask], fcalc[i][mask]/max(fnew[i][mask]) +shift[k], '--', color='red', linewidth=3)\n",
    "    plt.text(k*1, 5, str(percentage[i]))\n",
    "    k=k+1\n",
    "\n",
    "plt.xlabel('T (K)',fontsize=20)\n",
    "plt.ylabel('Frequency (a.u., normalized)',fontsize=20)\n",
    "\n",
    "plt.tick_params(axis=\"x\",direction=\"in\", labelsize=18, bottom='True', top='True', left='True', right='True', length=4, width=1, which = 'major')\n",
    "plt.tick_params(axis=\"y\",direction=\"in\", labelsize=0, bottom='True', top='True', left='False', right='False', length=0, width=0, which = 'major')\n",
    "\n",
    "plt.xlim(1.285, 1.655)\n",
    "\n",
    "plt.legend(fontsize=18)"
   ]
  },
  {
   "cell_type": "code",
   "execution_count": 193,
   "metadata": {
    "tags": []
   },
   "outputs": [
    {
     "output_type": "stream",
     "name": "stdout",
     "text": "[ 0.98670544 -0.02501142  0.03830598] [ 0.61239861 -0.00215793  0.38975933] [ 1.05873344  0.17130866 -0.23004209] [0.51213693 0.24516273 0.24270034]\n"
    }
   ],
   "source": [
    "print(percentage[1],\n",
    "percentage[5],\n",
    "percentage[6],\n",
    "percentage[8])"
   ]
  },
  {
   "cell_type": "code",
   "execution_count": null,
   "metadata": {},
   "outputs": [],
   "source": []
  }
 ]
}