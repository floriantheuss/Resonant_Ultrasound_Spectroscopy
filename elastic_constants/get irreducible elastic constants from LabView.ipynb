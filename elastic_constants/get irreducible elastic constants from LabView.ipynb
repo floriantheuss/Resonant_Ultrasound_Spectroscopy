{
 "cells": [
  {
   "cell_type": "code",
   "execution_count": 1,
   "metadata": {},
   "outputs": [],
   "source": [
    "import numpy as np\n",
    "import matplotlib.pyplot as plt\n",
    "import os.path\n",
    "import os\n",
    "from scipy.interpolate import interp1d\n",
    "from scipy.signal import butter,filtfilt\n",
    "from scipy.optimize import curve_fit\n",
    "from scipy import odr\n",
    "\n",
    "#%matplotlib inline \n",
    "%matplotlib qt\n",
    "%run Functions_for_RUS_LabView.ipynb"
   ]
  },
  {
   "cell_type": "markdown",
   "metadata": {},
   "source": [
    "# Import data"
   ]
  },
  {
   "cell_type": "markdown",
   "metadata": {},
   "source": [
    "Select folder/ filepath where data files are located"
   ]
  },
  {
   "cell_type": "code",
   "execution_count": 2,
   "metadata": {},
   "outputs": [
    {
     "output_type": "execute_result",
     "data": {
      "text/plain": [
       "array(['1035kHz_down.dat', '1150kHz_down_clean.dat',\n",
       "       '1221kHz_up_clean.dat', '1275kHz_up_clean.dat', '1355kHz_down.dat',\n",
       "       '1428kHz_down_clean.dat', '1508kHz_down_clean.dat',\n",
       "       '1677kHz_up_clean.dat', '1702kHz_up_clean.dat',\n",
       "       '1805kHz_up_clean.dat', '1894kHz_up_clean.dat',\n",
       "       '1968kHz_down_clean.dat', '2003kHz_up_clean.dat',\n",
       "       '2096kHz_up_clean.dat', '2176kHz_down.dat', '2234kHz_up_clean.dat',\n",
       "       '2322kHz_down_clean.dat', '2338kHz_up.dat',\n",
       "       '2367kHz_down_clean.dat', '2420kHz_down.dat',\n",
       "       '2454kHz_up_clean.dat', '2475kHz_up_clean.dat', '2502kHz_up.dat',\n",
       "       '2522kHz_up_clean.dat', '2578kHz_down_clean.dat', '2585kHz_up.dat',\n",
       "       '2641kHz_up_clean.dat', '2663kHz_up_clean.dat', '2706kHz_down.dat',\n",
       "       '2750kHz_down.dat', '2791kHz_down.dat', '2824kHz_up_clean.dat',\n",
       "       '2865kHz_up.dat', '2919kHz_down.dat', '3091kHz_up_clean.dat',\n",
       "       '3107kHz_up.dat', '3397kHz_up_clean.dat', '909kHz_up_clean.dat'],\n",
       "      dtype='<U22')"
      ]
     },
     "metadata": {},
     "execution_count": 2
    }
   ],
   "source": [
    "folder = \"C:\\\\Users\\\\j111\\\\Box Sync\\\\Projects\"\n",
    "folder = \"C:\\\\Users\\\\Florian\\\\Box Sync\\\\Projects\"\n",
    "project = \"\\\\Mn3Ge\\\\RUS\\\\Mn3Ge_2001B\\\\temp_dependent_data_with_Labview\\\\improved_setup\\\\good_data\"\n",
    "# project = \"\\\\Mn3Ge\\\\RUS\\\\Mn3Ge_2001B\\\\temp_dependent_data_with_Labview\\\\improved_setup\\\\new_data\"\n",
    "# project = \"\\\\Mn3.019Sn0.981\\\\RUS\\\\2007A\\\\good_data\"\n",
    "project = \"/UTe2/RUS/UTe2_2007C/PLL/good data\"\n",
    "# project = \"/UTe2/RUS/UTe2_2007C/Red Pitaya/good_data\"\n",
    "\n",
    "\n",
    "data_files = os.listdir(folder+project)\n",
    "data_files = [i for i in data_files if i[-4:]=='.dat']\n",
    "np.array(data_files)"
   ]
  },
  {
   "cell_type": "markdown",
   "metadata": {},
   "source": [
    "## actually import data\n",
    "(you usually don't have to change anything here)"
   ]
  },
  {
   "cell_type": "code",
   "execution_count": 3,
   "metadata": {},
   "outputs": [],
   "source": [
    "filenames = [folder + project + '\\\\' + i for i in data_files[:]]\n",
    "Traw = []\n",
    "fraw = []\n",
    "gammaraw = []\n",
    "\n",
    "for name in filenames:\n",
    "    individual_data = []\n",
    "    T, f= import_data(name, 1, 2)    \n",
    "    Traw.append(np.array(T))\n",
    "    fraw.append(np.array(f))\n",
    "    #gammaraw.append(np.array(gamma))\n",
    "    \n",
    "# write data into seperate arrays for temperature \"T\" and frequency \"f\"\n",
    "Traw = np.array(Traw) # temperature in K\n",
    "fraw = np.array(fraw) # frequencies in kHz\n",
    "#gammaraw = np.array(gammaraw) # resonance widths in kHz"
   ]
  },
  {
   "cell_type": "code",
   "execution_count": 4,
   "metadata": {},
   "outputs": [],
   "source": [
    "# #folder = \"C:\\\\Users\\\\j111\\\\Box Sync\\\\Projects\"\n",
    "# folder = \"C:\\\\Users\\\\Florian\\\\Box Sync\\\\Projects\"\n",
    "# project = \"\\\\Mn3Ge\\\\RUS\\\\sample_with_green_face_from_010920\\\\raw_data.txt\"\n",
    "# text = 'None'\n",
    "# data = []\n",
    "# for i in np.arange(len(Traw)):\n",
    "#     data.append(Traw[i])\n",
    "#     data.append(fraw[i])\n",
    "#     data.append(gammaraw[i])\n",
    "# save(data, text, folder+project)"
   ]
  },
  {
   "cell_type": "code",
   "execution_count": 5,
   "metadata": {},
   "outputs": [],
   "source": [
    "Tmin = 1.25\n",
    "Tmax = 1.9\n",
    "# Tmin = 407\n",
    "# Tmax = 425\n",
    "# Tmin = 355\n",
    "# Tmax = 395\n",
    "mask = np.array([(i > Tmin) & (i < Tmax) for i in Traw])\n",
    "labels = ([str(np.round(i[-1], 0))[:-2]+' kHz' for i in fraw])\n",
    "\n",
    "\n",
    "shift = [0, -0.1, -.7, 0, 0, 0, 0, 0]\n",
    "shift = [8, 8, 6, 5, 4, 3, 2, 3, -3.5]\n",
    "\n",
    "plt.figure(figsize=(9.5,7))\n",
    "\n",
    "palette = plt.get_cmap('viridis')\n",
    "for i in np.arange(len(Traw)):\n",
    "    # plt.scatter(Traw[i][mask[i]], fraw[i][mask[i]]*1e3, s=70, color=palette(i/(len(Traw)-1)), label=labels[i])\n",
    "    plt.plot(Traw[i][mask[i]], fraw[i][mask[i]], color=palette(i/(len(Traw)-1)), label=labels[i], linewidth=5)\n",
    "    \n",
    "plt.xlabel('T (K)',fontsize=22)\n",
    "plt.ylabel('f (Hz)',fontsize=22)\n",
    "plt.xlim(Tmin-.01, Tmax+.01)\n",
    "#plt.legend(fontsize=18, markerscale=8)\n",
    "plt.tick_params(axis=\"both\",direction=\"in\", labelsize=20, bottom='True', top='True', left='True', right='True', \n",
    "                length=4, width=1, which = 'major')\n",
    "\n",
    "plt.show()"
   ]
  },
  {
   "cell_type": "code",
   "execution_count": 6,
   "metadata": {},
   "outputs": [],
   "source": [
    "Tmin = 1.29\n",
    "Tmax = 1.65\n",
    "# Tmin = 407\n",
    "# Tmax = 422.5\n",
    "# Tmin = 355\n",
    "# Tmax = 395\n",
    "mask = np.array([(i > Tmin) & (i < Tmax) for i in Traw])\n",
    "# labels = ([str(np.round(i[-1]/1e3, 0))[:-2]+' kHz' for i in fraw])\n",
    "labels = ([str(np.round(i[-1], 0))[:-2]+' kHz' for i in fraw])\n",
    "# labels = ['most A1g1', 'most A1g2', 'most A1g3', 'most E1g', 'most E2g']\n",
    "\n",
    "\n",
    "shift = [0, -0.1, -.7, 0, 0, 0, 0, 0]\n",
    "shift = [8, 8, 6, 4.8, 2.8, 2.5, 2.3, 2.3, -3.5]\n",
    "shift = [5, 4.6, 3.5, 1.7, 1.7, 0.5, 0, -2.1]\n",
    "shift = [0, -6, 0, 0, 0, 0, 0]\n",
    "# shift = [0, 3.5, 0, 0, 0, 1.7, 1.3, 0, -0.2, 0, 0]\n",
    "\n",
    "plt.figure(figsize=(9.5,7))\n",
    "palette = plt.get_cmap('viridis')\n",
    "k=0\n",
    "for i in np.arange(len(Traw)):\n",
    "# for i in [4, 12, 16, 1, 5]:\n",
    "\n",
    "# for i in [1,5,6,8]:\n",
    "    # plt.scatter(Traw[i][mask[i]], ((fraw[i]-fraw[i][-1])/fraw[i][-1]*1e5)[mask[i]], s=10, color=palette(i/(len(Traw)-1)), label=labels[i])\n",
    "    plt.scatter(Traw[i][mask[i]], ((fraw[i]-fraw[i][-1])*1e-3)[mask[i]], s=10, color=palette(i/(len(Traw)-1)), label=labels[i])\n",
    "\n",
    "    # plt.plot(Traw[i][mask[i]], ((fraw[i]-fraw[i][-1])/fraw[i][-1]*1e5)[mask[i]], linewidth=5, color=palette(i/2/(len(Traw)/2-1)), label=labels[i])\n",
    "    # plt.scatter(Traw[i][mask[i]], ((fraw[i]-fraw[i][-1])/fraw[i][-1]*1e2)[mask[i]], s=5, label=labels[k])\n",
    "    \n",
    "    # plt.scatter(Traw[i][mask[i]], ((fraw[i]-fraw[i][-1])/fraw[i][-1]*1e5)[mask[i]]+shift[i], s=10, color=palette((k)/(3)), label=labels[i])\n",
    "    k=k+1\n",
    "\n",
    "# for i in [1, 2, 4, 5]:\n",
    "#     plt.scatter(Traw[i][mask[i]], ((fraw[i]-fraw[i][-1])/fraw[i][-1]*1e5)[mask[i]]+shift[i], s=10, color='gray')\n",
    "\n",
    "plt.xlabel('T (K)',fontsize=22)\n",
    "# plt.ylabel('$\\\\mathrm{\\\\Delta f / f}$ $(10^{-5})$',fontsize=22)\n",
    "plt.ylabel('$\\\\mathrm{\\\\Delta f / f}$ $(10^{-5})$',fontsize=22)\n",
    "plt.xlim(Tmin-0.01, Tmax+0.01)\n",
    "#plt.legend(fontsize=18, markerscale=4)\n",
    "plt.tick_params(axis=\"both\",direction=\"in\", labelsize=20, bottom='True', top='True', left='True', right='True', \n",
    "                length=4, width=1, which = 'major')\n",
    "\n",
    "# plt.ylim(-1,6)\n",
    "# plt.legend(fontsize=20)\n",
    "\n",
    "plt.show()"
   ]
  },
  {
   "cell_type": "markdown",
   "metadata": {},
   "source": [
    "# Interpolate the data"
   ]
  },
  {
   "cell_type": "code",
   "execution_count": 94,
   "metadata": {
    "tags": []
   },
   "outputs": [
    {
     "output_type": "stream",
     "name": "stdout",
     "text": [
      "the maximum temperature range is 356.9127 to 394.7912 K\n"
     ]
    }
   ],
   "source": [
    "# this creates interpolated frequency data at the same temperature points in the biggest temperature\n",
    "# range possible (all frequency curves have to be measured in at least this temperature range)\n",
    "Tmin_int = max([min(t) for t in Traw])\n",
    "Tmax_int = min([max(t) for t in Traw])\n",
    "n = np.mean(np.array([len(t) for t in Traw]))\n",
    "Tint = np.linspace(Tmin_int, Tmax_int, int(n))\n",
    "\n",
    "fint = []\n",
    "gint = []\n",
    "# for i in np.arange(len(Traw)):\n",
    "#     fi, gi = interpolate(Traw[i], fraw[i], gammaraw[i], Tint, 'linear')\n",
    "#     fint.append(fi)\n",
    "#     gint.append(gi)\n",
    "\n",
    "for i in np.arange(len(Traw)):\n",
    "    fint.append( interp1d(Traw[i], fraw[i], kind='linear')(Tint) )\n",
    "\n",
    "fint = np.array(fint)\n",
    "dfint = np.array([(i-i[-1]) for i in fint])\n",
    "dfofint = np.array([(i-i[-1]/i) for i in fint])\n",
    "#gint = np.array(gint)\n",
    "\n",
    "\n",
    "# mask the raw data arrays such that df is zero at the same temperature\n",
    "mask_raw = np.array([(i >= Tmin_int) & (i <= Tmax_int) for i in Traw])\n",
    "Traw = np.array([Traw[i][mask_raw[i]] for i in np.arange(len(Traw))])\n",
    "fraw = np.array([fraw[i][mask_raw[i]] for i in np.arange(len(Traw))])\n",
    "dfraw = np.array([(i-i[-1]) for i in fraw])\n",
    "dfofraw = np.array([(i-i[-1])/i[-1] for i in fraw])\n",
    "#graw = np.array([gammaraw[i][mask_raw[i]] for i in np.arange(len(Traw))])\n",
    "\n",
    "print('the maximum temperature range is '+str(Tmin_int)+' to '+str(Tmax_int)+' K')"
   ]
  },
  {
   "cell_type": "markdown",
   "metadata": {},
   "source": [
    "# Apply a low-pass filter to the interpolated data"
   ]
  },
  {
   "cell_type": "code",
   "execution_count": 95,
   "metadata": {},
   "outputs": [],
   "source": [
    "Tlp = Tint\n",
    "flp = np.array([butter_lowpass_filter_ready(f, 2.5) for f in fint])\n",
    "dflp = np.array([(i-i[-1]) for i in flp])\n",
    "dfoflp = np.array([(i-i[-1]/i) for i in flp])"
   ]
  },
  {
   "cell_type": "code",
   "execution_count": 89,
   "metadata": {},
   "outputs": [],
   "source": [
    "Tlp = Tint\n",
    "flp = fint\n",
    "dflp = dfint\n",
    "dfoflp = dfofint"
   ]
  },
  {
   "cell_type": "markdown",
   "metadata": {},
   "source": [
    "# Plot the resulting curves over the raw data to see if it worked"
   ]
  },
  {
   "cell_type": "markdown",
   "metadata": {},
   "source": [
    "### plot the frequency vs T (plots filtered data and raw data)"
   ]
  },
  {
   "cell_type": "code",
   "execution_count": 110,
   "metadata": {
    "scrolled": false,
    "tags": []
   },
   "outputs": [
    {
     "output_type": "execute_result",
     "data": {
      "text/plain": [
       "<matplotlib.legend.Legend at 0x1e61a9eb9e8>"
      ]
     },
     "metadata": {},
     "execution_count": 110
    }
   ],
   "source": [
    "# this just plots the filtered frequency over the raw data\n",
    "\n",
    "Tmin = 410\n",
    "Tmax = 420\n",
    "Tmin = 355\n",
    "Tmax = 390\n",
    "\n",
    "# which frequencies do you want to plot\n",
    "resonances = np.arange(len(flp))\n",
    "#resonances = [0,5,10,12]\n",
    "\n",
    "\n",
    "plt.figure(figsize=(10,7))\n",
    "\n",
    "# make scatter plot of raw data\n",
    "mask_raw = np.array([(i >= Tmin) & (i <= Tmax) for i in Traw])\n",
    "\n",
    "#shift = [.3, 0, .4, -0.3, -1]\n",
    "#index = [1, 3, 5, 9, 13]\n",
    "#shift = 7\n",
    "for i in resonances:\n",
    "    palette = plt.get_cmap('brg')\n",
    "    plt.scatter(Traw[i][mask_raw[i]], dfraw[i][mask_raw[i]], color=palette(i/(len(flp)-1)), s=10)\n",
    "    \n",
    "\n",
    "# make plot of interpolation\n",
    "mask_lp = (Tint >= Tmin) & (Tint <= Tmax)\n",
    "\n",
    "shift = 7\n",
    "for i in resonances:\n",
    "    palette = plt.get_cmap('Set1')\n",
    "    plt.plot(Tlp[mask_lp], dflp[i][mask_lp], color=palette(i/len(flp)), label=(str(round(fraw[i][-1], 1))+', '+str(i)))\n",
    "\n",
    "\n",
    "plt.xlabel('T (K)',fontsize=20)\n",
    "plt.ylabel('$\\mathrm{\\Delta f\\,\\,(kHz)}$',fontsize=20)\n",
    "plt.tick_params(axis=\"both\",direction=\"in\", labelsize=18, bottom='True', top='True', left='True', right='True', \n",
    "                length=4, width=1, which = 'major')\n",
    "\n",
    "#plt.ylim([-40, 20])\n",
    "#plt.xlim(360, 380)\n",
    "\n",
    "plt.legend(loc=(.6, .04), fontsize=17)"
   ]
  },
  {
   "cell_type": "markdown",
   "metadata": {},
   "source": [
    "### plot the width vs T (plots intepolated data and raw data)"
   ]
  },
  {
   "cell_type": "code",
   "execution_count": 111,
   "metadata": {
    "scrolled": false,
    "tags": []
   },
   "outputs": [],
   "source": [
    "# # this just plots the interpolated width over the raw data\n",
    "# Tmin = 350\n",
    "# Tmax = 450\n",
    "\n",
    "# # which frequencies do you want to plot\n",
    "# resonances = np.arange(len(fint))\n",
    "# #resonances = [0,5,10,12]\n",
    "\n",
    "# plt.figure(figsize=(10,10))\n",
    "\n",
    "# # make scatter plot of raw data\n",
    "# mask_raw = np.array([(i >= Tmin) & (i <= Tmax) for i in Traw])\n",
    "\n",
    "# shift = 1\n",
    "# for i in resonances:\n",
    "#     palette = plt.get_cmap('brg')\n",
    "#     plt.scatter(Traw[i][mask_raw[i]], graw[i][mask_raw[i]]+shift, s=10, color=palette(i/(len(Traw)-1)))\n",
    "#     shift=shift+1\n",
    "\n",
    "    \n",
    "# # make plot of interpolation\n",
    "# mask_int = (Tint >= Tmin) & (Tint <= Tmax)\n",
    "\n",
    "# shift = 1\n",
    "# for i in resonances:\n",
    "#     palette = plt.get_cmap('Set1')\n",
    "#     plt.plot(Tint[mask_int], gint[i][mask_int]+shift, c=palette(i/(len(gint)-1)), label=(str(round(fint[i][-1], 1))+', '+str(i)) )\n",
    "#     shift=shift+1\n",
    "\n",
    "# plt.xlabel('T (K)',fontsize=15)\n",
    "# plt.ylabel('$\\mathrm{\\Gamma}$ (kHz) ',fontsize=15)\n",
    "# plt.tick_params(axis=\"both\",direction=\"in\", labelsize=15, bottom='True', top='True', left='True', right='True', \n",
    "#                 length=4, width=1, which = 'major')\n",
    "\n",
    "# #plt.ylim(1.5,3)\n",
    "\n",
    "# plt.legend(loc=(.7, .4), fontsize=15)"
   ]
  },
  {
   "cell_type": "markdown",
   "metadata": {
    "collapsed": true,
    "jupyter": {
     "outputs_hidden": true
    }
   },
   "source": [
    "# Import rpr_out file"
   ]
  },
  {
   "cell_type": "code",
   "execution_count": 278,
   "metadata": {},
   "outputs": [],
   "source": [
    "folder = \"C:\\\\Users\\\\j111\\\\Box Sync\\\\Projects\"\n",
    "folder = \"C:\\\\Users\\\\Florian\\\\Box Sync\\\\Projects\"\n",
    "project = \"\\\\Mn3Ge\\\\RUS\\\\Mn3Ge_2001B\\\\high_T_200113\\\\elastic_constants_gradient_fit\\\\5_um_error\\\\mean.dat\"\n",
    "# project = \"\\\\Mn3.019Sn0.981\\\\RUS\\\\2007A\\\\Mn3.019Sn0.981_2007A_436K_out.dat\"\n",
    "# project = \"\\\\Mn3.019Sn0.981\\\\RUS\\\\2007A\\\\Mn3.019Sn0.981_2007A_441K_out.dat\"\n",
    "# project = \"\\\\Mn3.019Sn0.981\\\\RUS\\\\2007A\\\\Mn3.019Sn0.981_2007A_438K_out.dat\"\n",
    "\n",
    "name = folder + project\n",
    "data = []\n",
    "\n",
    "# here you import the a matrix elements allowing for conversion of deltaf/f to deltac/c\n",
    "f = open(name, 'r')\n",
    "for i in np.arange(6):\n",
    "    f.readline()\n",
    "\n",
    "for line in f:\n",
    "    line=line.strip()\n",
    "    line=line.split()\n",
    "    \n",
    "    relevant_data = []\n",
    "    if len(line) == 12:\n",
    "        if len(line[0]) == 1 or len(line[0]) == 2:\n",
    "            for i in [1, 2, 7, 8, 9, 10, 11]:\n",
    "                relevant_data.append(float(line[i]))\n",
    "            \n",
    "            data.append(np.array(relevant_data))\n",
    "    \n",
    "data = np.array(data)\n",
    "\n",
    "fht_exp = data[:, 0]\n",
    "fht_calc = data[:, 1]\n",
    "# logarithmic derivative dlnf/dlncij\n",
    "# order is c33, c23, c12, c44, c66\n",
    "df_dc = data[:, 2:7]\n",
    "\n",
    "# high temperature elastic constants from RPR fit in GPa\n",
    "# order is the same as for logarithmic derivatives\n",
    "# Cht = [33, 23, 12, 44, 66]\n",
    "data = []\n",
    "\n",
    "f = open(name, 'r')\n",
    "for i in np.arange(6):\n",
    "    f.readline()\n",
    "\n",
    "for line in f:\n",
    "    line=line.strip()\n",
    "    line=line.split()\n",
    "    \n",
    "    if len(line)>0 and np.array(line)[0][0]=='c':\n",
    "        data.append(line)\n",
    "        \n",
    "data = np.array(data)\n",
    "\n",
    "Cht = np.array( [ float(data[1][1]), float(data[2][3]), float(data[0][1])-2*float(data[5][1]), float(data[4][1]), float(data[5][1]) ] )"
   ]
  },
  {
   "cell_type": "markdown",
   "metadata": {},
   "source": [
    "## Now you have to decide which f(T) curve belongs to which resonance at high T"
   ]
  },
  {
   "cell_type": "code",
   "execution_count": 279,
   "metadata": {
    "scrolled": true,
    "tags": []
   },
   "outputs": [
    {
     "output_type": "stream",
     "name": "stdout",
     "text": [
      "[1320.4 1362.  1385.4 1454.1 1627.5 1652.9 1668.6 1709.9 1821.  1857.5\n 1879.4 1908.5 1954.4 2051.1 2725.9 2825.2 2856.8 2871.7]\n"
     ]
    }
   ],
   "source": [
    "# this gives you the high T frequencies of the f(T) curves\n",
    "label = np.array([round(f[-1],1) for f in flp])\n",
    "print (label)"
   ]
  },
  {
   "cell_type": "code",
   "execution_count": 280,
   "metadata": {
    "tags": []
   },
   "outputs": [
    {
     "output_type": "stream",
     "name": "stdout",
     "text": [
      "[[0.8632903, 0], [1.3159182, 1], [1.3377351, 2], [1.3597448, 3], [1.380895, 4], [1.4513183, 5], [1.6276308, 6], [1.6520975, 7], [1.6675098, 8], [1.706839, 9], [1.8195792, 10], [1.8583015, 11], [1.876659, 12], [1.9052377, 13], [1.9147265, 14], [1.9502579, 15], [2.043762, 16], [2.056432, 17], [2.0737541, 18], [2.1540241, 19], [2.2591281, 20], [2.2678907, 21], [2.2821, 22], [2.2867196, 23], [2.3316123, 24], [2.3534091, 25], [2.397702, 26], [2.4052324, 27], [2.452348, 28], [2.4810884, 29], [2.4957685, 30], [2.5109429, 31], [2.5730035, 32], [2.5871172, 33], [2.6456351, 34], [2.6608291, 35], [2.707036, 36], [2.7189031, 37], [2.7871687, 38], [2.8190637, 39], [2.8537569, 40], [2.8677502, 41], [2.9004674, 42], [3.0049644, 43], [3.027684, 44], [3.0554662, 45], [3.0753968, 46], [3.12169, 47], [3.1539707, 48], [3.1804593, 49]]\n"
     ]
    }
   ],
   "source": [
    "print([[fht_exp[i], i] for i in np.arange(len(fht_exp))][:50])"
   ]
  },
  {
   "cell_type": "code",
   "execution_count": 281,
   "metadata": {},
   "outputs": [],
   "source": [
    "#n = [1, 3, 4, 5, 6, 7, 8, 9, 10, 11, 12, 13, 15, 16, 18]\n",
    "n = [1, 3, 4, 5, 6, 7, 8, 9, 10, 11, 12, 13, 15, 16, 36, 40, 41, 42] #Mn3Ge\n",
    "# n = [1, 2, 4, 5, 7, 8, 9, 11, 14, 15, 20, 22, 29, 30, 33, 34] #Mn3.019Sn0.981 2007 A\n",
    "\n",
    "fht = fht_exp[n]\n",
    "#fht = fht_calc[n] # this is not what I usually want!!!!!!!!!! usually it is fht_exp\n",
    "a = df_dc[n]\n",
    "#ffinal = np.array([ ffinal[i-1] for i in n ])"
   ]
  },
  {
   "cell_type": "code",
   "execution_count": 282,
   "metadata": {},
   "outputs": [
    {
     "output_type": "execute_result",
     "data": {
      "text/plain": [
       "array([1320.40394242, 1362.02924698, 1385.36246377, 1454.12761501,\n",
       "       1627.49866564, 1652.85783815, 1668.59123894, 1709.8556143 ,\n",
       "       1820.97630903, 1857.47756175, 1879.36471396, 1908.4724541 ,\n",
       "       1954.42215036, 2051.13112946, 2725.91244047, 2825.23007199,\n",
       "       2856.78661253, 2871.66906797])"
      ]
     },
     "metadata": {},
     "execution_count": 282
    }
   ],
   "source": [
    "np.array([flp[i, -1] for i in np.arange(len(flp))])"
   ]
  },
  {
   "cell_type": "code",
   "execution_count": 283,
   "metadata": {},
   "outputs": [
    {
     "output_type": "execute_result",
     "data": {
      "text/plain": [
       "array([1.3159182, 1.3597448, 1.380895 , 1.4513183, 1.6276308, 1.6520975,\n",
       "       1.6675098, 1.706839 , 1.8195792, 1.8583015, 1.876659 , 1.9052377,\n",
       "       1.9502579, 2.043762 , 2.707036 , 2.8537569, 2.8677502, 2.9004674])"
      ]
     },
     "metadata": {},
     "execution_count": 283
    }
   ],
   "source": [
    "fht"
   ]
  },
  {
   "cell_type": "markdown",
   "metadata": {},
   "source": [
    "# this is where C(T) is calculated"
   ]
  },
  {
   "cell_type": "code",
   "execution_count": 284,
   "metadata": {},
   "outputs": [],
   "source": [
    "CofT = elastic_constants (flp/1000, fht, a, Cht)"
   ]
  },
  {
   "cell_type": "code",
   "execution_count": 285,
   "metadata": {
    "scrolled": true
   },
   "outputs": [],
   "source": [
    "# order in Cht and thus in CofT is [33, 23, 12, 44, 66]\n",
    "# order in Cirrep is A1g1, A1g2, A1g3, E1g, E2g\n",
    "\n",
    "label_irrep = ['A1g,1', 'A1g,2', 'A1g,3', 'E1g', 'E2g'] # this is for the right legend in subsequent plots\n",
    "\n",
    "Cirrep = np.array([ (CofT[4]+CofT[2]), CofT[0], CofT[1], 4*CofT[3], CofT[4] ])\n",
    "dCirrepoC = np.array([(C-C[-1])/C[-1] for C in Cirrep ])\n",
    "dCirrep = np.array([(C-C[-1]) for C in Cirrep ])"
   ]
  },
  {
   "cell_type": "code",
   "execution_count": 286,
   "metadata": {},
   "outputs": [
    {
     "output_type": "execute_result",
     "data": {
      "text/plain": [
       "array([194.58691,  14.29768,  42.47116,  45.20971,  48.16944])"
      ]
     },
     "metadata": {},
     "execution_count": 286
    }
   ],
   "source": [
    "Cht"
   ]
  },
  {
   "cell_type": "code",
   "execution_count": 287,
   "metadata": {},
   "outputs": [],
   "source": [
    "folder = \"C:\\\\Users\\\\j111\\\\Box Sync\\\\Projects\"\n",
    "folder = \"C:\\\\Users\\\\Florian\\\\Box Sync\\\\Projects\"\n",
    "project = \"\\\\Mn3Ge\\\\RUS\\\\Mn3Ge_2001B\\\\high_T_200113\\\\elastic_constants_gradient_fit\\\\5_um_error\\\\irreducible_elastic_constants_err6.txt\"\n",
    "# project = \"\\\\Mn3.019Sn0.981\\\\RUS\\\\2007A\\\\irreducible_elastic_constants.txt\"\n",
    "text = [['T', 'A1g1', 'A1g2', 'A1g3', 'E1g', 'E2g'], ['K', 'GPa', 'GPa', 'GPa', 'GPa', 'GPa']]\n",
    "data = np.transpose( np.vstack( [Tlp, Cirrep] ) ) \n",
    "# save(data, text, folder+project)"
   ]
  },
  {
   "cell_type": "code",
   "execution_count": 288,
   "metadata": {},
   "outputs": [],
   "source": [
    "Tmin = 400\n",
    "Tmax = 450\n",
    "Tmin = 350\n",
    "Tmax = 395\n",
    "\n",
    "mask = np.array([(i >= Tmin) & (i <= Tmax) for i in Tlp])\n",
    "\n",
    "\n",
    "# plt.figure(figsize=(10,6))\n",
    "\n",
    "# for i in np.arange(len(Cirrep)):\n",
    "#     plt.plot(Tlp[mask], Cirrep[i][mask], linewidth=2.5, label=label_irrep[i])\n",
    "    \n",
    "# plt.legend()\n",
    "# plt.xlabel('T (K)',fontsize=15)\n",
    "# plt.ylabel('$\\mathrm{C_{irrep}}$ (GPa) ',fontsize=15)\n",
    "# plt.tick_params(axis=\"both\",direction=\"in\", labelsize=15, bottom='True', top='True', left='True', right='True', \n",
    "#                 length=4, width=1, which = 'major')"
   ]
  },
  {
   "cell_type": "code",
   "execution_count": 289,
   "metadata": {},
   "outputs": [],
   "source": [
    "index1 = [0,1,2]\n",
    "index2 = [3,4]\n",
    "\n",
    "\n",
    "f1 = plt.figure(figsize=(10,6))\n",
    "shift = [-.2,0.5,0,0,-4]\n",
    "for i in np.arange(len(Cirrep)):\n",
    "#for i in index1:\n",
    "    plt.plot(Tlp[mask], dCirrep[i][mask]+shift[i], linewidth=2.5, label=label_irrep[i])\n",
    "    \n",
    "#plt.ylim([-50,20])\n",
    "plt.legend(loc=(.1, 0.1), fontsize=15)\n",
    "plt.xlabel('T (K)',fontsize=15)\n",
    "plt.ylabel('$ \\mathrm{\\Delta C_{irrep}}$ (GPa)',fontsize=15)\n",
    "plt.tick_params(axis=\"both\",direction=\"in\", labelsize=15, bottom='True', top='True', left='True', right='True', \n",
    "                length=4, width=1, which = 'major')\n",
    "\n",
    "f2 = plt.figure(figsize=(10,6))\n",
    "#for i in np.arange(len(Cirrep)):\n",
    "for i in index2:\n",
    "    plt.plot(Tlp[mask], dCirrep[i][mask], linewidth=2.5, label=label_irrep[i])\n",
    "    \n",
    "#plt.ylim([-50,20])\n",
    "plt.legend(loc=(.1, 0.1), fontsize=15)\n",
    "plt.xlabel('T (K)',fontsize=15)\n",
    "plt.ylabel('$ \\mathrm{\\Delta C_{irrep}}$ (GPa)',fontsize=15)\n",
    "plt.tick_params(axis=\"both\",direction=\"in\", labelsize=15, bottom='True', top='True', left='True', right='True', \n",
    "                length=4, width=1, which = 'major')"
   ]
  },
  {
   "cell_type": "code",
   "execution_count": 299,
   "metadata": {},
   "outputs": [],
   "source": [
    "Cht_irrep = np.array( [ Cht[2]+Cht[4], Cht[0], Cht[1], 4*Cht[3], Cht[4] ] )\n",
    "at = np.transpose(a)\n",
    "a_irrep = np.transpose( np.array( [ at[2]*Cht_irrep[0]/Cht[2], at[0]*Cht_irrep[1]/Cht[0], at[1]*Cht_irrep[2]/Cht[1], at[3]/4*Cht_irrep[3]/Cht[3], (at[4]/Cht[4]-at[2]/Cht[2])*Cht_irrep[4] ]) )"
   ]
  },
  {
   "cell_type": "code",
   "execution_count": 328,
   "metadata": {},
   "outputs": [
    {
     "output_type": "stream",
     "name": "stdout",
     "text": [
      "5 [ 0.03032653  0.00405    -0.00211     0.00379     0.96394347]\n"
     ]
    }
   ],
   "source": [
    "i = 0\n",
    "value = 0\n",
    "mode = 4\n",
    "for k in np.arange(len(a_irrep)):\n",
    "    if a_irrep[k,mode]>value:\n",
    "        value = a_irrep[k,mode]\n",
    "        i = k\n",
    "\n",
    "print (i, a_irrep[i])"
   ]
  },
  {
   "cell_type": "markdown",
   "metadata": {},
   "source": [
    "# Save all data"
   ]
  },
  {
   "cell_type": "code",
   "execution_count": 351,
   "metadata": {},
   "outputs": [],
   "source": [
    "folder = \"C:\\\\Users\\\\j111\\\\Box Sync\\\\Projects\"\n",
    "project = \"\\\\Mn3Ge\\\\RUS\\\\Mn3Ge_2001B\\\\high_T_200113\\\\elastic_constants_gradient_fit\\\\irreducible_elastic_constants_mean.txt\"\n",
    "# project = \"\\\\Mn3.019Sn0.981\\\\RUS\\\\2007A\\\\irreducible_elastic_constants.txt\"\n",
    "text = [['T', 'A1g1', 'A1g2', 'A1g3', 'E1g', 'E2g'], ['K', 'GPa', 'GPa', 'GPa', 'GPa', 'GPa']]\n",
    "data = np.transpose( np.vstack( [Tlp, Cirrep] ) ) \n",
    "save(data, text, folder+project)"
   ]
  },
  {
   "cell_type": "code",
   "execution_count": 188,
   "metadata": {},
   "outputs": [],
   "source": [
    "folder = \"C:\\\\Users\\\\j111\\\\Box Sync\\\\Projects\"\n",
    "#folder = \"C:\\\\Users\\\\Florian\\\\Box Sync\\\\Projects\"\n",
    "project = \"\\\\Mn3Ge\\\\RUS\\\\sample_with_green_face_from_010920\\\\change_in_irreducible_elastic_constants.txt\"\n",
    "text = [['T', 'A1g1', 'A1g2', 'A1g3', 'E1g', 'E2g'], ['K', 'GPa', 'GPa', 'GPa', 'GPa', 'GPa']]\n",
    "data = np.transpose( np.vstack( [Tlp, dCirrep] ) ) \n",
    "#save(data, text, folder+project)"
   ]
  },
  {
   "cell_type": "code",
   "execution_count": 189,
   "metadata": {},
   "outputs": [],
   "source": [
    "folder = \"C:\\\\Users\\\\j111\\\\Box Sync\\\\Projects\"\n",
    "#folder = \"C:\\\\Users\\\\Florian\\\\Box Sync\\\\Projects\"\n",
    "project = \"\\\\Mn3Ge\\\\RUS\\\\sample_with_green_face_from_010920\\\\resonance_frequencies.txt\"\n",
    "text = [['T']+['f' for i in flp], ['K']+['kHz' for i in flp]]\n",
    "data = np.transpose( np.vstack( [Tlp, flp] ) ) \n",
    "#save(data, text, folder+project)"
   ]
  },
  {
   "cell_type": "code",
   "execution_count": 271,
   "metadata": {},
   "outputs": [],
   "source": [
    "folder = \"C:\\\\Users\\\\j111\\\\Box Sync\\\\Projects\"\n",
    "#folder = \"C:\\\\Users\\\\Florian\\\\Box Sync\\\\Projects\"\n",
    "project = \"\\\\Mn3Ge\\\\RUS\\\\sample_with_green_face_from_010920\\\\resonance_widths.txt\"\n",
    "text = [['T']+['Gamma' for i in gint], ['K']+['kHz' for i in gint]]\n",
    "data = np.transpose( np.vstack( [Tint, gint] ) ) \n",
    "#save(data, text, folder+project)"
   ]
  },
  {
   "cell_type": "code",
   "execution_count": null,
   "metadata": {},
   "outputs": [],
   "source": [
    "# calculate a for irreducible reps\n",
    "# order in Cht and thus in CofT is [33, 23, 12, 44, 66]\n",
    "# order in Cirrep is A1g1, A1g2, A1g3, E1g, E2g\n",
    "Ciht = np.array([Cht[2]+Cht[4], Cht[0], Cht[1], 4*Cht[3], Cht[4]])\n",
    "airr = np.array([ [ b[2]/Cht[2]*Ciht[0], b[0]/Cht[0]*Ciht[1], b[1]/Cht[1]*Ciht[2], 0.25*b[3]/Cht[3]*Ciht[3], \n",
    "                   Ciht[4]*(b[4]/Cht[4] - b[2]/Cht[2]) ] for b in a])\n",
    "\n",
    "folder = \"C:\\\\Users\\\\j111\\\\Box Sync\\\\Projects\"\n",
    "#folder = \"C:\\\\Users\\\\Florian\\\\Box Sync\\\\Projects\"\n",
    "project = \"\\\\Mn3Ge\\\\RUS\\\\sample_with_green_face_from_010920\\\\logarithmic_derivative_a_irreducible.txt\"\n",
    "text = [['f (kHz)', 'aA1g1', 'aA1g2', 'aA1g3', 'aE1g', 'aE2g']]\n",
    "data = np.array([np.append(fht[i], airr[i]) for i in np.arange(len(fht))])\n",
    "#save(data, text, folder+project)"
   ]
  },
  {
   "cell_type": "code",
   "execution_count": 192,
   "metadata": {},
   "outputs": [],
   "source": [
    "folder = \"C:\\\\Users\\\\j111\\\\Box Sync\\\\Projects\"\n",
    "folder = \"C:\\\\Users\\\\Florian\\\\Box Sync\\\\Projects\"\n",
    "project = \"\\\\Mn3Ge\\\\RUS\\\\sample_with_green_face_from_010920\\\\elastic_constants_NOT_irreps.txt\"\n",
    "project = \"\\\\Mn3.019Sn0.981\\\\RUS\\\\2007A\\\\elastic_constants_NOT_irreps.txt\"\n",
    "text = [['T', '33', '23', '12', '44', '66'], ['K', 'GPa', 'GPa', 'GPa', 'GPa', 'GPa']]\n",
    "data = np.transpose( np.vstack( [Tlp, CofT] ) )\n",
    "#save(data, text, folder+project)"
   ]
  },
  {
   "cell_type": "markdown",
   "metadata": {},
   "source": [
    "# estimate the error for irreducible elastic constants"
   ]
  },
  {
   "cell_type": "code",
   "execution_count": 193,
   "metadata": {},
   "outputs": [
    {
     "output_type": "error",
     "ename": "NameError",
     "evalue": "name 'Tfinal' is not defined",
     "traceback": [
      "\u001b[1;31m---------------------------------------------------------------------------\u001b[0m",
      "\u001b[1;31mNameError\u001b[0m                                 Traceback (most recent call last)",
      "\u001b[1;32m<ipython-input-193-14098bdaa178>\u001b[0m in \u001b[0;36m<module>\u001b[1;34m\u001b[0m\n\u001b[0;32m      2\u001b[0m \u001b[0mTmax\u001b[0m \u001b[1;33m=\u001b[0m \u001b[1;36m372\u001b[0m\u001b[1;33m\u001b[0m\u001b[1;33m\u001b[0m\u001b[0m\n\u001b[0;32m      3\u001b[0m \u001b[1;33m\u001b[0m\u001b[0m\n\u001b[1;32m----> 4\u001b[1;33m \u001b[0mmask\u001b[0m \u001b[1;33m=\u001b[0m \u001b[0mnp\u001b[0m\u001b[1;33m.\u001b[0m\u001b[0marray\u001b[0m\u001b[1;33m(\u001b[0m\u001b[1;33m[\u001b[0m\u001b[1;33m(\u001b[0m\u001b[0mi\u001b[0m \u001b[1;33m>=\u001b[0m \u001b[0mTmin\u001b[0m\u001b[1;33m)\u001b[0m \u001b[1;33m&\u001b[0m \u001b[1;33m(\u001b[0m\u001b[0mi\u001b[0m \u001b[1;33m<=\u001b[0m \u001b[0mTmax\u001b[0m\u001b[1;33m)\u001b[0m \u001b[1;32mfor\u001b[0m \u001b[0mi\u001b[0m \u001b[1;32min\u001b[0m \u001b[0mTfinal\u001b[0m\u001b[1;33m]\u001b[0m\u001b[1;33m)\u001b[0m\u001b[1;33m\u001b[0m\u001b[1;33m\u001b[0m\u001b[0m\n\u001b[0m\u001b[0;32m      5\u001b[0m \u001b[1;33m\u001b[0m\u001b[0m\n\u001b[0;32m      6\u001b[0m \u001b[1;31m# Filter requirements.\u001b[0m\u001b[1;33m\u001b[0m\u001b[1;33m\u001b[0m\u001b[1;33m\u001b[0m\u001b[0m\n",
      "\u001b[1;31mNameError\u001b[0m: name 'Tfinal' is not defined"
     ]
    }
   ],
   "source": [
    "Tmin = 368\n",
    "Tmax = 372\n",
    "\n",
    "mask = np.array([(i >= Tmin) & (i <= Tmax) for i in Tfinal])\n",
    "\n",
    "# Filter requirements.\n",
    "period = 5.0         # Sample Period\n",
    "fs = 50       # sample rate, Hz\n",
    "cutoff = .7   # desired cutoff frequency of the filter, Hz , slightly higher than actual 1.2 Hz\n",
    "\n",
    "nyq = 0.5 * fs  # Nyquist Frequency\n",
    "\n",
    "order = 2       # sin wave can be approx represented as quadratic\n",
    "n = int(period * fs) # total number of samples\n",
    "\n",
    "\n",
    "def butter_lowpass_filter(data, cutoff, fs, order):\n",
    "    normal_cutoff = cutoff / nyq\n",
    "    # Get the filter coefficients \n",
    "    b, a = butter(order, normal_cutoff, btype='low', analog=False)\n",
    "    y = filtfilt(b, a, data)\n",
    "    return y\n",
    "\n",
    "\n",
    "\n",
    "Tlp = Tfinal[mask]\n",
    "Clp = butter_lowpass_filter(dCirrep[4][mask], cutoff, fs, order)\n",
    "\n",
    "plt.figure(figsize=(9,6))\n",
    "\n",
    "plt.scatter(Tfinal[mask], dCirrep[4][mask])\n",
    "plt.plot(Tlp, Clp, c='orange')\n",
    "\n",
    "rms = np.sqrt( sum( abs(dCirrep[4][mask]-Clp)**2 ) / len(Clp) )\n",
    "print (rms)"
   ]
  },
  {
   "cell_type": "code",
   "execution_count": null,
   "metadata": {},
   "outputs": [],
   "source": []
  }
 ],
 "metadata": {
  "kernelspec": {
   "display_name": "Python 3",
   "language": "python",
   "name": "python3"
  },
  "language_info": {
   "codemirror_mode": {
    "name": "ipython",
    "version": 3
   },
   "file_extension": ".py",
   "mimetype": "text/x-python",
   "name": "python",
   "nbconvert_exporter": "python",
   "pygments_lexer": "ipython3",
   "version": "3.7.3-final"
  }
 },
 "nbformat": 4,
 "nbformat_minor": 4
}